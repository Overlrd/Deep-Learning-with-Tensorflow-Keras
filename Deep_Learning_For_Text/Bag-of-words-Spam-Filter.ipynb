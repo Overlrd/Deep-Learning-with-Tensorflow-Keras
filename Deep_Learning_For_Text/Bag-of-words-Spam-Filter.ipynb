{
  "nbformat": 4,
  "nbformat_minor": 0,
  "metadata": {
    "colab": {
      "provenance": []
    },
    "kernelspec": {
      "name": "python3",
      "display_name": "Python 3"
    },
    "language_info": {
      "name": "python"
    },
    "accelerator": "GPU",
    "gpuClass": "standard"
  },
  "cells": [
    {
      "cell_type": "code",
      "execution_count": 1,
      "metadata": {
        "colab": {
          "base_uri": "https://localhost:8080/",
          "height": 73
        },
        "id": "PoN_EtSGj7OQ",
        "outputId": "2f386302-016b-4f1a-b486-b29e51fcb739"
      },
      "outputs": [
        {
          "output_type": "display_data",
          "data": {
            "text/plain": [
              "<IPython.core.display.HTML object>"
            ],
            "text/html": [
              "\n",
              "     <input type=\"file\" id=\"files-46859e7f-d586-44c6-b6a8-3fc9991cc532\" name=\"files[]\" multiple disabled\n",
              "        style=\"border:none\" />\n",
              "     <output id=\"result-46859e7f-d586-44c6-b6a8-3fc9991cc532\">\n",
              "      Upload widget is only available when the cell has been executed in the\n",
              "      current browser session. Please rerun this cell to enable.\n",
              "      </output>\n",
              "      <script>// Copyright 2017 Google LLC\n",
              "//\n",
              "// Licensed under the Apache License, Version 2.0 (the \"License\");\n",
              "// you may not use this file except in compliance with the License.\n",
              "// You may obtain a copy of the License at\n",
              "//\n",
              "//      http://www.apache.org/licenses/LICENSE-2.0\n",
              "//\n",
              "// Unless required by applicable law or agreed to in writing, software\n",
              "// distributed under the License is distributed on an \"AS IS\" BASIS,\n",
              "// WITHOUT WARRANTIES OR CONDITIONS OF ANY KIND, either express or implied.\n",
              "// See the License for the specific language governing permissions and\n",
              "// limitations under the License.\n",
              "\n",
              "/**\n",
              " * @fileoverview Helpers for google.colab Python module.\n",
              " */\n",
              "(function(scope) {\n",
              "function span(text, styleAttributes = {}) {\n",
              "  const element = document.createElement('span');\n",
              "  element.textContent = text;\n",
              "  for (const key of Object.keys(styleAttributes)) {\n",
              "    element.style[key] = styleAttributes[key];\n",
              "  }\n",
              "  return element;\n",
              "}\n",
              "\n",
              "// Max number of bytes which will be uploaded at a time.\n",
              "const MAX_PAYLOAD_SIZE = 100 * 1024;\n",
              "\n",
              "function _uploadFiles(inputId, outputId) {\n",
              "  const steps = uploadFilesStep(inputId, outputId);\n",
              "  const outputElement = document.getElementById(outputId);\n",
              "  // Cache steps on the outputElement to make it available for the next call\n",
              "  // to uploadFilesContinue from Python.\n",
              "  outputElement.steps = steps;\n",
              "\n",
              "  return _uploadFilesContinue(outputId);\n",
              "}\n",
              "\n",
              "// This is roughly an async generator (not supported in the browser yet),\n",
              "// where there are multiple asynchronous steps and the Python side is going\n",
              "// to poll for completion of each step.\n",
              "// This uses a Promise to block the python side on completion of each step,\n",
              "// then passes the result of the previous step as the input to the next step.\n",
              "function _uploadFilesContinue(outputId) {\n",
              "  const outputElement = document.getElementById(outputId);\n",
              "  const steps = outputElement.steps;\n",
              "\n",
              "  const next = steps.next(outputElement.lastPromiseValue);\n",
              "  return Promise.resolve(next.value.promise).then((value) => {\n",
              "    // Cache the last promise value to make it available to the next\n",
              "    // step of the generator.\n",
              "    outputElement.lastPromiseValue = value;\n",
              "    return next.value.response;\n",
              "  });\n",
              "}\n",
              "\n",
              "/**\n",
              " * Generator function which is called between each async step of the upload\n",
              " * process.\n",
              " * @param {string} inputId Element ID of the input file picker element.\n",
              " * @param {string} outputId Element ID of the output display.\n",
              " * @return {!Iterable<!Object>} Iterable of next steps.\n",
              " */\n",
              "function* uploadFilesStep(inputId, outputId) {\n",
              "  const inputElement = document.getElementById(inputId);\n",
              "  inputElement.disabled = false;\n",
              "\n",
              "  const outputElement = document.getElementById(outputId);\n",
              "  outputElement.innerHTML = '';\n",
              "\n",
              "  const pickedPromise = new Promise((resolve) => {\n",
              "    inputElement.addEventListener('change', (e) => {\n",
              "      resolve(e.target.files);\n",
              "    });\n",
              "  });\n",
              "\n",
              "  const cancel = document.createElement('button');\n",
              "  inputElement.parentElement.appendChild(cancel);\n",
              "  cancel.textContent = 'Cancel upload';\n",
              "  const cancelPromise = new Promise((resolve) => {\n",
              "    cancel.onclick = () => {\n",
              "      resolve(null);\n",
              "    };\n",
              "  });\n",
              "\n",
              "  // Wait for the user to pick the files.\n",
              "  const files = yield {\n",
              "    promise: Promise.race([pickedPromise, cancelPromise]),\n",
              "    response: {\n",
              "      action: 'starting',\n",
              "    }\n",
              "  };\n",
              "\n",
              "  cancel.remove();\n",
              "\n",
              "  // Disable the input element since further picks are not allowed.\n",
              "  inputElement.disabled = true;\n",
              "\n",
              "  if (!files) {\n",
              "    return {\n",
              "      response: {\n",
              "        action: 'complete',\n",
              "      }\n",
              "    };\n",
              "  }\n",
              "\n",
              "  for (const file of files) {\n",
              "    const li = document.createElement('li');\n",
              "    li.append(span(file.name, {fontWeight: 'bold'}));\n",
              "    li.append(span(\n",
              "        `(${file.type || 'n/a'}) - ${file.size} bytes, ` +\n",
              "        `last modified: ${\n",
              "            file.lastModifiedDate ? file.lastModifiedDate.toLocaleDateString() :\n",
              "                                    'n/a'} - `));\n",
              "    const percent = span('0% done');\n",
              "    li.appendChild(percent);\n",
              "\n",
              "    outputElement.appendChild(li);\n",
              "\n",
              "    const fileDataPromise = new Promise((resolve) => {\n",
              "      const reader = new FileReader();\n",
              "      reader.onload = (e) => {\n",
              "        resolve(e.target.result);\n",
              "      };\n",
              "      reader.readAsArrayBuffer(file);\n",
              "    });\n",
              "    // Wait for the data to be ready.\n",
              "    let fileData = yield {\n",
              "      promise: fileDataPromise,\n",
              "      response: {\n",
              "        action: 'continue',\n",
              "      }\n",
              "    };\n",
              "\n",
              "    // Use a chunked sending to avoid message size limits. See b/62115660.\n",
              "    let position = 0;\n",
              "    do {\n",
              "      const length = Math.min(fileData.byteLength - position, MAX_PAYLOAD_SIZE);\n",
              "      const chunk = new Uint8Array(fileData, position, length);\n",
              "      position += length;\n",
              "\n",
              "      const base64 = btoa(String.fromCharCode.apply(null, chunk));\n",
              "      yield {\n",
              "        response: {\n",
              "          action: 'append',\n",
              "          file: file.name,\n",
              "          data: base64,\n",
              "        },\n",
              "      };\n",
              "\n",
              "      let percentDone = fileData.byteLength === 0 ?\n",
              "          100 :\n",
              "          Math.round((position / fileData.byteLength) * 100);\n",
              "      percent.textContent = `${percentDone}% done`;\n",
              "\n",
              "    } while (position < fileData.byteLength);\n",
              "  }\n",
              "\n",
              "  // All done.\n",
              "  yield {\n",
              "    response: {\n",
              "      action: 'complete',\n",
              "    }\n",
              "  };\n",
              "}\n",
              "\n",
              "scope.google = scope.google || {};\n",
              "scope.google.colab = scope.google.colab || {};\n",
              "scope.google.colab._files = {\n",
              "  _uploadFiles,\n",
              "  _uploadFilesContinue,\n",
              "};\n",
              "})(self);\n",
              "</script> "
            ]
          },
          "metadata": {}
        },
        {
          "output_type": "stream",
          "name": "stdout",
          "text": [
            "Saving kaggle.json to kaggle.json\n"
          ]
        }
      ],
      "source": [
        "from google.colab import files\n",
        "data_to_load = files.upload()"
      ]
    },
    {
      "cell_type": "code",
      "source": [
        "! mkdir ~/.kaggle\n",
        "! mv kaggle.json ~/.kaggle/\n",
        "! chmod 600 /root/.kaggle/kaggle.json"
      ],
      "metadata": {
        "id": "jZFUMzqZmPa_"
      },
      "execution_count": 2,
      "outputs": []
    },
    {
      "cell_type": "code",
      "source": [
        "! kaggle datasets download -d augustinkpadonou/spam-ham-filter"
      ],
      "metadata": {
        "colab": {
          "base_uri": "https://localhost:8080/"
        },
        "id": "sP0hCIiWmWSr",
        "outputId": "64eed608-b418-4a54-93a8-f152a1e272e7"
      },
      "execution_count": 3,
      "outputs": [
        {
          "output_type": "stream",
          "name": "stdout",
          "text": [
            "Downloading spam-ham-filter.zip to /content\n",
            "\r  0% 0.00/934k [00:00<?, ?B/s]\n",
            "\r100% 934k/934k [00:00<00:00, 104MB/s]\n"
          ]
        }
      ]
    },
    {
      "cell_type": "code",
      "source": [
        "! unzip spam-ham-filter.zip"
      ],
      "metadata": {
        "id": "Fq1a2edYmatL"
      },
      "execution_count": null,
      "outputs": []
    },
    {
      "cell_type": "code",
      "source": [
        "import os \n",
        "import pathlib \n",
        "import shutil\n",
        "import random\n",
        "\n",
        "base_dir = pathlib.Path(\"spam-filter-data\")\n",
        "val_dir = base_dir / \"val\"\n",
        "train_dir = base_dir / \"train\"\n",
        "\n",
        "for category in (\"spam\",\"ham\"):\n",
        "  os.makedirs(val_dir / category)\n",
        "  files = os.listdir(train_dir / category)\n",
        "  random.Random(1337).shuffle(files)\n",
        "  num_val_samples = int(0.2 * len(files))\n",
        "  val_files = files[-num_val_samples:]\n",
        "  for fname in val_files :\n",
        "    shutil.move(train_dir / category / fname,\n",
        "                val_dir / category / fname)"
      ],
      "metadata": {
        "id": "3ZnTtjdHmiVD"
      },
      "execution_count": 5,
      "outputs": []
    },
    {
      "cell_type": "code",
      "source": [
        "import tensorflow as tf\n",
        "from tensorflow import keras \n",
        "from keras import layers  \n",
        "from keras.layers import TextVectorization"
      ],
      "metadata": {
        "id": "ahHNx6Vjpjy6"
      },
      "execution_count": 6,
      "outputs": []
    },
    {
      "cell_type": "code",
      "source": [
        "batch_size = 32 \n",
        "\n",
        "train_ds = keras.utils.text_dataset_from_directory(\"spam-filter-data/train\",\n",
        "                                                   batch_size=batch_size)\n",
        "\n",
        "val_ds = keras.utils.text_dataset_from_directory(\"spam-filter-data/val\",\n",
        "                                                 batch_size = batch_size)\n",
        "\n",
        "test_ds = keras.utils.text_dataset_from_directory(\"spam-filter-data/test\",\n",
        "                                                  batch_size=batch_size)"
      ],
      "metadata": {
        "colab": {
          "base_uri": "https://localhost:8080/"
        },
        "id": "hymTUlMppwfS",
        "outputId": "09ae155e-a4a1-44bd-9ba9-d3af13ba93d4"
      },
      "execution_count": 7,
      "outputs": [
        {
          "output_type": "stream",
          "name": "stdout",
          "text": [
            "Found 560 files belonging to 2 classes.\n",
            "Found 140 files belonging to 2 classes.\n",
            "Found 260 files belonging to 2 classes.\n"
          ]
        }
      ]
    },
    {
      "cell_type": "code",
      "source": [
        "# Displaying the shapes and dtypes of the first batch\n",
        "\n",
        "for inputs , targets in train_ds :\n",
        "  print(\"inputs.shape:\", inputs.shape)\n",
        "  print(\"inputs.dtype:\", inputs.dtype)\n",
        "  print(\"targets.shape:\", targets.shape)\n",
        "  print(\"targets.dtype:\", targets.dtype)\n",
        "  print(\"inputs[0]:\", inputs[5])\n",
        "  print(\"targets[0]:\", targets[5])\n",
        "  break"
      ],
      "metadata": {
        "colab": {
          "base_uri": "https://localhost:8080/"
        },
        "id": "iipUJfeRqP4E",
        "outputId": "2ef8bd16-79df-4e8f-8eb3-fde42d31371a"
      },
      "execution_count": 47,
      "outputs": [
        {
          "output_type": "stream",
          "name": "stdout",
          "text": [
            "inputs.shape: (32,)\n",
            "inputs.dtype: <dtype: 'string'>\n",
            "targets.shape: (32,)\n",
            "targets.dtype: <dtype: 'int32'>\n",
            "inputs[0]: tf.Tensor(b'consolidate debt home improvement is limitedtime offer homeowners remove instruction bottom email homeowner are entitled free consultation are interest home improvement consolidate monthly bill reduce payment unanticipate need least reason are owner occupant single family free stand residence day s important ever most own home help ve create variety unique finance program option remember valuable information absolutely free learn hour preapproval equity consolidate bills home improvements pay college buy car boat even nd home save thousands yearly interest payments even re selfemployed heavy debt been previously declined t prove income plus certain program s prepayment penalty appraisal required thousand already respond help however offer available indefinitely act receive complimentary confidential consultation click highlight link below http www assetmax com cgibin ph asmvln vbanaqeanvsuprqpnpphx mail reader support clickable link copy above url web browser simply email reply reply voice our hour message machine follow information name street address city state zip home phone best senior loan officer call business phone best senior loan officer call estimate current market value home estimate current mortgage balance amount borrow qualify options mail intend interest large audience communicate valuable offer interest offer advise valuable promotion feature future mailing interest however desire receive offer value us future please email us remove subject remove mail list click below remove yourself mail http www assetmax com cgibin ph asmvrem vbanaqeanvsuprqpnpphx copyright asset max information contain email message publish broadcast rewrite otherwise distribute without express write consent asset max offer void where prohibit law ', shape=(), dtype=string)\n",
            "targets[0]: tf.Tensor(1, shape=(), dtype=int32)\n"
          ]
        }
      ]
    },
    {
      "cell_type": "code",
      "source": [],
      "metadata": {
        "id": "qbBKTFR0q0rC"
      },
      "execution_count": null,
      "outputs": []
    },
    {
      "cell_type": "markdown",
      "source": [
        "## Processing words as a set: The bag-of-words approach"
      ],
      "metadata": {
        "id": "d4IrW0QCq1Gf"
      }
    },
    {
      "cell_type": "code",
      "source": [
        "# Preprocessing our datasets with a TextVectorization layer\n",
        "\n",
        "text_vectorization = TextVectorization(\n",
        "    max_tokens=10000, \n",
        "    output_mode = \"multi_hot\"\n",
        ")\n",
        "\n",
        "text_only_train_ds = train_ds.map(lambda x,y : x)\n",
        "text_vectorization.adapt(text_only_train_ds)"
      ],
      "metadata": {
        "id": "u4nGgMNRq3kA"
      },
      "execution_count": 13,
      "outputs": []
    },
    {
      "cell_type": "code",
      "source": [
        "binary_1gram_train_ds = train_ds.map(\n",
        "          lambda x, y: (text_vectorization(x), y),\n",
        "          num_parallel_calls=4)\n",
        "\n",
        "binary_1gram_val_ds = val_ds.map(\n",
        "          lambda x, y: (text_vectorization(x), y),\n",
        "          num_parallel_calls=4)\n",
        "\n",
        "binary_1gram_test_ds = test_ds.map(\n",
        "          lambda x, y: (text_vectorization(x), y),\n",
        "          num_parallel_calls=4)"
      ],
      "metadata": {
        "id": "sfWzAxtirYZW"
      },
      "execution_count": 14,
      "outputs": []
    },
    {
      "cell_type": "code",
      "source": [
        "for inputs , targets in binary_1gram_train_ds :\n",
        "  print(\"inputs.shape:\", inputs.shape)\n",
        "  print(\"inputs.dtype:\", inputs.dtype)\n",
        "  print(\"targets.shape:\", targets.shape)\n",
        "  print(\"targets.dtype:\", targets.dtype)\n",
        "  print(\"inputs[0]:\", inputs[0])\n",
        "  print(\"targets[0]:\", targets[0])\n",
        "  break"
      ],
      "metadata": {
        "colab": {
          "base_uri": "https://localhost:8080/"
        },
        "id": "7-huk3XYrmGZ",
        "outputId": "cca18b52-e8f6-407d-cea9-6adab9ae6656"
      },
      "execution_count": 37,
      "outputs": [
        {
          "output_type": "stream",
          "name": "stdout",
          "text": [
            "inputs.shape: (32, 10000)\n",
            "inputs.dtype: <dtype: 'float32'>\n",
            "targets.shape: (32,)\n",
            "targets.dtype: <dtype: 'int32'>\n",
            "inputs[0]: tf.Tensor([1. 0. 1. ... 0. 0. 0.], shape=(10000,), dtype=float32)\n",
            "targets[0]: tf.Tensor(0, shape=(), dtype=int32)\n"
          ]
        }
      ]
    },
    {
      "cell_type": "code",
      "source": [
        "\n",
        "def get_model(max_tokens=10000, hidden_dense=16):\n",
        "  tf.keras.backend.clear_session()\n",
        "  inputs = keras.Input(shape=(max_tokens ,))\n",
        "  x = layers.Dense(hidden_dense, activation=\"relu\")(inputs)\n",
        "  x = layers.Dropout(0.5)(x)\n",
        "  outputs = layers.Dense(1, activation=\"sigmoid\")(x)\n",
        "\n",
        "  model = keras.Model(inputs, outputs)\n",
        "  model.compile(optimizer=\"rmsprop\",\n",
        "                loss=\"binary_crossentropy\",\n",
        "                metrics=[\"accuracy\"])\n",
        "  return model "
      ],
      "metadata": {
        "id": "w6aj1TgOr1d3"
      },
      "execution_count": 20,
      "outputs": []
    },
    {
      "cell_type": "code",
      "source": [
        "model = get_model()\n",
        "model.summary()"
      ],
      "metadata": {
        "colab": {
          "base_uri": "https://localhost:8080/"
        },
        "id": "lkaVJ1-ks9oD",
        "outputId": "3ede2d31-67a4-4ee7-830f-b89a0cef70f2"
      },
      "execution_count": 21,
      "outputs": [
        {
          "output_type": "stream",
          "name": "stdout",
          "text": [
            "Model: \"model\"\n",
            "_________________________________________________________________\n",
            " Layer (type)                Output Shape              Param #   \n",
            "=================================================================\n",
            " input_1 (InputLayer)        [(None, 10000)]           0         \n",
            "                                                                 \n",
            " dense (Dense)               (None, 16)                160016    \n",
            "                                                                 \n",
            " dropout (Dropout)           (None, 16)                0         \n",
            "                                                                 \n",
            " dense_1 (Dense)             (None, 1)                 17        \n",
            "                                                                 \n",
            "=================================================================\n",
            "Total params: 160,033\n",
            "Trainable params: 160,033\n",
            "Non-trainable params: 0\n",
            "_________________________________________________________________\n"
          ]
        }
      ]
    },
    {
      "cell_type": "code",
      "source": [
        "callbacks = [keras.callbacks.ModelCheckpoint(\"binary_1gram.keras\",\n",
        "                                save_best_only=True)]\n",
        "\n",
        "model.fit(binary_1gram_train_ds.cache(), \n",
        "          validation_data = binary_1gram_val_ds.cache(),\n",
        "          epochs = 10 ,\n",
        "          callbacks= callbacks)"
      ],
      "metadata": {
        "colab": {
          "base_uri": "https://localhost:8080/"
        },
        "id": "Vfwz4ILJs_1F",
        "outputId": "b65f9483-7330-41ba-9388-ff21f83dbfb4"
      },
      "execution_count": 22,
      "outputs": [
        {
          "output_type": "stream",
          "name": "stdout",
          "text": [
            "Epoch 1/10\n",
            "18/18 [==============================] - 6s 18ms/step - loss: 0.4178 - accuracy: 0.8929 - val_loss: 0.2030 - val_accuracy: 0.9857\n",
            "Epoch 2/10\n",
            "18/18 [==============================] - 0s 6ms/step - loss: 0.1945 - accuracy: 0.9893 - val_loss: 0.1295 - val_accuracy: 0.9857\n",
            "Epoch 3/10\n",
            "18/18 [==============================] - 0s 5ms/step - loss: 0.1348 - accuracy: 0.9839 - val_loss: 0.0939 - val_accuracy: 0.9857\n",
            "Epoch 4/10\n",
            "18/18 [==============================] - 0s 5ms/step - loss: 0.0984 - accuracy: 0.9893 - val_loss: 0.0732 - val_accuracy: 0.9857\n",
            "Epoch 5/10\n",
            "18/18 [==============================] - 0s 6ms/step - loss: 0.0731 - accuracy: 0.9982 - val_loss: 0.0587 - val_accuracy: 0.9857\n",
            "Epoch 6/10\n",
            "18/18 [==============================] - 0s 5ms/step - loss: 0.0576 - accuracy: 0.9946 - val_loss: 0.0509 - val_accuracy: 0.9857\n",
            "Epoch 7/10\n",
            "18/18 [==============================] - 0s 5ms/step - loss: 0.0479 - accuracy: 0.9964 - val_loss: 0.0443 - val_accuracy: 0.9857\n",
            "Epoch 8/10\n",
            "18/18 [==============================] - 0s 6ms/step - loss: 0.0431 - accuracy: 0.9964 - val_loss: 0.0406 - val_accuracy: 0.9857\n",
            "Epoch 9/10\n",
            "18/18 [==============================] - 0s 5ms/step - loss: 0.0330 - accuracy: 1.0000 - val_loss: 0.0375 - val_accuracy: 0.9857\n",
            "Epoch 10/10\n",
            "18/18 [==============================] - 0s 5ms/step - loss: 0.0248 - accuracy: 0.9982 - val_loss: 0.0338 - val_accuracy: 0.9857\n"
          ]
        },
        {
          "output_type": "execute_result",
          "data": {
            "text/plain": [
              "<keras.callbacks.History at 0x7f7ed617cbb0>"
            ]
          },
          "metadata": {},
          "execution_count": 22
        }
      ]
    },
    {
      "cell_type": "code",
      "source": [
        "model = keras.models.load_model(\"binary_1gram.keras\")\n",
        "print(f\"Test acc: {model.evaluate(binary_1gram_test_ds)[1]:.3f}\")"
      ],
      "metadata": {
        "colab": {
          "base_uri": "https://localhost:8080/"
        },
        "id": "GcMmvns3tfZf",
        "outputId": "adc6a80b-b519-4d15-8860-bab1cd625a32"
      },
      "execution_count": 40,
      "outputs": [
        {
          "output_type": "stream",
          "name": "stdout",
          "text": [
            "9/9 [==============================] - 0s 4ms/step - loss: 0.0395 - accuracy: 0.9962\n",
            "Test acc: 0.996\n"
          ]
        }
      ]
    },
    {
      "cell_type": "code",
      "source": [
        "prompt = input(\"Enter a prompt :\")"
      ],
      "metadata": {
        "id": "ooIw_FEdzAwp"
      },
      "execution_count": null,
      "outputs": []
    },
    {
      "cell_type": "code",
      "source": [
        "import numpy as np       \n",
        "prompt = text_vectorization(prompt)\n",
        "prompt = np.expand_dims(prompt, axis=0)"
      ],
      "metadata": {
        "id": "hcmy1h1euDF-"
      },
      "execution_count": 68,
      "outputs": []
    },
    {
      "cell_type": "code",
      "source": [
        "model.predict(prompt)"
      ],
      "metadata": {
        "id": "5JIpk37LurR7"
      },
      "execution_count": null,
      "outputs": []
    }
  ]
}