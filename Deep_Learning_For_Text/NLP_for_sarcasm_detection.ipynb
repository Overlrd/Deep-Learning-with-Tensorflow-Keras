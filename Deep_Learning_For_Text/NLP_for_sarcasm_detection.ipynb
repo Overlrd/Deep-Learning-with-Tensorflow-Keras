{
  "nbformat": 4,
  "nbformat_minor": 0,
  "metadata": {
    "colab": {
      "provenance": []
    },
    "kernelspec": {
      "name": "python3",
      "display_name": "Python 3"
    },
    "language_info": {
      "name": "python"
    },
    "accelerator": "GPU",
    "gpuClass": "standard"
  },
  "cells": [
    {
      "cell_type": "code",
      "execution_count": 3,
      "metadata": {
        "colab": {
          "base_uri": "https://localhost:8080/"
        },
        "id": "bdS4jagEPK11",
        "outputId": "6b917865-c9c4-421b-8a52-9355b13f0304"
      },
      "outputs": [
        {
          "output_type": "stream",
          "name": "stdout",
          "text": [
            "--2023-04-05 08:14:05--  https://storage.googleapis.com/tensorflow-1-public/course3/sarcasm.json\n",
            "Resolving storage.googleapis.com (storage.googleapis.com)... 142.251.10.128, 142.251.12.128, 172.217.194.128, ...\n",
            "Connecting to storage.googleapis.com (storage.googleapis.com)|142.251.10.128|:443... connected.\n",
            "HTTP request sent, awaiting response... 200 OK\n",
            "Length: 5643545 (5.4M) [application/json]\n",
            "Saving to: ‘sarcasm.json’\n",
            "\n",
            "sarcasm.json        100%[===================>]   5.38M  4.58MB/s    in 1.2s    \n",
            "\n",
            "2023-04-05 08:14:07 (4.58 MB/s) - ‘sarcasm.json’ saved [5643545/5643545]\n",
            "\n"
          ]
        }
      ],
      "source": [
        "!wget https://storage.googleapis.com/tensorflow-1-public/course3/sarcasm.json"
      ]
    },
    {
      "cell_type": "code",
      "source": [
        "import tensorflow as tf   \n",
        "from tensorflow import keras \n",
        "from keras import layers\n",
        "from keras.layers import TextVectorization\n",
        "import numpy as np\n",
        "from sklearn.model_selection import train_test_split"
      ],
      "metadata": {
        "id": "duDm9huURkXJ"
      },
      "execution_count": 4,
      "outputs": []
    },
    {
      "cell_type": "code",
      "source": [
        "import json \n",
        "\n",
        "with open('sarcasm.json', 'r') as f :\n",
        "  datastore = json.load(f)"
      ],
      "metadata": {
        "id": "e6BN4EIpPT8b"
      },
      "execution_count": 107,
      "outputs": []
    },
    {
      "cell_type": "code",
      "source": [
        "print(\"datastore type\", type(datastore))\n",
        "print(\"datastore[0] type\", type(datastore[0]))\n",
        "print(\"datastore[0]\", datastore[0])"
      ],
      "metadata": {
        "colab": {
          "base_uri": "https://localhost:8080/"
        },
        "id": "H58iSYXRPprS",
        "outputId": "2fc2f3d6-03f8-4486-d510-1344b61740be"
      },
      "execution_count": 108,
      "outputs": [
        {
          "output_type": "stream",
          "name": "stdout",
          "text": [
            "datastore type <class 'list'>\n",
            "datastore[0] type <class 'dict'>\n",
            "datastore[0] {'article_link': 'https://www.huffingtonpost.com/entry/versace-black-code_us_5861fbefe4b0de3a08f600d5', 'headline': \"former versace store clerk sues over secret 'black code' for minority shoppers\", 'is_sarcastic': 0}\n"
          ]
        }
      ]
    },
    {
      "cell_type": "code",
      "source": [
        "labels = []\n",
        "sentences = []\n",
        "\n",
        "for item in datastore:\n",
        "  sentences.append(item['headline'])\n",
        "  labels.append(item['is_sarcastic'])\n",
        "\n",
        "print(\"sentences len\",  len(sentences))\n",
        "print(\"labels len\", len(labels))\n",
        "print(\"sentences[0]\", sentences[0])  \n",
        "print(\"labels[0]\", labels[0])"
      ],
      "metadata": {
        "colab": {
          "base_uri": "https://localhost:8080/"
        },
        "id": "A9RGTm0sPq_d",
        "outputId": "3536f1ac-9ffc-4a4e-8eb9-7dd83e24072c"
      },
      "execution_count": 109,
      "outputs": [
        {
          "output_type": "stream",
          "name": "stdout",
          "text": [
            "sentences len 26709\n",
            "labels len 26709\n",
            "sentences[0] former versace store clerk sues over secret 'black code' for minority shoppers\n",
            "labels[0] 0\n"
          ]
        }
      ]
    },
    {
      "cell_type": "code",
      "source": [
        "max_length = 0\n",
        "sentence = ''\n",
        "for i in sentences : \n",
        "  if len(i) >= max_length:\n",
        "    max_length = len(i)\n",
        "print(max_length)"
      ],
      "metadata": {
        "colab": {
          "base_uri": "https://localhost:8080/"
        },
        "id": "OO7azaQyoZye",
        "outputId": "ba06fd38-9ba2-46ee-c76e-75e4fa9a0956"
      },
      "execution_count": 112,
      "outputs": [
        {
          "output_type": "stream",
          "name": "stdout",
          "text": [
            "254\n"
          ]
        }
      ]
    },
    {
      "cell_type": "code",
      "source": [
        "sentences = np.array(sentences)\n",
        "labels = np.array(labels)"
      ],
      "metadata": {
        "id": "51aDF4KtRwJE"
      },
      "execution_count": 113,
      "outputs": []
    },
    {
      "cell_type": "code",
      "source": [
        "def make_dataset(features , labels):\n",
        "  ds = tf.data.Dataset.from_tensor_slices((features, labels))\n",
        "  ds = ds.shuffle(buffer_size=len(features))\n",
        "  ds = ds.batch(batch_size=32)\n",
        "  return ds "
      ],
      "metadata": {
        "id": "M6tRoeL1QzRl"
      },
      "execution_count": 114,
      "outputs": []
    },
    {
      "cell_type": "code",
      "source": [
        "train_sentences , test_sentences , train_labels , test_labels = train_test_split(sentences, labels, test_size=0.2, random_state=42 )\n",
        "train_sentences , val_sentences , train_labels, val_labels = train_test_split(train_sentences , train_labels , test_size=0.25, random_state=42)"
      ],
      "metadata": {
        "id": "dnjTnNqzR5DG"
      },
      "execution_count": 115,
      "outputs": []
    },
    {
      "cell_type": "code",
      "source": [
        "train_ds = make_dataset(train_sentences , train_labels)\n",
        "val_ds = make_dataset(val_sentences , val_labels)\n",
        "test_ds = make_dataset(test_sentences , test_labels)"
      ],
      "metadata": {
        "id": "Q-aOUT6nSG4J"
      },
      "execution_count": 116,
      "outputs": []
    },
    {
      "cell_type": "code",
      "source": [
        "# bag of words approach ,\n",
        "# preprocessing with TextVectorization\n",
        "# 1gram \n",
        "\n",
        "text_vectorization = TextVectorization(\n",
        "    max_tokens = 10000,\n",
        "    output_mode = \"multi_hot\",\n",
        ")"
      ],
      "metadata": {
        "id": "P0bXRb95VCcQ"
      },
      "execution_count": 117,
      "outputs": []
    },
    {
      "cell_type": "code",
      "source": [
        "text_only_train_ds = train_ds.map(lambda x, y: x)\n",
        "text_vectorization.adapt(text_only_train_ds)\n",
        "\n",
        "binary_1gram_train_ds = train_ds.map(\n",
        "    lambda x, y: (text_vectorization(x), y),\n",
        "    num_parallel_calls=4)\n",
        "\n",
        "binary_1gram_val_ds = val_ds.map(\n",
        "    lambda x, y: (text_vectorization(x), y),\n",
        "    num_parallel_calls=4)\n",
        "\n",
        "binary_1gram_test_ds = test_ds.map(\n",
        "    lambda x, y: (text_vectorization(x), y),\n",
        "    num_parallel_calls=4)"
      ],
      "metadata": {
        "id": "Z7XxIC6eVb8H"
      },
      "execution_count": 118,
      "outputs": []
    },
    {
      "cell_type": "code",
      "source": [
        "for inputs, targets in binary_1gram_train_ds:\n",
        "  print(\"inputs.shape:\", inputs.shape)\n",
        "  print(\"inputs.dtype:\", inputs.dtype)\n",
        "  print(\"targets.shape:\", targets.shape)\n",
        "  print(\"targets.dtype:\", targets.dtype)\n",
        "  print(\"inputs[0]:\", inputs[0])\n",
        "  print(\"targets[0]:\", targets[0])\n",
        "  break"
      ],
      "metadata": {
        "colab": {
          "base_uri": "https://localhost:8080/"
        },
        "id": "fCVKA8PnVnhR",
        "outputId": "ac8635f5-adf5-4681-af57-c5da6a4133bc"
      },
      "execution_count": 119,
      "outputs": [
        {
          "output_type": "stream",
          "name": "stdout",
          "text": [
            "inputs.shape: (32, 10000)\n",
            "inputs.dtype: <dtype: 'float32'>\n",
            "targets.shape: (32,)\n",
            "targets.dtype: <dtype: 'int64'>\n",
            "inputs[0]: tf.Tensor([1. 0. 0. ... 0. 0. 0.], shape=(10000,), dtype=float32)\n",
            "targets[0]: tf.Tensor(1, shape=(), dtype=int64)\n"
          ]
        }
      ]
    },
    {
      "cell_type": "code",
      "source": [
        "def get_model(max_tokens=10000, hidden_dim=16):\n",
        "  tf.keras.backend.clear_session()\n",
        "  \n",
        "  inputs = keras.Input(shape=(max_tokens,))\n",
        "  x = layers.Dense(hidden_dim, activation=\"relu\")(inputs)\n",
        "  x = layers.Dropout(0.5)(x)\n",
        "  outputs = layers.Dense(1, activation=\"sigmoid\")(x)\n",
        "  model = keras.Model(inputs, outputs)\n",
        "\n",
        "  model.compile(optimizer=\"rmsprop\",\n",
        "        loss=\"binary_crossentropy\",\n",
        "        metrics=[\"accuracy\"])\n",
        "  \n",
        "  return model"
      ],
      "metadata": {
        "id": "0caCxDXBVx-b"
      },
      "execution_count": 120,
      "outputs": []
    },
    {
      "cell_type": "code",
      "source": [
        "model = get_model()\n",
        "model.summary()"
      ],
      "metadata": {
        "colab": {
          "base_uri": "https://localhost:8080/"
        },
        "id": "F4SjD38hWFzk",
        "outputId": "4a2442c0-075d-4281-e5ee-d71336f244ce"
      },
      "execution_count": 121,
      "outputs": [
        {
          "output_type": "stream",
          "name": "stdout",
          "text": [
            "Model: \"model\"\n",
            "_________________________________________________________________\n",
            " Layer (type)                Output Shape              Param #   \n",
            "=================================================================\n",
            " input_1 (InputLayer)        [(None, 10000)]           0         \n",
            "                                                                 \n",
            " dense (Dense)               (None, 16)                160016    \n",
            "                                                                 \n",
            " dropout (Dropout)           (None, 16)                0         \n",
            "                                                                 \n",
            " dense_1 (Dense)             (None, 1)                 17        \n",
            "                                                                 \n",
            "=================================================================\n",
            "Total params: 160,033\n",
            "Trainable params: 160,033\n",
            "Non-trainable params: 0\n",
            "_________________________________________________________________\n"
          ]
        }
      ]
    },
    {
      "cell_type": "code",
      "source": [
        "callbacks = [keras.callbacks.ModelCheckpoint(\"binary_1gram.keras\",save_best_only=True)]\n",
        "\n",
        "model.fit(binary_1gram_train_ds , \n",
        "          validation_data = binary_1gram_val_ds ,\n",
        "          epochs = 10,\n",
        "          callbacks = callbacks)"
      ],
      "metadata": {
        "colab": {
          "base_uri": "https://localhost:8080/"
        },
        "id": "wrz5WN9tWIuJ",
        "outputId": "9d872f46-8875-4ed0-dc4f-02d387e6ac9b"
      },
      "execution_count": 122,
      "outputs": [
        {
          "output_type": "stream",
          "name": "stdout",
          "text": [
            "Epoch 1/10\n",
            "501/501 [==============================] - 4s 5ms/step - loss: 0.5621 - accuracy: 0.7422 - val_loss: 0.4529 - val_accuracy: 0.8102\n",
            "Epoch 2/10\n",
            "501/501 [==============================] - 3s 5ms/step - loss: 0.4285 - accuracy: 0.8223 - val_loss: 0.3967 - val_accuracy: 0.8222\n",
            "Epoch 3/10\n",
            "501/501 [==============================] - 3s 6ms/step - loss: 0.3748 - accuracy: 0.8487 - val_loss: 0.3740 - val_accuracy: 0.8362\n",
            "Epoch 4/10\n",
            "501/501 [==============================] - 3s 5ms/step - loss: 0.3457 - accuracy: 0.8621 - val_loss: 0.3659 - val_accuracy: 0.8398\n",
            "Epoch 5/10\n",
            "501/501 [==============================] - 2s 5ms/step - loss: 0.3267 - accuracy: 0.8762 - val_loss: 0.3640 - val_accuracy: 0.8411\n",
            "Epoch 6/10\n",
            "501/501 [==============================] - 3s 5ms/step - loss: 0.3124 - accuracy: 0.8835 - val_loss: 0.3666 - val_accuracy: 0.8409\n",
            "Epoch 7/10\n",
            "501/501 [==============================] - 2s 5ms/step - loss: 0.2986 - accuracy: 0.8869 - val_loss: 0.3701 - val_accuracy: 0.8428\n",
            "Epoch 8/10\n",
            "501/501 [==============================] - 3s 6ms/step - loss: 0.2942 - accuracy: 0.8942 - val_loss: 0.3762 - val_accuracy: 0.8413\n",
            "Epoch 9/10\n",
            "501/501 [==============================] - 2s 5ms/step - loss: 0.2808 - accuracy: 0.8977 - val_loss: 0.3763 - val_accuracy: 0.8386\n",
            "Epoch 10/10\n",
            "501/501 [==============================] - 3s 5ms/step - loss: 0.2747 - accuracy: 0.9016 - val_loss: 0.3818 - val_accuracy: 0.8385\n"
          ]
        },
        {
          "output_type": "execute_result",
          "data": {
            "text/plain": [
              "<keras.callbacks.History at 0x7f8299bcad60>"
            ]
          },
          "metadata": {},
          "execution_count": 122
        }
      ]
    },
    {
      "cell_type": "code",
      "source": [
        "model = keras.models.load_model(\"binary_1gram.keras\")\n",
        "print(f\"Test acc: {model.evaluate(binary_1gram_test_ds)[1]:.3f}\")"
      ],
      "metadata": {
        "colab": {
          "base_uri": "https://localhost:8080/"
        },
        "id": "a5LBHjQeWbl8",
        "outputId": "db6a18c2-79f6-4192-9d87-335c35a2a68a"
      },
      "execution_count": 123,
      "outputs": [
        {
          "output_type": "stream",
          "name": "stdout",
          "text": [
            "167/167 [==============================] - 1s 3ms/step - loss: 0.3654 - accuracy: 0.8444\n",
            "Test acc: 0.844\n"
          ]
        }
      ]
    },
    {
      "cell_type": "code",
      "source": [
        "# bigrams with binary encoding \n",
        "text_vectorization = TextVectorization(\n",
        "    max_tokens = 10000,\n",
        "    ngrams=2,\n",
        "    output_mode=\"multi_hot\",\n",
        ")"
      ],
      "metadata": {
        "id": "29YQxB4YXIX6"
      },
      "execution_count": 124,
      "outputs": []
    },
    {
      "cell_type": "code",
      "source": [
        "text_vectorization.adapt(text_only_train_ds)\n",
        "\n",
        "binary_2gram_train_ds = train_ds.map(\n",
        "    lambda x, y: (text_vectorization(x), y),\n",
        "    num_parallel_calls=4)\n",
        "\n",
        "binary_2gram_val_ds = val_ds.map(\n",
        "    lambda x, y: (text_vectorization(x), y),\n",
        "    num_parallel_calls=4)\n",
        "\n",
        "binary_2gram_test_ds = test_ds.map(\n",
        "    lambda x, y: (text_vectorization(x), y),\n",
        "    num_parallel_calls=4)"
      ],
      "metadata": {
        "id": "lzTDYQRRXVB8"
      },
      "execution_count": 125,
      "outputs": []
    },
    {
      "cell_type": "code",
      "source": [
        "model = get_model()\n",
        "model.summary()\n"
      ],
      "metadata": {
        "colab": {
          "base_uri": "https://localhost:8080/"
        },
        "id": "W01JfkDIXe2j",
        "outputId": "458769a9-2f3b-4ec0-a105-f2a04cfffd1f"
      },
      "execution_count": 126,
      "outputs": [
        {
          "output_type": "stream",
          "name": "stdout",
          "text": [
            "Model: \"model\"\n",
            "_________________________________________________________________\n",
            " Layer (type)                Output Shape              Param #   \n",
            "=================================================================\n",
            " input_1 (InputLayer)        [(None, 10000)]           0         \n",
            "                                                                 \n",
            " dense (Dense)               (None, 16)                160016    \n",
            "                                                                 \n",
            " dropout (Dropout)           (None, 16)                0         \n",
            "                                                                 \n",
            " dense_1 (Dense)             (None, 1)                 17        \n",
            "                                                                 \n",
            "=================================================================\n",
            "Total params: 160,033\n",
            "Trainable params: 160,033\n",
            "Non-trainable params: 0\n",
            "_________________________________________________________________\n"
          ]
        }
      ]
    },
    {
      "cell_type": "code",
      "source": [
        "callbacks = [keras.callbacks.ModelCheckpoint(\"binary_2gram.keras\",save_best_only=True)]\n",
        "\n",
        "model.fit(binary_2gram_train_ds.cache(),\n",
        "          validation_data=binary_2gram_val_ds.cache(),\n",
        "          epochs=10,\n",
        "          callbacks=callbacks)"
      ],
      "metadata": {
        "colab": {
          "base_uri": "https://localhost:8080/"
        },
        "id": "TZOpuaB2XiXZ",
        "outputId": "547eadf6-4035-4041-e29d-88367d59fef7"
      },
      "execution_count": 127,
      "outputs": [
        {
          "output_type": "stream",
          "name": "stdout",
          "text": [
            "Epoch 1/10\n",
            "501/501 [==============================] - 4s 6ms/step - loss: 0.5434 - accuracy: 0.7471 - val_loss: 0.4357 - val_accuracy: 0.8145\n",
            "Epoch 2/10\n",
            "501/501 [==============================] - 2s 4ms/step - loss: 0.4116 - accuracy: 0.8288 - val_loss: 0.3827 - val_accuracy: 0.8311\n",
            "Epoch 3/10\n",
            "501/501 [==============================] - 2s 4ms/step - loss: 0.3602 - accuracy: 0.8555 - val_loss: 0.3647 - val_accuracy: 0.8353\n",
            "Epoch 4/10\n",
            "501/501 [==============================] - 3s 5ms/step - loss: 0.3340 - accuracy: 0.8703 - val_loss: 0.3595 - val_accuracy: 0.8392\n",
            "Epoch 5/10\n",
            "501/501 [==============================] - 2s 4ms/step - loss: 0.3111 - accuracy: 0.8791 - val_loss: 0.3608 - val_accuracy: 0.8411\n",
            "Epoch 6/10\n",
            "501/501 [==============================] - 3s 5ms/step - loss: 0.2996 - accuracy: 0.8880 - val_loss: 0.3632 - val_accuracy: 0.8416\n",
            "Epoch 7/10\n",
            "501/501 [==============================] - 2s 5ms/step - loss: 0.2846 - accuracy: 0.8927 - val_loss: 0.3669 - val_accuracy: 0.8416\n",
            "Epoch 8/10\n",
            "501/501 [==============================] - 2s 4ms/step - loss: 0.2801 - accuracy: 0.8970 - val_loss: 0.3715 - val_accuracy: 0.8411\n",
            "Epoch 9/10\n",
            "501/501 [==============================] - 2s 5ms/step - loss: 0.2736 - accuracy: 0.8990 - val_loss: 0.3747 - val_accuracy: 0.8407\n",
            "Epoch 10/10\n",
            "501/501 [==============================] - 2s 5ms/step - loss: 0.2646 - accuracy: 0.9041 - val_loss: 0.3796 - val_accuracy: 0.8407\n"
          ]
        },
        {
          "output_type": "execute_result",
          "data": {
            "text/plain": [
              "<keras.callbacks.History at 0x7f82fd128ca0>"
            ]
          },
          "metadata": {},
          "execution_count": 127
        }
      ]
    },
    {
      "cell_type": "code",
      "source": [
        "model = keras.models.load_model(\"binary_2gram.keras\")\n",
        "print(f\"Test acc: {model.evaluate(binary_2gram_test_ds)[1]:.3f}\")"
      ],
      "metadata": {
        "colab": {
          "base_uri": "https://localhost:8080/"
        },
        "id": "WBVbBT3rX8YR",
        "outputId": "0c910ef5-9f65-4c79-940e-4f10794a6e8c"
      },
      "execution_count": 128,
      "outputs": [
        {
          "output_type": "stream",
          "name": "stdout",
          "text": [
            "167/167 [==============================] - 1s 3ms/step - loss: 0.3630 - accuracy: 0.8422\n",
            "Test acc: 0.842\n"
          ]
        }
      ]
    },
    {
      "cell_type": "code",
      "source": [
        "# BIGRAMS WITH TF-IDF ENCODING\n",
        "\"\"\"\n",
        "You can also add a bit more information to this representation by counting how many\n",
        "times each word or N-gram occurs, that is to say, by taking the histogram of the words\n",
        "over the text.\n",
        "\n",
        "We will use TF-IDF(term frequency, inverse document frequency.) to normalize the data because some words like \n",
        "\"a\" , \"the\" ... even if nit very usefull will dominate the counts\n",
        "\n",
        "Understanding TF-IDF normalization\n",
        "The more a given term appears in a document, the more important that term is for\n",
        "understanding what the document is about. At the same time, the frequency at which\n",
        "the term appears across all documents in your dataset matters too: terms that\n",
        "appear in almost every document (like “the” or “a”) aren’t particularly informative,\n",
        "while terms that appear only in a small subset of all texts (like “Herzog”) are very dis-\n",
        "tinctive, and thus important. TF-IDF is a metric that fuses these two ideas. It weights\n",
        "a given term by taking “term frequency,” how many times the term appears in the\n",
        "current document, and dividing it by a measure of “document frequency,” which esti-\n",
        "mates how often the term comes up across the dataset. You’d compute it as follows:\n",
        "\n",
        "    def tfidf(term, document, dataset):\n",
        "    term_freq = document.count(term)\n",
        "    doc_freq = math.log(sum(doc.count(term) for doc in dataset) + 1)\n",
        "    return term_freq / doc_freq\n",
        "\n",
        "\"\"\""
      ],
      "metadata": {
        "id": "YviLcY0ZX-CW"
      },
      "execution_count": null,
      "outputs": []
    },
    {
      "cell_type": "code",
      "source": [
        "# Configuring the TextVectorization layer to return token counts\n",
        "\n",
        "text_vectorization = TextVectorization(\n",
        "    ngrams=2,\n",
        "    max_tokens = 10000,\n",
        "    output_mode = \"tf_idf\",\n",
        ")"
      ],
      "metadata": {
        "id": "HAwmohq5YRiI"
      },
      "execution_count": 129,
      "outputs": []
    },
    {
      "cell_type": "code",
      "source": [
        "text_vectorization.adapt(text_only_train_ds)\n",
        "\n",
        "tfidf_2gram_train_ds = train_ds.map(\n",
        "    lambda x, y: (text_vectorization(x), y),\n",
        "    num_parallel_calls=4)\n",
        "\n",
        "tfidf_2gram_val_ds = val_ds.map(\n",
        "    lambda x, y: (text_vectorization(x), y),\n",
        "    num_parallel_calls=4)\n",
        "\n",
        "tfidf_2gram_test_ds = test_ds.map(\n",
        "    lambda x, y: (text_vectorization(x), y),\n",
        "    num_parallel_calls=4)"
      ],
      "metadata": {
        "id": "Ikp1SvL0YgoC"
      },
      "execution_count": 130,
      "outputs": []
    },
    {
      "cell_type": "code",
      "source": [
        "model = get_model()\n",
        "model.summary()"
      ],
      "metadata": {
        "colab": {
          "base_uri": "https://localhost:8080/"
        },
        "id": "sNFIqgV4ZwBE",
        "outputId": "de609002-4650-4830-80fd-aee8511e98a5"
      },
      "execution_count": 134,
      "outputs": [
        {
          "output_type": "stream",
          "name": "stdout",
          "text": [
            "Model: \"model\"\n",
            "_________________________________________________________________\n",
            " Layer (type)                Output Shape              Param #   \n",
            "=================================================================\n",
            " input_1 (InputLayer)        [(None, 10000)]           0         \n",
            "                                                                 \n",
            " dense (Dense)               (None, 16)                160016    \n",
            "                                                                 \n",
            " dropout (Dropout)           (None, 16)                0         \n",
            "                                                                 \n",
            " dense_1 (Dense)             (None, 1)                 17        \n",
            "                                                                 \n",
            "=================================================================\n",
            "Total params: 160,033\n",
            "Trainable params: 160,033\n",
            "Non-trainable params: 0\n",
            "_________________________________________________________________\n"
          ]
        }
      ]
    },
    {
      "cell_type": "code",
      "source": [
        "callbacks = [keras.callbacks.ModelCheckpoint(\"tfidf_2gram.keras\",save_best_only=True)]\n",
        "\n",
        "model.fit(tfidf_2gram_train_ds.cache(),\n",
        "          validation_data=tfidf_2gram_val_ds.cache(),\n",
        "          epochs=10,\n",
        "          callbacks=callbacks)"
      ],
      "metadata": {
        "id": "fma_xlt7Z0AY",
        "colab": {
          "base_uri": "https://localhost:8080/"
        },
        "outputId": "56bed283-a2fa-400c-b137-a4c50c5fdd48"
      },
      "execution_count": 135,
      "outputs": [
        {
          "output_type": "stream",
          "name": "stdout",
          "text": [
            "Epoch 1/10\n",
            "501/501 [==============================] - 4s 7ms/step - loss: 0.5299 - accuracy: 0.7259 - val_loss: 0.3915 - val_accuracy: 0.8270\n",
            "Epoch 2/10\n",
            "501/501 [==============================] - 2s 4ms/step - loss: 0.3697 - accuracy: 0.8457 - val_loss: 0.3616 - val_accuracy: 0.8385\n",
            "Epoch 3/10\n",
            "501/501 [==============================] - 2s 4ms/step - loss: 0.3298 - accuracy: 0.8688 - val_loss: 0.3614 - val_accuracy: 0.8478\n",
            "Epoch 4/10\n",
            "501/501 [==============================] - 2s 4ms/step - loss: 0.3049 - accuracy: 0.8812 - val_loss: 0.3686 - val_accuracy: 0.8461\n",
            "Epoch 5/10\n",
            "501/501 [==============================] - 2s 4ms/step - loss: 0.2919 - accuracy: 0.8879 - val_loss: 0.3759 - val_accuracy: 0.8469\n",
            "Epoch 6/10\n",
            "501/501 [==============================] - 3s 5ms/step - loss: 0.2778 - accuracy: 0.8925 - val_loss: 0.3823 - val_accuracy: 0.8403\n",
            "Epoch 7/10\n",
            "501/501 [==============================] - 2s 4ms/step - loss: 0.2689 - accuracy: 0.8948 - val_loss: 0.3871 - val_accuracy: 0.8356\n",
            "Epoch 8/10\n",
            "501/501 [==============================] - 2s 4ms/step - loss: 0.2688 - accuracy: 0.8977 - val_loss: 0.4017 - val_accuracy: 0.8345\n",
            "Epoch 9/10\n",
            "501/501 [==============================] - 2s 4ms/step - loss: 0.2549 - accuracy: 0.9000 - val_loss: 0.4046 - val_accuracy: 0.8381\n",
            "Epoch 10/10\n",
            "501/501 [==============================] - 3s 6ms/step - loss: 0.2534 - accuracy: 0.9025 - val_loss: 0.4079 - val_accuracy: 0.8336\n"
          ]
        },
        {
          "output_type": "execute_result",
          "data": {
            "text/plain": [
              "<keras.callbacks.History at 0x7f82feaec970>"
            ]
          },
          "metadata": {},
          "execution_count": 135
        }
      ]
    },
    {
      "cell_type": "code",
      "source": [
        "model = keras.models.load_model(\"tfidf_2gram.keras\")\n",
        "print(f\"Test acc: {model.evaluate(tfidf_2gram_test_ds)[1]:.3f}\")"
      ],
      "metadata": {
        "colab": {
          "base_uri": "https://localhost:8080/"
        },
        "id": "QsLBBHfYaLqB",
        "outputId": "f4ef5565-1894-44dc-c3bd-3848dc8c8e65"
      },
      "execution_count": 136,
      "outputs": [
        {
          "output_type": "stream",
          "name": "stdout",
          "text": [
            "167/167 [==============================] - 1s 3ms/step - loss: 0.3681 - accuracy: 0.8472\n",
            "Test acc: 0.847\n"
          ]
        }
      ]
    },
    {
      "cell_type": "code",
      "source": [
        "## processing words as sequence , the sequence model approach"
      ],
      "metadata": {
        "id": "wSM2KAh4aOE7"
      },
      "execution_count": null,
      "outputs": []
    },
    {
      "cell_type": "code",
      "source": [
        "# Preparing integer sequence datasets\n",
        "max_length = 250\n",
        "max_tokens = 10000\n",
        "\n",
        "text_vectorization = TextVectorization(\n",
        "    max_tokens = max_tokens ,\n",
        "    output_mode = \"int\",\n",
        "    output_sequence_length = max_length,\n",
        ")"
      ],
      "metadata": {
        "id": "WGnruxykdZdf"
      },
      "execution_count": 137,
      "outputs": []
    },
    {
      "cell_type": "code",
      "source": [
        "text_vectorization.adapt(text_only_train_ds)\n",
        "\n",
        "int_train_ds = train_ds.map(\n",
        "lambda x, y: (text_vectorization(x), y),\n",
        "num_parallel_calls=4)\n",
        "\n",
        "int_val_ds = val_ds.map(\n",
        "lambda x, y: (text_vectorization(x), y),\n",
        "num_parallel_calls=4)\n",
        "\n",
        "int_test_ds = test_ds.map(\n",
        "lambda x, y: (text_vectorization(x), y),\n",
        "num_parallel_calls=4)"
      ],
      "metadata": {
        "id": "esToog5WePNS"
      },
      "execution_count": 138,
      "outputs": []
    },
    {
      "cell_type": "code",
      "source": [
        "inputs = keras.Input(shape=(None,), dtype=\"int64\")\n",
        "embedded = tf.one_hot(inputs, depth=max_tokens)\n",
        "x = layers.Bidirectional(layers.LSTM(32))(embedded)\n",
        "x = layers.Dropout(0.5)(x)\n",
        "outputs = layers.Dense(1, activation=\"sigmoid\")(x)\n",
        "model = keras.Model(inputs, outputs)\n",
        "\n",
        "model.compile(optimizer=\"rmsprop\",\n",
        "              loss=\"binary_crossentropy\",\n",
        "              metrics = [\"accuracy\"])\n",
        "\n",
        "model.summary()"
      ],
      "metadata": {
        "colab": {
          "base_uri": "https://localhost:8080/"
        },
        "id": "HlJwhM72enCB",
        "outputId": "34d3bbc7-c425-4436-cb55-1d2637673eed"
      },
      "execution_count": null,
      "outputs": [
        {
          "output_type": "stream",
          "name": "stdout",
          "text": [
            "Model: \"model_1\"\n",
            "_________________________________________________________________\n",
            " Layer (type)                Output Shape              Param #   \n",
            "=================================================================\n",
            " input_2 (InputLayer)        [(None, None)]            0         \n",
            "                                                                 \n",
            " tf.one_hot (TFOpLambda)     (None, None, 20000)       0         \n",
            "                                                                 \n",
            " bidirectional (Bidirectiona  (None, 64)               5128448   \n",
            " l)                                                              \n",
            "                                                                 \n",
            " dropout_1 (Dropout)         (None, 64)                0         \n",
            "                                                                 \n",
            " dense_2 (Dense)             (None, 1)                 65        \n",
            "                                                                 \n",
            "=================================================================\n",
            "Total params: 5,128,513\n",
            "Trainable params: 5,128,513\n",
            "Non-trainable params: 0\n",
            "_________________________________________________________________\n"
          ]
        }
      ]
    },
    {
      "cell_type": "code",
      "source": [
        "callbacks = [keras.callbacks.ModelCheckpoint(\"one_hot_bidir_lstm.keras\",save_best_only=True)]\n",
        "\n",
        "model.fit(int_train_ds, validation_data=int_val_ds,\n",
        "          epochs=10,\n",
        "          callbacks = callbacks )\n"
      ],
      "metadata": {
        "id": "1F2kwyPFe79U"
      },
      "execution_count": null,
      "outputs": []
    },
    {
      "cell_type": "code",
      "source": [
        "\"\"\"\n",
        "This model is more slower than the previous due to the size of our input data :\n",
        "each sample is a matrix of shape (600,20000)600 words per sample , 20000 possible words\n",
        "\n",
        "Instead of multi_hot encoding , we will use word Embedding to encode the samples\n",
        "\"\"\""
      ],
      "metadata": {
        "id": "UlF85b4SZrxp"
      },
      "execution_count": null,
      "outputs": []
    },
    {
      "cell_type": "code",
      "source": [
        "\"\"\" \n",
        "\n",
        "Notice that whith one encoding , each word is processed independantly from the others.\n",
        "But in fact , words are tied to each other , they share information , can be synonims, can \n",
        "be interchangeable , they have a semantic relation with all other words .\n",
        "\n",
        "for example the vector representing the word \"movie\" and the one representing the word\n",
        "\"film\" as these words are interchangebale should be the same or close enough.\n",
        "\n",
        "Word embedding is encoding the semantic relation between words into a dense and\n",
        "structured  geometric space.\n",
        "\n",
        "\"\"\""
      ],
      "metadata": {
        "id": "goIJqFAPaVEY"
      },
      "execution_count": null,
      "outputs": []
    },
    {
      "cell_type": "code",
      "source": [
        "# learning word embedding with from the data\n",
        "# Instantiating an Embedding layer\n",
        "\n",
        "\"\"\"\n",
        "The Embedding layer is best understood as a dictionary that maps integer indices\n",
        "(which stand for specific words) to dense vectors. It takes integers as input, looks up\n",
        "these integers in an internal dictionary, and returns the associated vectors. It’s effec-\n",
        "tively a dictionary lookup\n",
        "\n",
        "\"\"\"\n"
      ],
      "metadata": {
        "id": "eEs3yJp2dnJ5"
      },
      "execution_count": null,
      "outputs": []
    },
    {
      "cell_type": "code",
      "source": [
        "tf.keras.backend.clear_session()\n",
        "\n",
        "\n",
        "inputs = keras.Input(shape=(None,), dtype=\"int64\")\n",
        "embedded = layers.Embedding(input_dim=10000, output_dim=120, mask_zero =True)(inputs)\n",
        "x = layers.Bidirectional(layers.LSTM(32))(embedded)\n",
        "x = layers.Dense(24, activation=\"relu\")(x)\n",
        "outputs = layers.Dense(1, activation=\"sigmoid\")(x)\n",
        "\n",
        "model = keras.Model(inputs, outputs)\n",
        "\n",
        "model.compile(optimizer=\"rmsprop\",\n",
        "              loss=\"binary_crossentropy\",\n",
        "              metrics= [\"accuracy\"])\n",
        "model.summary()"
      ],
      "metadata": {
        "colab": {
          "base_uri": "https://localhost:8080/"
        },
        "id": "dHI_9TZVfHCm",
        "outputId": "a43ded08-d758-4e17-c465-4479fd2376a3"
      },
      "execution_count": 139,
      "outputs": [
        {
          "output_type": "stream",
          "name": "stdout",
          "text": [
            "Model: \"model\"\n",
            "_________________________________________________________________\n",
            " Layer (type)                Output Shape              Param #   \n",
            "=================================================================\n",
            " input_1 (InputLayer)        [(None, None)]            0         \n",
            "                                                                 \n",
            " embedding (Embedding)       (None, None, 120)         1200000   \n",
            "                                                                 \n",
            " bidirectional (Bidirectiona  (None, 64)               39168     \n",
            " l)                                                              \n",
            "                                                                 \n",
            " dense (Dense)               (None, 24)                1560      \n",
            "                                                                 \n",
            " dense_1 (Dense)             (None, 1)                 25        \n",
            "                                                                 \n",
            "=================================================================\n",
            "Total params: 1,240,753\n",
            "Trainable params: 1,240,753\n",
            "Non-trainable params: 0\n",
            "_________________________________________________________________\n"
          ]
        }
      ]
    },
    {
      "cell_type": "code",
      "source": [
        "callbacks = [keras.callbacks.ModelCheckpoint(\"embeddings_bidir_gru.keras\",save_best_only=True)]\n",
        "\n",
        "model.fit(int_train_ds,\n",
        "          validation_data = int_val_ds,\n",
        "          epochs = 10,\n",
        "          callbacks = callbacks)\n"
      ],
      "metadata": {
        "colab": {
          "base_uri": "https://localhost:8080/"
        },
        "id": "Np-m9KZaf1pA",
        "outputId": "384d9c9d-2147-446d-e0f5-525524ce993d"
      },
      "execution_count": 140,
      "outputs": [
        {
          "output_type": "stream",
          "name": "stdout",
          "text": [
            "Epoch 1/10\n",
            "501/501 [==============================] - 29s 38ms/step - loss: 0.4376 - accuracy: 0.7922 - val_loss: 0.3486 - val_accuracy: 0.8463\n",
            "Epoch 2/10\n",
            "501/501 [==============================] - 9s 18ms/step - loss: 0.2593 - accuracy: 0.8940 - val_loss: 0.3417 - val_accuracy: 0.8551\n",
            "Epoch 3/10\n",
            "501/501 [==============================] - 9s 17ms/step - loss: 0.1918 - accuracy: 0.9248 - val_loss: 0.3432 - val_accuracy: 0.8596\n",
            "Epoch 4/10\n",
            "501/501 [==============================] - 9s 18ms/step - loss: 0.1447 - accuracy: 0.9471 - val_loss: 0.3641 - val_accuracy: 0.8600\n",
            "Epoch 5/10\n",
            "501/501 [==============================] - 9s 18ms/step - loss: 0.1113 - accuracy: 0.9614 - val_loss: 0.3900 - val_accuracy: 0.8525\n",
            "Epoch 6/10\n",
            "501/501 [==============================] - 9s 17ms/step - loss: 0.0805 - accuracy: 0.9739 - val_loss: 0.4621 - val_accuracy: 0.8506\n",
            "Epoch 7/10\n",
            "501/501 [==============================] - 8s 15ms/step - loss: 0.0595 - accuracy: 0.9817 - val_loss: 0.5014 - val_accuracy: 0.8454\n",
            "Epoch 8/10\n",
            "501/501 [==============================] - 8s 16ms/step - loss: 0.0418 - accuracy: 0.9870 - val_loss: 0.6834 - val_accuracy: 0.8268\n",
            "Epoch 9/10\n",
            "501/501 [==============================] - 9s 17ms/step - loss: 0.0288 - accuracy: 0.9915 - val_loss: 0.7216 - val_accuracy: 0.8392\n",
            "Epoch 10/10\n",
            "501/501 [==============================] - 9s 18ms/step - loss: 0.0192 - accuracy: 0.9949 - val_loss: 0.7496 - val_accuracy: 0.8343\n"
          ]
        },
        {
          "output_type": "execute_result",
          "data": {
            "text/plain": [
              "<keras.callbacks.History at 0x7f82fe97dee0>"
            ]
          },
          "metadata": {},
          "execution_count": 140
        }
      ]
    },
    {
      "cell_type": "code",
      "source": [
        "model = keras.models.load_model(\"embeddings_bidir_gru.keras\")\n",
        "print(f\"Test acc: {model.evaluate(int_test_ds)[1]:.3f}\")"
      ],
      "metadata": {
        "colab": {
          "base_uri": "https://localhost:8080/"
        },
        "id": "TbfUUoddggRR",
        "outputId": "52a1a91d-5a4b-46e4-901e-dbb4e8a49098"
      },
      "execution_count": 141,
      "outputs": [
        {
          "output_type": "stream",
          "name": "stdout",
          "text": [
            "167/167 [==============================] - 4s 8ms/step - loss: 0.3338 - accuracy: 0.8633\n",
            "Test acc: 0.863\n"
          ]
        }
      ]
    },
    {
      "cell_type": "code",
      "source": [
        "# USING PRETRAINED WORD EMBEDDINGS\n",
        "\n",
        "! wget http://nlp.stanford.edu/data/glove.6B.zip\n",
        "! unzip -q glove.6B.zip"
      ],
      "metadata": {
        "colab": {
          "base_uri": "https://localhost:8080/"
        },
        "id": "WVU6KKtjhbki",
        "outputId": "4dcb033f-997d-43eb-822b-42f9ab8c4f40"
      },
      "execution_count": 142,
      "outputs": [
        {
          "output_type": "stream",
          "name": "stdout",
          "text": [
            "--2023-04-05 11:33:29--  http://nlp.stanford.edu/data/glove.6B.zip\n",
            "Resolving nlp.stanford.edu (nlp.stanford.edu)... 171.64.67.140\n",
            "Connecting to nlp.stanford.edu (nlp.stanford.edu)|171.64.67.140|:80... connected.\n",
            "HTTP request sent, awaiting response... 302 Found\n",
            "Location: https://nlp.stanford.edu/data/glove.6B.zip [following]\n",
            "--2023-04-05 11:33:30--  https://nlp.stanford.edu/data/glove.6B.zip\n",
            "Connecting to nlp.stanford.edu (nlp.stanford.edu)|171.64.67.140|:443... connected.\n",
            "HTTP request sent, awaiting response... 301 Moved Permanently\n",
            "Location: https://downloads.cs.stanford.edu/nlp/data/glove.6B.zip [following]\n",
            "--2023-04-05 11:33:31--  https://downloads.cs.stanford.edu/nlp/data/glove.6B.zip\n",
            "Resolving downloads.cs.stanford.edu (downloads.cs.stanford.edu)... 171.64.64.22\n",
            "Connecting to downloads.cs.stanford.edu (downloads.cs.stanford.edu)|171.64.64.22|:443... connected.\n",
            "HTTP request sent, awaiting response... 200 OK\n",
            "Length: 862182613 (822M) [application/zip]\n",
            "Saving to: ‘glove.6B.zip’\n",
            "\n",
            "glove.6B.zip        100%[===================>] 822.24M  5.13MB/s    in 2m 39s  \n",
            "\n",
            "2023-04-05 11:36:10 (5.18 MB/s) - ‘glove.6B.zip’ saved [862182613/862182613]\n",
            "\n"
          ]
        }
      ]
    },
    {
      "cell_type": "code",
      "source": [
        "# Parsing the GloVe word-embeddings file\n",
        "\n",
        "path_to_glove_file = \"glove.6B.100d.txt\"\n",
        "embeddings_index = {}\n",
        "with open(path_to_glove_file) as f:\n",
        "  for line in f :\n",
        "    word , coefs = line.split(maxsplit=1)\n",
        "    coefs = np.fromstring(coefs, \"f\", sep=\" \")\n",
        "    embeddings_index[word] = coefs\n",
        "\n",
        "print(f\"Found {len(embeddings_index)} word vectors.\")"
      ],
      "metadata": {
        "colab": {
          "base_uri": "https://localhost:8080/"
        },
        "id": "aga2owpSMcFG",
        "outputId": "c8cd69cb-7781-4760-e966-c6c7fbfd1fd7"
      },
      "execution_count": 143,
      "outputs": [
        {
          "output_type": "stream",
          "name": "stdout",
          "text": [
            "Found 400000 word vectors.\n"
          ]
        }
      ]
    },
    {
      "cell_type": "code",
      "source": [
        "for i , j in embeddings_index.items():\n",
        "  print(i,j)\n",
        "  break"
      ],
      "metadata": {
        "colab": {
          "base_uri": "https://localhost:8080/"
        },
        "id": "HBlvQyMdOXBD",
        "outputId": "5054a416-b85b-4b2c-a7af-19cd3f14694b"
      },
      "execution_count": 157,
      "outputs": [
        {
          "output_type": "stream",
          "name": "stdout",
          "text": [
            "the [-0.038194 -0.24487   0.72812  -0.39961   0.083172  0.043953 -0.39141\n",
            "  0.3344   -0.57545   0.087459  0.28787  -0.06731   0.30906  -0.26384\n",
            " -0.13231  -0.20757   0.33395  -0.33848  -0.31743  -0.48336   0.1464\n",
            " -0.37304   0.34577   0.052041  0.44946  -0.46971   0.02628  -0.54155\n",
            " -0.15518  -0.14107  -0.039722  0.28277   0.14393   0.23464  -0.31021\n",
            "  0.086173  0.20397   0.52624   0.17164  -0.082378 -0.71787  -0.41531\n",
            "  0.20335  -0.12763   0.41367   0.55187   0.57908  -0.33477  -0.36559\n",
            " -0.54857  -0.062892  0.26584   0.30205   0.99775  -0.80481  -3.0243\n",
            "  0.01254  -0.36942   2.2167    0.72201  -0.24978   0.92136   0.034514\n",
            "  0.46745   1.1079   -0.19358  -0.074575  0.23353  -0.052062 -0.22044\n",
            "  0.057162 -0.15806  -0.30798  -0.41625   0.37972   0.15006  -0.53212\n",
            " -0.2055   -1.2526    0.071624  0.70565   0.49744  -0.42063   0.26148\n",
            " -1.538    -0.30223  -0.073438 -0.28312   0.37104  -0.25217   0.016215\n",
            " -0.017099 -0.38984   0.87424  -0.72569  -0.51058  -0.52028  -0.1459\n",
            "  0.8278    0.27062 ]\n"
          ]
        }
      ]
    },
    {
      "cell_type": "code",
      "source": [
        "embedding_dim = 100\n",
        "vocabulary = text_vectorization.get_vocabulary()\n",
        "word_index = dict(zip(vocabulary, range(len(vocabulary))))\n",
        "\n",
        "embedding_matrix = np.zeros((max_tokens, embedding_dim))\n",
        "for word, i in word_index.items():\n",
        "  if i < max_tokens:\n",
        "    embedding_vector = embeddings_index.get(word)\n",
        "  if embedding_vector is not None:\n",
        "    embedding_matrix[i] = embedding_vector"
      ],
      "metadata": {
        "id": "mfASSfGHNRLL"
      },
      "execution_count": 158,
      "outputs": []
    },
    {
      "cell_type": "code",
      "source": [
        "embedding_layer = layers.Embedding(max_tokens,\n",
        "                                   embedding_dim,\n",
        "                                   embeddings_initializer=keras.initializers.Constant(embedding_matrix),\n",
        "                                   trainable=False,\n",
        "                                   mask_zero=True,\n",
        "                                   )"
      ],
      "metadata": {
        "id": "Vf8m1JDfO9wM"
      },
      "execution_count": 159,
      "outputs": []
    },
    {
      "cell_type": "code",
      "source": [
        "# Model that uses a pretrained Embedding layer\n",
        "tf.keras.backend.clear_session()\n",
        "\n",
        "inputs = keras.Input(shape=(None,), dtype=\"int64\")\n",
        "embedded = embedding_layer(inputs)\n",
        "x = layers.Bidirectional(layers.LSTM(32))(embedded)\n",
        "x = layers.Dropout(0.5)(x)\n",
        "outputs = layers.Dense(1, activation=\"sigmoid\")(x)\n",
        "\n",
        "model = keras.Model(inputs, outputs)\n",
        "\n",
        "model.compile(optimizer=\"rmsprop\",\n",
        "              loss=\"binary_crossentropy\",\n",
        "              metrics=[\"accuracy\"])\n",
        "\n",
        "model.summary()"
      ],
      "metadata": {
        "colab": {
          "base_uri": "https://localhost:8080/"
        },
        "id": "ZQQ68JfVPIoS",
        "outputId": "77b17e14-c008-4d94-e632-a7b9d7813944"
      },
      "execution_count": 161,
      "outputs": [
        {
          "output_type": "stream",
          "name": "stdout",
          "text": [
            "Model: \"model\"\n",
            "_________________________________________________________________\n",
            " Layer (type)                Output Shape              Param #   \n",
            "=================================================================\n",
            " input_1 (InputLayer)        [(None, None)]            0         \n",
            "                                                                 \n",
            " embedding_1 (Embedding)     (None, None, 100)         1000000   \n",
            "                                                                 \n",
            " bidirectional (Bidirectiona  (None, 64)               34048     \n",
            " l)                                                              \n",
            "                                                                 \n",
            " dropout (Dropout)           (None, 64)                0         \n",
            "                                                                 \n",
            " dense (Dense)               (None, 1)                 65        \n",
            "                                                                 \n",
            "=================================================================\n",
            "Total params: 1,034,113\n",
            "Trainable params: 34,113\n",
            "Non-trainable params: 1,000,000\n",
            "_________________________________________________________________\n"
          ]
        }
      ]
    },
    {
      "cell_type": "code",
      "source": [
        "callbacks = [keras.callbacks.ModelCheckpoint(\"glove_embeddings_sequence_model.keras\",save_best_only=True)]\n",
        "\n",
        "model.fit(int_train_ds, validation_data=int_val_ds, epochs=10,\n",
        "          callbacks=callbacks)"
      ],
      "metadata": {
        "colab": {
          "base_uri": "https://localhost:8080/"
        },
        "id": "itub3t7BPeGr",
        "outputId": "7a81c90d-42ac-4036-d86e-7ae171619e33"
      },
      "execution_count": 162,
      "outputs": [
        {
          "output_type": "stream",
          "name": "stdout",
          "text": [
            "Epoch 1/10\n",
            "501/501 [==============================] - 19s 20ms/step - loss: 0.5395 - accuracy: 0.7232 - val_loss: 0.4488 - val_accuracy: 0.7855\n",
            "Epoch 2/10\n",
            "501/501 [==============================] - 9s 19ms/step - loss: 0.4254 - accuracy: 0.8069 - val_loss: 0.3982 - val_accuracy: 0.8179\n",
            "Epoch 3/10\n",
            "501/501 [==============================] - 9s 17ms/step - loss: 0.3814 - accuracy: 0.8304 - val_loss: 0.4114 - val_accuracy: 0.8079\n",
            "Epoch 4/10\n",
            "501/501 [==============================] - 12s 23ms/step - loss: 0.3467 - accuracy: 0.8453 - val_loss: 0.3641 - val_accuracy: 0.8371\n",
            "Epoch 5/10\n",
            "501/501 [==============================] - 8s 15ms/step - loss: 0.3149 - accuracy: 0.8636 - val_loss: 0.3817 - val_accuracy: 0.8293\n",
            "Epoch 6/10\n",
            "501/501 [==============================] - 9s 18ms/step - loss: 0.2963 - accuracy: 0.8746 - val_loss: 0.3451 - val_accuracy: 0.8495\n",
            "Epoch 7/10\n",
            "501/501 [==============================] - 9s 17ms/step - loss: 0.2738 - accuracy: 0.8869 - val_loss: 0.3362 - val_accuracy: 0.8531\n",
            "Epoch 8/10\n",
            "501/501 [==============================] - 7s 14ms/step - loss: 0.2548 - accuracy: 0.8945 - val_loss: 0.3411 - val_accuracy: 0.8510\n",
            "Epoch 9/10\n",
            "501/501 [==============================] - 7s 14ms/step - loss: 0.2347 - accuracy: 0.9035 - val_loss: 0.3868 - val_accuracy: 0.8371\n",
            "Epoch 10/10\n",
            "501/501 [==============================] - 8s 16ms/step - loss: 0.2201 - accuracy: 0.9105 - val_loss: 0.3595 - val_accuracy: 0.8517\n"
          ]
        },
        {
          "output_type": "execute_result",
          "data": {
            "text/plain": [
              "<keras.callbacks.History at 0x7f8245cbc340>"
            ]
          },
          "metadata": {},
          "execution_count": 162
        }
      ]
    },
    {
      "cell_type": "code",
      "source": [
        "model = keras.models.load_model(\"glove_embeddings_sequence_model.keras\")\n",
        "print(f\"Test acc: {model.evaluate(int_test_ds)[1]:.3f}\")"
      ],
      "metadata": {
        "colab": {
          "base_uri": "https://localhost:8080/"
        },
        "id": "oR4jMgvnQIC1",
        "outputId": "63d0da2d-94b1-4f3b-c423-aac6eca72550"
      },
      "execution_count": 163,
      "outputs": [
        {
          "output_type": "stream",
          "name": "stdout",
          "text": [
            "167/167 [==============================] - 3s 5ms/step - loss: 0.3350 - accuracy: 0.8604\n",
            "Test acc: 0.860\n"
          ]
        }
      ]
    }
  ]
}