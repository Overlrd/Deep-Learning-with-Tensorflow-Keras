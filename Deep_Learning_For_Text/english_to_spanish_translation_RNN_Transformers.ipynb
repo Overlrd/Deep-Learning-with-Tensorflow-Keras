{
  "nbformat": 4,
  "nbformat_minor": 0,
  "metadata": {
    "colab": {
      "provenance": []
    },
    "kernelspec": {
      "name": "python3",
      "display_name": "Python 3"
    },
    "language_info": {
      "name": "python"
    },
    "accelerator": "GPU",
    "gpuClass": "standard"
  },
  "cells": [
    {
      "cell_type": "code",
      "source": [
        "# Machine translation is precisely what Transformer was developed for"
      ],
      "metadata": {
        "id": "4hO6nnFVKXWA"
      },
      "execution_count": null,
      "outputs": []
    },
    {
      "cell_type": "code",
      "execution_count": 1,
      "metadata": {
        "colab": {
          "base_uri": "https://localhost:8080/"
        },
        "id": "H-DRZiNt7WZ5",
        "outputId": "087a50ba-189b-4df9-a2d2-e6e5460af605"
      },
      "outputs": [
        {
          "output_type": "stream",
          "name": "stdout",
          "text": [
            "--2023-04-03 08:09:20--  http://storage.googleapis.com/download.tensorflow.org/data/spa-eng.zip\n",
            "Resolving storage.googleapis.com (storage.googleapis.com)... 74.125.200.128, 74.125.68.128, 74.125.24.128, ...\n",
            "Connecting to storage.googleapis.com (storage.googleapis.com)|74.125.200.128|:80... connected.\n",
            "HTTP request sent, awaiting response... 200 OK\n",
            "Length: 2638744 (2.5M) [application/zip]\n",
            "Saving to: ‘spa-eng.zip’\n",
            "\n",
            "spa-eng.zip         100%[===================>]   2.52M  1.87MB/s    in 1.3s    \n",
            "\n",
            "2023-04-03 08:09:21 (1.87 MB/s) - ‘spa-eng.zip’ saved [2638744/2638744]\n",
            "\n"
          ]
        }
      ],
      "source": [
        "!wget http://storage.googleapis.com/download.tensorflow.org/data/spa-eng.zip\n",
        "!unzip -q spa-eng.zip"
      ]
    },
    {
      "cell_type": "code",
      "source": [
        "text_file = \"spa-eng/spa.txt\"\n",
        "with open(text_file) as f:\n",
        "  lines = f.read().split(\"\\n\")[:-1]\n",
        "text_pairs = []\n",
        "for line in lines:\n",
        "  english, spanish = line.split(\"\\t\")\n",
        "  spanish = \"[start] \" + spanish + \" [end]\"\n",
        "  text_pairs.append((english, spanish))"
      ],
      "metadata": {
        "id": "EXbihacX_DHv"
      },
      "execution_count": 2,
      "outputs": []
    },
    {
      "cell_type": "code",
      "source": [
        "\n",
        "text_pairs"
      ],
      "metadata": {
        "id": "UAl3XHvf_nLY"
      },
      "execution_count": null,
      "outputs": []
    },
    {
      "cell_type": "code",
      "source": [
        "# shuffle and split "
      ],
      "metadata": {
        "id": "LQEdZe0wKm6k"
      },
      "execution_count": null,
      "outputs": []
    },
    {
      "cell_type": "code",
      "source": [
        "import random \n",
        "print(random.choice(text_pairs))"
      ],
      "metadata": {
        "colab": {
          "base_uri": "https://localhost:8080/"
        },
        "id": "JSzPvciC_ooG",
        "outputId": "9a1a08cd-fb54-4c9a-f1bb-24d61f0a3aba"
      },
      "execution_count": 4,
      "outputs": [
        {
          "output_type": "stream",
          "name": "stdout",
          "text": [
            "('He told me the truth.', '[start] Él me dijo la verdad. [end]')\n"
          ]
        }
      ]
    },
    {
      "cell_type": "code",
      "source": [
        "random.shuffle(text_pairs)\n",
        "num_val_samples = int(0.15 * len(text_pairs))\n",
        "num_train_samples = len(text_pairs) - 2 * num_val_samples\n",
        "train_pairs = text_pairs[:num_train_samples]\n",
        "val_pairs = text_pairs[num_train_samples:num_train_samples + num_val_samples]\n",
        "test_pairs = text_pairs[num_train_samples + num_val_samples:]"
      ],
      "metadata": {
        "id": "l70ZX_fEAK8S"
      },
      "execution_count": 5,
      "outputs": []
    },
    {
      "cell_type": "code",
      "source": [
        "# Vectorizing the English and Spanish text pairs\n",
        "\n",
        "import tensorflow as tf \n",
        "import string \n",
        "import re \n",
        "\n",
        "strip_chars = string.punctuation + \"¿\"\n",
        "strip_chars = strip_chars.replace(\"[\", \"\")\n",
        "strip_chars = strip_chars.replace(\"]\", \"\")"
      ],
      "metadata": {
        "id": "vOGs6zNyAf5r"
      },
      "execution_count": 6,
      "outputs": []
    },
    {
      "cell_type": "code",
      "source": [
        "def custom_standardisation(input_string):\n",
        "  lowercase = tf.strings.lower(input_string)\n",
        "  return tf.strings.regex_replace(lowercase , f\"{re.escape(strip_chars)}\", \"\")"
      ],
      "metadata": {
        "id": "ydeUP9SKA75x"
      },
      "execution_count": 7,
      "outputs": []
    },
    {
      "cell_type": "code",
      "source": [
        "# vectorization"
      ],
      "metadata": {
        "id": "dlBLcAsjK51Q"
      },
      "execution_count": null,
      "outputs": []
    },
    {
      "cell_type": "code",
      "source": [
        "from tensorflow.keras import layers\n",
        "vocab_size = 15000\n",
        "sequence_length = 20\n",
        "\n",
        "# english vectorization\n",
        "source_vectorization = layers.TextVectorization(\n",
        "    max_tokens=vocab_size, \n",
        "    output_mode = \"int\",\n",
        "    output_sequence_length=sequence_length\n",
        ")\n",
        "\n",
        "\n",
        "# spanish vectorization\n",
        "target_vectorization = layers.TextVectorization(\n",
        "    max_tokens = vocab_size ,\n",
        "    output_mode = \"int\" ,\n",
        "    output_sequence_length = sequence_length + 1,\n",
        "    standardize = custom_standardisation,\n",
        ")\n",
        "\n",
        "\n",
        "train_english_texts = [pair[0] for pair in train_pairs]\n",
        "train_spanish_texts = [pair[1] for pair in train_pairs]\n",
        "\n",
        "source_vectorization.adapt(train_english_texts)\n",
        "target_vectorization.adapt(train_spanish_texts)"
      ],
      "metadata": {
        "id": "R5MSmp-sBwz7"
      },
      "execution_count": 8,
      "outputs": []
    },
    {
      "cell_type": "code",
      "source": [
        "# Preparing datasets for the translation task\n",
        "\n",
        "batch_size = 64\n",
        "\n",
        "def format_dataset(eng , spa) :\n",
        "  eng = source_vectorization(eng)\n",
        "  spa = target_vectorization(spa)\n",
        "\n",
        "  return ({\n",
        "      \"english\": eng , \n",
        "      \"spanish\": spa[:, :-1],\n",
        "  }, spa[:, 1:])\n",
        "\n",
        "\n",
        "def make_dataset(pairs):\n",
        "  eng_texts , spa_texts = zip(*pairs)\n",
        "  eng_texts = list(eng_texts)\n",
        "  spa_texts = list(spa_texts)\n",
        "  dataset = tf.data.Dataset.from_tensor_slices((eng_texts, spa_texts))\n",
        "  dataset = dataset.batch(batch_size)\n",
        "  dataset = dataset.map(format_dataset, num_parallel_calls=4)\n",
        "  return dataset.shuffle(2048).prefetch(16).cache()"
      ],
      "metadata": {
        "id": "BSCX0AvYDzP2"
      },
      "execution_count": 9,
      "outputs": []
    },
    {
      "cell_type": "code",
      "source": [
        "train_ds = make_dataset(train_pairs)\n",
        "val_ds = make_dataset(val_pairs)"
      ],
      "metadata": {
        "id": "tLaan98VFaAK"
      },
      "execution_count": 10,
      "outputs": []
    },
    {
      "cell_type": "code",
      "source": [
        "for inputs , targets in train_ds.take(1):\n",
        "  print(f\"inputs['english'].shape: {inputs['english'].shape}\")\n",
        "  print(f\"inputs['spanish'].shape: {inputs['spanish'].shape}\")\n",
        "  print(f\"targets.shape: {targets.shape}\")"
      ],
      "metadata": {
        "colab": {
          "base_uri": "https://localhost:8080/"
        },
        "id": "R9t2v7NdGcjW",
        "outputId": "1672d39b-371d-4fe4-8db7-df342f2f9991"
      },
      "execution_count": 11,
      "outputs": [
        {
          "output_type": "stream",
          "name": "stdout",
          "text": [
            "inputs['english'].shape: (64, 20)\n",
            "inputs['spanish'].shape: (64, 20)\n",
            "targets.shape: (64, 20)\n"
          ]
        }
      ]
    },
    {
      "cell_type": "code",
      "source": [
        "# Sequence-to-sequence learning with RNNs\n",
        "\n",
        "\"\"\"\n",
        " the way to use RNN for seq2seq learning is make the RNN layer output the entire sequence at each time step\n",
        " the issues here are :\n",
        "   - 1 : the input sequence should always be the same as target(could deal wiht it with padding)\n",
        "   - 2 : the layer will look at token 0...N in the source sequence in order to predict token N in the target sequence\n",
        " In a proper sequence-to-sequence setup (see figure 11.13), you would first use an\n",
        " RNN (the encoder) to turn the entire source sequence into a single vector (or set of\n",
        " vectors). This could be the last output of the RNN, or alternatively, its final internal\n",
        " state vectors. Then you would use this vector (or vectors) as the initial state of another\n",
        " RNN (the decoder), which would look at elements 0…N in the target sequence, and\n",
        " try to predict step N+1 in the target sequence.\n",
        "\n",
        " \"\"\""
      ],
      "metadata": {
        "colab": {
          "base_uri": "https://localhost:8080/",
          "height": 105
        },
        "id": "Qs0DNGnOIHS-",
        "outputId": "8c17ab6d-6307-48f8-bdfa-e3bbaf2018a3"
      },
      "execution_count": 12,
      "outputs": [
        {
          "output_type": "execute_result",
          "data": {
            "text/plain": [
              "'\\n the way to use RNN for seq2seq learning is make the RNN layer output the entire sequence at each time step\\n the issues here are :\\n   - 1 : the input sequence should always be the same as target(could deal wiht it with padding)\\n   - 2 : the layer will look at token 0...N in the source sequence in order to predict token N in the target sequence\\n In a proper sequence-to-sequence setup (see figure 11.13), you would first use an\\n RNN (the encoder) to turn the entire source sequence into a single vector (or set of\\n vectors). This could be the last output of the RNN, or alternatively, its final internal\\n state vectors. Then you would use this vector (or vectors) as the initial state of another\\n RNN (the decoder), which would look at elements 0…N in the target sequence, and\\n try to predict step N+1 in the target sequence.\\n\\n '"
            ],
            "application/vnd.google.colaboratory.intrinsic+json": {
              "type": "string"
            }
          },
          "metadata": {},
          "execution_count": 12
        }
      ]
    },
    {
      "cell_type": "code",
      "source": [
        "# GRU-based encoder\n",
        "\n",
        "from tensorflow import keras \n",
        "embed_dim = 256\n",
        "latent_dim = 1024\n",
        "\n",
        "source = keras.Input(shape=(None,), dtype=\"int64\", name=\"english\")\n",
        "x = layers.Embedding(vocab_size, embed_dim , mask_zero=True)(source)\n",
        "encoded_source = layers.Bidirectional(\n",
        "    layers.GRU(latent_dim), merge_mode=\"sum\")(x)"
      ],
      "metadata": {
        "id": "I2Ag444IKh5N"
      },
      "execution_count": 13,
      "outputs": []
    },
    {
      "cell_type": "code",
      "source": [
        "# RU-based decoder and the end-to-end model\n",
        "past_target = keras.Input(shape=(None ,),  dtype=\"int64\", name=\"spanish\")\n",
        "x = layers.Embedding(vocab_size , embed_dim , mask_zero=True)(past_target)\n",
        "decoder_gru = layers.GRU(latent_dim, return_sequences=True)\n",
        "x = decoder_gru(x, initial_state=encoded_source)\n",
        "x = layers.Dropout(0.5)(x)\n",
        "target_next_step = layers.Dense(vocab_size, activation=\"softmax\")(x)\n",
        "seq2seq_rnn = keras.Model([source, past_target], target_next_step)"
      ],
      "metadata": {
        "id": "OzTOeo4fLnUa"
      },
      "execution_count": 14,
      "outputs": []
    },
    {
      "cell_type": "code",
      "source": [
        "#Training our recurrent sequence-to-sequence model\n",
        "seq2seq_rnn.compile(\n",
        "    optimizer=\"rmsprop\",\n",
        "    loss=\"sparse_categorical_crossentropy\",\n",
        "    metrics=[\"accuracy\"])\n",
        "\n",
        "seq2seq_rnn.fit(train_ds, epochs=15, validation_data=val_ds)"
      ],
      "metadata": {
        "colab": {
          "base_uri": "https://localhost:8080/"
        },
        "id": "fP20HwlXNyOr",
        "outputId": "985d6f35-7d4a-4639-a583-66b961ed0e5e"
      },
      "execution_count": 15,
      "outputs": [
        {
          "output_type": "stream",
          "name": "stdout",
          "text": [
            "Epoch 1/15\n",
            "1302/1302 [==============================] - 145s 97ms/step - loss: 4.6697 - accuracy: 0.3282 - val_loss: 3.8470 - val_accuracy: 0.4070\n",
            "Epoch 2/15\n",
            "1302/1302 [==============================] - 109s 83ms/step - loss: 3.7453 - accuracy: 0.4237 - val_loss: 3.2544 - val_accuracy: 0.4775\n",
            "Epoch 3/15\n",
            "1302/1302 [==============================] - 109s 83ms/step - loss: 3.2856 - accuracy: 0.4739 - val_loss: 2.9200 - val_accuracy: 0.5205\n",
            "Epoch 4/15\n",
            "1302/1302 [==============================] - 108s 83ms/step - loss: 2.9521 - accuracy: 0.5112 - val_loss: 2.6814 - val_accuracy: 0.5529\n",
            "Epoch 5/15\n",
            "1302/1302 [==============================] - 108s 83ms/step - loss: 2.6915 - accuracy: 0.5403 - val_loss: 2.5089 - val_accuracy: 0.5765\n",
            "Epoch 6/15\n",
            "1302/1302 [==============================] - 108s 83ms/step - loss: 2.4810 - accuracy: 0.5649 - val_loss: 2.3870 - val_accuracy: 0.5934\n",
            "Epoch 7/15\n",
            "1302/1302 [==============================] - 119s 91ms/step - loss: 2.3020 - accuracy: 0.5861 - val_loss: 2.2923 - val_accuracy: 0.6062\n",
            "Epoch 8/15\n",
            "1302/1302 [==============================] - 111s 85ms/step - loss: 2.1471 - accuracy: 0.6053 - val_loss: 2.2102 - val_accuracy: 0.6177\n",
            "Epoch 9/15\n",
            "1302/1302 [==============================] - 115s 88ms/step - loss: 2.0088 - accuracy: 0.6221 - val_loss: 2.1534 - val_accuracy: 0.6268\n",
            "Epoch 10/15\n",
            "1302/1302 [==============================] - 111s 85ms/step - loss: 1.8887 - accuracy: 0.6377 - val_loss: 2.1064 - val_accuracy: 0.6328\n",
            "Epoch 11/15\n",
            "1302/1302 [==============================] - 111s 85ms/step - loss: 1.7863 - accuracy: 0.6506 - val_loss: 2.0764 - val_accuracy: 0.6377\n",
            "Epoch 12/15\n",
            "1302/1302 [==============================] - 111s 86ms/step - loss: 1.6862 - accuracy: 0.6645 - val_loss: 2.0324 - val_accuracy: 0.6447\n",
            "Epoch 13/15\n",
            "1302/1302 [==============================] - 109s 83ms/step - loss: 1.6079 - accuracy: 0.6759 - val_loss: 2.0087 - val_accuracy: 0.6477\n",
            "Epoch 14/15\n",
            "1302/1302 [==============================] - 109s 83ms/step - loss: 1.5275 - accuracy: 0.6869 - val_loss: 1.9904 - val_accuracy: 0.6507\n",
            "Epoch 15/15\n",
            "1302/1302 [==============================] - 111s 85ms/step - loss: 1.4555 - accuracy: 0.6978 - val_loss: 1.9716 - val_accuracy: 0.6526\n"
          ]
        },
        {
          "output_type": "execute_result",
          "data": {
            "text/plain": [
              "<keras.callbacks.History at 0x7f0f45de0c40>"
            ]
          },
          "metadata": {},
          "execution_count": 15
        }
      ]
    },
    {
      "cell_type": "code",
      "source": [
        "# Translating new sentences with our RNN encoder and decoder\n",
        "\n",
        "import numpy as np\n",
        "spa_vocab = target_vectorization.get_vocabulary()\n",
        "spa_index_lookup = dict(zip(range(len(spa_vocab)), spa_vocab))\n",
        "max_decoded_sentence_length = 20"
      ],
      "metadata": {
        "id": "wc2fWRpRVPou"
      },
      "execution_count": 17,
      "outputs": []
    },
    {
      "cell_type": "code",
      "source": [
        "def decode_sequence(input_sentence):\n",
        "  tokenized_input_sentence = source_vectorization([input_sentence])\n",
        "  decoded_sentence = \"[start]\"\n",
        "  for i in range(max_decoded_sentence_length):\n",
        "    tokenized_target_sentence = target_vectorization([decoded_sentence])\n",
        "    next_token_predictions = seq2seq_rnn.predict([tokenized_input_sentence, tokenized_target_sentence])\n",
        "    sampled_token_index = np.argmax(next_token_predictions[0, i, :])\n",
        "    sampled_token = spa_index_lookup[sampled_token_index]\n",
        "    decoded_sentence += \" \" + sampled_token\n",
        "    if sampled_token == \"[end]\":\n",
        "      break \n",
        "  return decoded_sentence"
      ],
      "metadata": {
        "id": "pSDKaCqPVb8Y"
      },
      "execution_count": 18,
      "outputs": []
    },
    {
      "cell_type": "code",
      "source": [
        "test_eng_texts = [pair[0] for pair in test_pairs]\n",
        "for _ in range(20):\n",
        "  input_sentence = random.choice(test_eng_texts)\n",
        "  print(\"-\")\n",
        "  print(input_sentence)\n",
        "  print(decode_sequence(input_sentence))"
      ],
      "metadata": {
        "colab": {
          "base_uri": "https://localhost:8080/"
        },
        "id": "14bdHbVgX7gb",
        "outputId": "0058abde-5c4c-4752-feba-6ae157e351a8"
      },
      "execution_count": 19,
      "outputs": [
        {
          "output_type": "stream",
          "name": "stdout",
          "text": [
            "-\n",
            "Would you mind telling me what this is about?\n",
            "1/1 [==============================] - 3s 3s/step\n",
            "1/1 [==============================] - 0s 38ms/step\n",
            "1/1 [==============================] - 0s 34ms/step\n",
            "1/1 [==============================] - 0s 33ms/step\n",
            "1/1 [==============================] - 0s 32ms/step\n",
            "1/1 [==============================] - 0s 34ms/step\n",
            "1/1 [==============================] - 0s 35ms/step\n",
            "[start] ¿me importaría decir qué es esto? [end]\n",
            "-\n",
            "Do you have a license to sell liquor?\n",
            "1/1 [==============================] - 0s 38ms/step\n",
            "1/1 [==============================] - 0s 33ms/step\n",
            "1/1 [==============================] - 0s 32ms/step\n",
            "1/1 [==============================] - 0s 33ms/step\n",
            "1/1 [==============================] - 0s 32ms/step\n",
            "1/1 [==============================] - 0s 44ms/step\n",
            "1/1 [==============================] - 0s 36ms/step\n",
            "[start] ¿tienes una oportunidad de [UNK] [UNK] [end]\n",
            "-\n",
            "It is as clear to me as if it were yesterday.\n",
            "1/1 [==============================] - 0s 41ms/step\n",
            "1/1 [==============================] - 0s 36ms/step\n",
            "1/1 [==============================] - 0s 34ms/step\n",
            "1/1 [==============================] - 0s 41ms/step\n",
            "1/1 [==============================] - 0s 24ms/step\n",
            "1/1 [==============================] - 0s 24ms/step\n",
            "1/1 [==============================] - 0s 23ms/step\n",
            "1/1 [==============================] - 0s 23ms/step\n",
            "[start] es tan [UNK] como si me ayer. [end]\n",
            "-\n",
            "You've got to be crazy to do something like that.\n",
            "1/1 [==============================] - 0s 24ms/step\n",
            "1/1 [==============================] - 0s 24ms/step\n",
            "1/1 [==============================] - 0s 25ms/step\n",
            "1/1 [==============================] - 0s 23ms/step\n",
            "1/1 [==============================] - 0s 25ms/step\n",
            "1/1 [==============================] - 0s 26ms/step\n",
            "1/1 [==============================] - 0s 25ms/step\n",
            "1/1 [==============================] - 0s 23ms/step\n",
            "[start] tienes que hacer algo para hacer eso. [end]\n",
            "-\n",
            "Bunnies are so cute.\n",
            "1/1 [==============================] - 0s 21ms/step\n",
            "1/1 [==============================] - 0s 21ms/step\n",
            "1/1 [==============================] - 0s 21ms/step\n",
            "1/1 [==============================] - 0s 24ms/step\n",
            "1/1 [==============================] - 0s 22ms/step\n",
            "1/1 [==============================] - 0s 22ms/step\n",
            "[start] los [UNK] son tan [UNK] [end]\n",
            "-\n",
            "You should not despise a man because he is poorly paid.\n",
            "1/1 [==============================] - 0s 26ms/step\n",
            "1/1 [==============================] - 0s 24ms/step\n",
            "1/1 [==============================] - 0s 25ms/step\n",
            "1/1 [==============================] - 0s 22ms/step\n",
            "1/1 [==============================] - 0s 22ms/step\n",
            "1/1 [==============================] - 0s 24ms/step\n",
            "1/1 [==============================] - 0s 23ms/step\n",
            "1/1 [==============================] - 0s 25ms/step\n",
            "1/1 [==============================] - 0s 24ms/step\n",
            "1/1 [==============================] - 0s 24ms/step\n",
            "1/1 [==============================] - 0s 26ms/step\n",
            "1/1 [==============================] - 0s 26ms/step\n",
            "[start] no deberías despreciar a un hombre tan [UNK] como un [UNK] [end]\n",
            "-\n",
            "I often went to the movies with my father.\n",
            "1/1 [==============================] - 0s 24ms/step\n",
            "1/1 [==============================] - 0s 23ms/step\n",
            "1/1 [==============================] - 0s 23ms/step\n",
            "1/1 [==============================] - 0s 22ms/step\n",
            "1/1 [==============================] - 0s 24ms/step\n",
            "1/1 [==============================] - 0s 23ms/step\n",
            "1/1 [==============================] - 0s 24ms/step\n",
            "1/1 [==============================] - 0s 24ms/step\n",
            "1/1 [==============================] - 0s 28ms/step\n",
            "1/1 [==============================] - 0s 25ms/step\n",
            "[start] a menudo [UNK] a la hija de mi padre. [end]\n",
            "-\n",
            "There is almost no furniture.\n",
            "1/1 [==============================] - 0s 26ms/step\n",
            "1/1 [==============================] - 0s 24ms/step\n",
            "1/1 [==============================] - 0s 23ms/step\n",
            "1/1 [==============================] - 0s 23ms/step\n",
            "1/1 [==============================] - 0s 24ms/step\n",
            "[start] casi no hay [UNK] [end]\n",
            "-\n",
            "My mother doesn't like my room being untidy.\n",
            "1/1 [==============================] - 0s 24ms/step\n",
            "1/1 [==============================] - 0s 23ms/step\n",
            "1/1 [==============================] - 0s 23ms/step\n",
            "1/1 [==============================] - 0s 24ms/step\n",
            "1/1 [==============================] - 0s 23ms/step\n",
            "1/1 [==============================] - 0s 26ms/step\n",
            "1/1 [==============================] - 0s 25ms/step\n",
            "1/1 [==============================] - 0s 23ms/step\n",
            "1/1 [==============================] - 0s 23ms/step\n",
            "1/1 [==============================] - 0s 24ms/step\n",
            "[start] mi madre no me gusta la habitación de [UNK] [end]\n",
            "-\n",
            "Tom has skinny legs.\n",
            "1/1 [==============================] - 0s 21ms/step\n",
            "1/1 [==============================] - 0s 22ms/step\n",
            "1/1 [==============================] - 0s 25ms/step\n",
            "1/1 [==============================] - 0s 23ms/step\n",
            "1/1 [==============================] - 0s 22ms/step\n",
            "[start] tom tiene las [UNK] [end]\n",
            "-\n",
            "He acquired French quickly.\n",
            "1/1 [==============================] - 0s 31ms/step\n",
            "1/1 [==============================] - 0s 22ms/step\n",
            "1/1 [==============================] - 0s 21ms/step\n",
            "1/1 [==============================] - 0s 21ms/step\n",
            "1/1 [==============================] - 0s 24ms/step\n",
            "[start] Él [UNK] francés [UNK] [end]\n",
            "-\n",
            "Why do you spend so much time watching TV?\n",
            "1/1 [==============================] - 0s 23ms/step\n",
            "1/1 [==============================] - 0s 22ms/step\n",
            "1/1 [==============================] - 0s 22ms/step\n",
            "1/1 [==============================] - 0s 23ms/step\n",
            "1/1 [==============================] - 0s 22ms/step\n",
            "1/1 [==============================] - 0s 23ms/step\n",
            "1/1 [==============================] - 0s 24ms/step\n",
            "1/1 [==============================] - 0s 22ms/step\n",
            "1/1 [==============================] - 0s 26ms/step\n",
            "1/1 [==============================] - 0s 26ms/step\n",
            "1/1 [==============================] - 0s 25ms/step\n",
            "[start] ¿por qué estás tan ocupado como la semana que viene. [end]\n",
            "-\n",
            "Tom kissed my hand.\n",
            "1/1 [==============================] - 0s 25ms/step\n",
            "1/1 [==============================] - 0s 25ms/step\n",
            "1/1 [==============================] - 0s 24ms/step\n",
            "1/1 [==============================] - 0s 26ms/step\n",
            "1/1 [==============================] - 0s 23ms/step\n",
            "1/1 [==============================] - 0s 24ms/step\n",
            "[start] tom me dio la mano. [end]\n",
            "-\n",
            "You have to pay in advance at that hotel.\n",
            "1/1 [==============================] - 0s 25ms/step\n",
            "1/1 [==============================] - 0s 25ms/step\n",
            "1/1 [==============================] - 0s 31ms/step\n",
            "1/1 [==============================] - 0s 26ms/step\n",
            "1/1 [==============================] - 0s 24ms/step\n",
            "1/1 [==============================] - 0s 26ms/step\n",
            "1/1 [==============================] - 0s 32ms/step\n",
            "1/1 [==============================] - 0s 25ms/step\n",
            "1/1 [==============================] - 0s 29ms/step\n",
            "1/1 [==============================] - 0s 28ms/step\n",
            "[start] tienes que [UNK] en ese hotel en ese hotel. [end]\n",
            "-\n",
            "What have we done to be punished like this?\n",
            "1/1 [==============================] - 0s 25ms/step\n",
            "1/1 [==============================] - 0s 25ms/step\n",
            "1/1 [==============================] - 0s 25ms/step\n",
            "1/1 [==============================] - 0s 23ms/step\n",
            "1/1 [==============================] - 0s 24ms/step\n",
            "1/1 [==============================] - 0s 22ms/step\n",
            "1/1 [==============================] - 0s 28ms/step\n",
            "1/1 [==============================] - 0s 26ms/step\n",
            "[start] ¿qué te ha hecho como ser esto? [end]\n",
            "-\n",
            "I'm full.\n",
            "1/1 [==============================] - 0s 24ms/step\n",
            "1/1 [==============================] - 0s 24ms/step\n",
            "1/1 [==============================] - 0s 23ms/step\n",
            "[start] estoy llena. [end]\n",
            "-\n",
            "When should I stop feeding my dog puppy food?\n",
            "1/1 [==============================] - 0s 26ms/step\n",
            "1/1 [==============================] - 0s 23ms/step\n",
            "1/1 [==============================] - 0s 23ms/step\n",
            "1/1 [==============================] - 0s 23ms/step\n",
            "1/1 [==============================] - 0s 22ms/step\n",
            "1/1 [==============================] - 0s 27ms/step\n",
            "1/1 [==============================] - 0s 25ms/step\n",
            "1/1 [==============================] - 0s 22ms/step\n",
            "[start] ¿cuándo puedo alimentar a mi perro [UNK] [end]\n",
            "-\n",
            "I rode a horse for the first time yesterday.\n",
            "1/1 [==============================] - 0s 25ms/step\n",
            "1/1 [==============================] - 0s 23ms/step\n",
            "1/1 [==============================] - 0s 24ms/step\n",
            "1/1 [==============================] - 0s 24ms/step\n",
            "1/1 [==============================] - 0s 22ms/step\n",
            "1/1 [==============================] - 0s 23ms/step\n",
            "1/1 [==============================] - 0s 25ms/step\n",
            "1/1 [==============================] - 0s 25ms/step\n",
            "1/1 [==============================] - 0s 24ms/step\n",
            "[start] ayer me encontré un avión durante el ayer. [end]\n",
            "-\n",
            "She came to see me.\n",
            "1/1 [==============================] - 0s 25ms/step\n",
            "1/1 [==============================] - 0s 24ms/step\n",
            "1/1 [==============================] - 0s 23ms/step\n",
            "1/1 [==============================] - 0s 24ms/step\n",
            "1/1 [==============================] - 0s 24ms/step\n",
            "[start] ella vino a verme. [end]\n",
            "-\n",
            "It could be a trap.\n",
            "1/1 [==============================] - 0s 26ms/step\n",
            "1/1 [==============================] - 0s 23ms/step\n",
            "1/1 [==============================] - 0s 29ms/step\n",
            "1/1 [==============================] - 0s 24ms/step\n",
            "1/1 [==============================] - 0s 27ms/step\n",
            "[start] podría ser una trampa. [end]\n"
          ]
        }
      ]
    },
    {
      "cell_type": "code",
      "source": [
        "\"\"\"\n",
        "We could use a deep stack of\n",
        "recurrent layers for both the encoder and the decoder (note that for the decoder, this\n",
        "makes state management a bit more involved). We could use an LSTM instead of a GRU.\n",
        "And so on.\n",
        "\n",
        "the RNN approach to sequence-to-sequence\n",
        "learning has a few fundamental limitations:\n",
        " - The source sequence representation has to be held entirely in the encoder state\n",
        "  vector(s), which puts significant limitations on the size and complexity of the\n",
        "  sentences you can translate. It’s a bit as if a human were translating a sentence\n",
        "  entirely from memory, without looking twice at the source sentence while pro-\n",
        "  ducing the translation.\n",
        "\n",
        " - RNNs have trouble dealing with very long sequences, since they tend to pro-\n",
        "  gressively forget about the past—by the time you’ve reached the 100th token in\n",
        "  either sequence, little information remains about the start of the sequence.\n",
        "\"\"\""
      ],
      "metadata": {
        "id": "gT-_zW3hY696"
      },
      "execution_count": null,
      "outputs": []
    },
    {
      "cell_type": "code",
      "source": [],
      "metadata": {
        "id": "_HJnsoykZuC4"
      },
      "execution_count": null,
      "outputs": []
    },
    {
      "cell_type": "code",
      "source": [],
      "metadata": {
        "id": "YCT3KmYNaeMr"
      },
      "execution_count": null,
      "outputs": []
    },
    {
      "cell_type": "markdown",
      "source": [
        "![image.png](data:image/png;base64,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)"
      ],
      "metadata": {
        "id": "GQC62JaxoyBx"
      }
    },
    {
      "cell_type": "code",
      "source": [
        "# The TransformerDecoder\n",
        "import tensorflow as tf\n",
        "from tensorflow import keras\n",
        "from keras import layers \n",
        "\n",
        "class TransformerDecoder(layers.Layer):\n",
        "    def __init__(self, embed_dim, dense_dim, num_heads, **kwargs):\n",
        "        super().__init__(**kwargs)\n",
        "        self.embed_dim = embed_dim\n",
        "        self.dense_dim = dense_dim\n",
        "        self.num_heads = num_heads\n",
        "        self.attention_1 = layers.MultiHeadAttention(\n",
        "            num_heads=num_heads, key_dim=embed_dim)\n",
        "        self.attention_2 = layers.MultiHeadAttention(\n",
        "            num_heads=num_heads, key_dim=embed_dim)\n",
        "        self.dense_proj = keras.Sequential([\n",
        "            layers.Dense(dense_dim, activation=\"relu\"),\n",
        "            layers.Dense(embed_dim),\n",
        "        ], name=\"decoder_dense_proj\")\n",
        "        self.layernorm_1 = layers.LayerNormalization()\n",
        "        self.layernorm_2 = layers.LayerNormalization()\n",
        "        self.layernorm_3 = layers.LayerNormalization()\n",
        "        self.supports_masking = True\n",
        "    \n",
        "    def get_config(self):\n",
        "        config = super().get_config()\n",
        "        config.update({\n",
        "            \"embed_dim\": self.embed_dim,\n",
        "            \"num_heads\": self.num_heads,\n",
        "            \"dense_dim\": self.dense_dim,\n",
        "        })\n",
        "        return config\n",
        "    \n",
        "    def get_causal_attention_mask(self, inputs):\n",
        "        input_shape = tf.shape(inputs)\n",
        "        batch_size, sequence_length = input_shape[0], input_shape[1]\n",
        "        i = tf.range(sequence_length)[:, tf.newaxis]\n",
        "        j = tf.range(sequence_length)\n",
        "        mask = tf.cast(i >= j, dtype=\"int32\")\n",
        "        mask = tf.reshape(mask, (1, input_shape[1], input_shape[1]))\n",
        "        # Replicate it along the batch axis to get a matrix of shape (batch_size, sequence_length, sequence_length).\n",
        "        mult = tf.concat(\n",
        "            [tf.expand_dims(batch_size, -1),\n",
        "             tf.constant([1, 1], dtype=tf.int32)], axis=0)\n",
        "        return tf.tile(mask, mult)\n",
        "    \n",
        "    def call(self, inputs, encoder_outputs, mask=None):\n",
        "        causal_mask = self.get_causal_attention_mask(inputs)\n",
        "        # Retrieve padding_mask from input mask.\n",
        "        if mask is not None:\n",
        "            # Prepare the input mask (that describes padding locations in the target sequence).\n",
        "            padding_mask = tf.cast(\n",
        "                mask[:, tf.newaxis, :], dtype=\"int32\")\n",
        "            padding_mask = tf.minimum(padding_mask, causal_mask)\n",
        "        else:\n",
        "            padding_mask = causal_mask\n",
        "        # Merge the two masks together.\n",
        "        attention_output_1 = self.attention_1(\n",
        "            query=inputs,\n",
        "            value=inputs,\n",
        "            key=inputs,\n",
        "            attention_mask=causal_mask)\n",
        "        attention_output_1 = self.layernorm_1(inputs + attention_output_1)\n",
        "        attention_output_2 = self.attention_2(\n",
        "            query=attention_output_1,\n",
        "            value=encoder_outputs,\n",
        "            key=encoder_outputs,\n",
        "            attention_mask=padding_mask,\n",
        "        )\n",
        "        attention_output_2 = self.layernorm_2(\n",
        "            attention_output_1 + attention_output_2)\n",
        "        proj_output = self.dense_proj(attention_output_2)\n",
        "        return self.layernorm_3(attention_output_2 + proj_output)    "
      ],
      "metadata": {
        "id": "3un3bw27aeHp"
      },
      "execution_count": 40,
      "outputs": []
    },
    {
      "cell_type": "code",
      "source": [
        "class PositionalEmbedding(layers.Layer):\n",
        "    def __init__(self, sequence_length, input_dim, output_dim, **kwargs):\n",
        "        super().__init__(**kwargs)\n",
        "        self.token_embeddings = layers.Embedding(\n",
        "            input_dim=input_dim,\n",
        "            output_dim=output_dim)\n",
        "        self.position_embeddings = layers.Embedding(\n",
        "            input_dim=sequence_length,\n",
        "            output_dim=output_dim)\n",
        "        self.sequence_length = sequence_length\n",
        "        self.input_dim = input_dim\n",
        "        self.output_dim = output_dim\n",
        "    \n",
        "    def call(self, inputs):\n",
        "        length = tf.shape(inputs)[-1]\n",
        "        positions = tf.range(start=0, limit=length, delta=1)\n",
        "        embedded_tokens = self.token_embeddings(inputs)\n",
        "        embedded_positions = self.position_embeddings(positions)\n",
        "        return embedded_tokens + embedded_positions\n",
        "    \n",
        "    def compute_mask(self, inputs, mask=None):\n",
        "        return tf.math.not_equal(inputs, 0)\n",
        "    \n",
        "    def get_config(self):\n",
        "        config = super().get_config()\n",
        "        config.update({\n",
        "            \"output_dim\": self.output_dim,\n",
        "            \"input_dim\": self.input_dim,\n",
        "            \"sequence_length\": self.sequence_length,\n",
        "        })\n",
        "        return config\n"
      ],
      "metadata": {
        "id": "DoxLM8EQTuMv"
      },
      "execution_count": 34,
      "outputs": []
    },
    {
      "cell_type": "code",
      "source": [
        "class TransformerEncoder(layers.Layer):\n",
        "  def __init__(self , embed_dim , dense_dim,  num_heads , **kwargs):\n",
        "    super().__init__(**kwargs)\n",
        "    self.embed_dim = embed_dim\n",
        "    self.dense_dim = dense_dim \n",
        "    self.num_heads = num_heads \n",
        "    self.attention = layers.MultiHeadAttention(\n",
        "        num_heads = num_heads , key_dim = embed_dim )\n",
        "    \n",
        "    self.dense_proj = keras.Sequential([\n",
        "        layers.Dense(dense_dim, activation=\"relu\"),\n",
        "        layers.Dense(embed_dim),\n",
        "    ], name=\"encoder_dense_proj\")\n",
        "    self.dense_proj.build(input_shape=(None, embed_dim))\n",
        "\n",
        "\n",
        "    self.layernorm_1 = layers.LayerNormalization()\n",
        "    self.layernorm_2 = layers.LayerNormalization()\n",
        "\n",
        "    def call(self, inputs , mask=None):\n",
        "      if mask is not None :\n",
        "        mask = mask[:, tf.newaxis, :]\n",
        "\n",
        "      attention_output = self.attention(\n",
        "          inputs , inputs , attention_mask = mask)\n",
        "      \n",
        "      proj_input = self.layernorm_1(inputs + attention_output)\n",
        "\n",
        "      proj_output = self.dense_proj(proj_input)\n",
        "\n",
        "      return self.layernorm_2(proj_input + proj_output)\n",
        "\n",
        "    def get_config(self):\n",
        "      config = super().get_config()\n",
        "      config.update({\n",
        "          \"embed_dim\": self.embed_dim,\n",
        "          \"num_heads\": self.num_heads,\n",
        "          \"dense_dim\": self.dense_dim,\n",
        "      })\n",
        "      return config \n",
        "\n"
      ],
      "metadata": {
        "id": "ZILKvJrdV2gI"
      },
      "execution_count": 50,
      "outputs": []
    },
    {
      "cell_type": "code",
      "source": [
        "# positional embedding layer\n",
        "\"\"\"\n",
        "The idea behind positional encoding is very simple: to give the model access to word-\n",
        "order information, we’re going to add the word’s position in the sentence to each word\n",
        "embedding. Our input word embeddings will have two components: the usual word\n",
        "vector, which represents the word independently of any specific context, and a posi-\n",
        "tion vector, which represents the position of the word in the current sentence.\n",
        "we’ll learn position-\n",
        "embedding vectors the same way we learn to embed word indices. We’ll then proceed\n",
        "to add our position embeddings to the corresponding word embeddings, to obtain a\n",
        "position-aware word embedding. This technique is called “positional embedding.”\n",
        "Let’s implement it.\n",
        "\"\"\""
      ],
      "metadata": {
        "id": "IIY-bvsES_ea"
      },
      "execution_count": null,
      "outputs": []
    },
    {
      "cell_type": "code",
      "source": [
        "# end-to-end Transformer\n",
        "embed_dim = 256\n",
        "dense_dim = 2048\n",
        "num_heads = 8\n",
        "\n",
        "encoder_inputs = keras.Input(shape=(None,), dtype=\"int64\", name=\"english\")\n",
        "x = PositionalEmbedding(sequence_length, vocab_size, embed_dim)(encoder_inputs)\n",
        "encoder_outputs = TransformerEncoder(embed_dim, dense_dim, num_heads)(x)\n",
        "\n",
        "decoder_inputs = keras.Input(shape=(None,), dtype=\"int64\", name=\"spanish\")\n",
        "x = PositionalEmbedding(sequence_length, vocab_size, embed_dim)(decoder_inputs)\n",
        "x = TransformerDecoder(embed_dim, dense_dim, num_heads)(x, encoder_outputs)\n",
        "x = layers.Dropout(0.5)(x)\n",
        "decoder_outputs = layers.Dense(vocab_size, activation=\"softmax\")(x)\n",
        "transformer = keras.Model([encoder_inputs, decoder_inputs], decoder_outputs)"
      ],
      "metadata": {
        "id": "U_0P3hB9q4LZ"
      },
      "execution_count": 51,
      "outputs": []
    },
    {
      "cell_type": "code",
      "source": [
        "transformer.compile(\n",
        "    optimizer=\"rmsprop\",\n",
        "    loss=\"sparse_categorical_crossentropy\",\n",
        "    metrics=[\"accuracy\"])\n",
        "\n",
        "transformer.fit(train_ds, epochs=30, validation_data=val_ds)"
      ],
      "metadata": {
        "colab": {
          "base_uri": "https://localhost:8080/"
        },
        "id": "TmTBYMhLb6lh",
        "outputId": "6352ccc7-ace6-4a4d-d938-ab4e91e346b9"
      },
      "execution_count": 52,
      "outputs": [
        {
          "output_type": "stream",
          "name": "stdout",
          "text": [
            "Epoch 1/30\n"
          ]
        },
        {
          "output_type": "stream",
          "name": "stderr",
          "text": [
            "WARNING:tensorflow:Gradients do not exist for variables ['dense_44/kernel:0', 'dense_44/bias:0', 'dense_45/kernel:0', 'dense_45/bias:0'] when minimizing the loss. If you're using `model.compile()`, did you forget to provide a `loss` argument?\n",
            "WARNING:tensorflow:Gradients do not exist for variables ['dense_44/kernel:0', 'dense_44/bias:0', 'dense_45/kernel:0', 'dense_45/bias:0'] when minimizing the loss. If you're using `model.compile()`, did you forget to provide a `loss` argument?\n",
            "WARNING:tensorflow:Gradients do not exist for variables ['dense_44/kernel:0', 'dense_44/bias:0', 'dense_45/kernel:0', 'dense_45/bias:0'] when minimizing the loss. If you're using `model.compile()`, did you forget to provide a `loss` argument?\n",
            "WARNING:tensorflow:Gradients do not exist for variables ['dense_44/kernel:0', 'dense_44/bias:0', 'dense_45/kernel:0', 'dense_45/bias:0'] when minimizing the loss. If you're using `model.compile()`, did you forget to provide a `loss` argument?\n"
          ]
        },
        {
          "output_type": "stream",
          "name": "stdout",
          "text": [
            "1302/1302 [==============================] - 90s 65ms/step - loss: 4.3522 - accuracy: 0.3688 - val_loss: 3.6260 - val_accuracy: 0.4363\n",
            "Epoch 2/30\n",
            "1302/1302 [==============================] - 71s 55ms/step - loss: 3.7060 - accuracy: 0.4394 - val_loss: 3.3451 - val_accuracy: 0.4751\n",
            "Epoch 3/30\n",
            "1302/1302 [==============================] - 71s 54ms/step - loss: 3.4673 - accuracy: 0.4728 - val_loss: 3.1623 - val_accuracy: 0.5040\n",
            "Epoch 4/30\n",
            "1302/1302 [==============================] - 71s 54ms/step - loss: 3.3046 - accuracy: 0.4954 - val_loss: 3.0620 - val_accuracy: 0.5166\n",
            "Epoch 5/30\n",
            "1302/1302 [==============================] - 71s 55ms/step - loss: 3.1915 - accuracy: 0.5112 - val_loss: 3.0040 - val_accuracy: 0.5280\n",
            "Epoch 6/30\n",
            "1302/1302 [==============================] - 71s 54ms/step - loss: 3.1120 - accuracy: 0.5235 - val_loss: 2.9942 - val_accuracy: 0.5331\n",
            "Epoch 7/30\n",
            "1302/1302 [==============================] - 73s 56ms/step - loss: 3.0513 - accuracy: 0.5330 - val_loss: 2.9772 - val_accuracy: 0.5370\n",
            "Epoch 8/30\n",
            "1302/1302 [==============================] - 71s 55ms/step - loss: 3.0062 - accuracy: 0.5405 - val_loss: 2.9586 - val_accuracy: 0.5403\n",
            "Epoch 9/30\n",
            "1302/1302 [==============================] - 71s 54ms/step - loss: 2.9696 - accuracy: 0.5470 - val_loss: 2.9515 - val_accuracy: 0.5410\n",
            "Epoch 10/30\n",
            "1302/1302 [==============================] - 71s 54ms/step - loss: 2.9367 - accuracy: 0.5524 - val_loss: 2.9677 - val_accuracy: 0.5427\n",
            "Epoch 11/30\n",
            "1302/1302 [==============================] - 71s 55ms/step - loss: 2.9071 - accuracy: 0.5567 - val_loss: 2.9651 - val_accuracy: 0.5424\n",
            "Epoch 12/30\n",
            "1302/1302 [==============================] - 71s 54ms/step - loss: 2.8798 - accuracy: 0.5612 - val_loss: 2.9738 - val_accuracy: 0.5469\n",
            "Epoch 13/30\n",
            "1302/1302 [==============================] - 71s 54ms/step - loss: 2.8517 - accuracy: 0.5663 - val_loss: 2.9863 - val_accuracy: 0.5453\n",
            "Epoch 14/30\n",
            "1302/1302 [==============================] - 71s 54ms/step - loss: 2.8274 - accuracy: 0.5709 - val_loss: 2.9928 - val_accuracy: 0.5470\n",
            "Epoch 15/30\n",
            "1302/1302 [==============================] - 73s 56ms/step - loss: 2.8031 - accuracy: 0.5750 - val_loss: 3.0018 - val_accuracy: 0.5472\n",
            "Epoch 16/30\n",
            "1302/1302 [==============================] - 71s 54ms/step - loss: 2.7777 - accuracy: 0.5791 - val_loss: 2.9966 - val_accuracy: 0.5482\n",
            "Epoch 17/30\n",
            "1302/1302 [==============================] - 73s 56ms/step - loss: 2.7576 - accuracy: 0.5826 - val_loss: 3.0191 - val_accuracy: 0.5473\n",
            "Epoch 18/30\n",
            "1302/1302 [==============================] - 71s 54ms/step - loss: 2.7325 - accuracy: 0.5873 - val_loss: 3.0310 - val_accuracy: 0.5472\n",
            "Epoch 19/30\n",
            "1302/1302 [==============================] - 74s 57ms/step - loss: 2.7114 - accuracy: 0.5905 - val_loss: 3.0446 - val_accuracy: 0.5471\n",
            "Epoch 20/30\n",
            "1302/1302 [==============================] - 71s 54ms/step - loss: 2.6903 - accuracy: 0.5944 - val_loss: 3.0387 - val_accuracy: 0.5492\n",
            "Epoch 21/30\n",
            "1302/1302 [==============================] - 71s 54ms/step - loss: 2.6688 - accuracy: 0.5981 - val_loss: 3.0785 - val_accuracy: 0.5463\n",
            "Epoch 22/30\n",
            "1302/1302 [==============================] - 71s 54ms/step - loss: 2.6492 - accuracy: 0.6013 - val_loss: 3.0956 - val_accuracy: 0.5440\n",
            "Epoch 23/30\n",
            "1302/1302 [==============================] - 71s 54ms/step - loss: 2.6324 - accuracy: 0.6042 - val_loss: 3.0993 - val_accuracy: 0.5488\n",
            "Epoch 24/30\n",
            "1302/1302 [==============================] - 71s 55ms/step - loss: 2.6132 - accuracy: 0.6073 - val_loss: 3.0952 - val_accuracy: 0.5494\n",
            "Epoch 25/30\n",
            "1302/1302 [==============================] - 71s 54ms/step - loss: 2.5937 - accuracy: 0.6106 - val_loss: 3.1074 - val_accuracy: 0.5477\n",
            "Epoch 26/30\n",
            "1302/1302 [==============================] - 73s 56ms/step - loss: 2.5778 - accuracy: 0.6134 - val_loss: 3.1120 - val_accuracy: 0.5479\n",
            "Epoch 27/30\n",
            "1302/1302 [==============================] - 71s 54ms/step - loss: 2.5607 - accuracy: 0.6162 - val_loss: 3.1386 - val_accuracy: 0.5446\n",
            "Epoch 28/30\n",
            "1302/1302 [==============================] - 73s 56ms/step - loss: 2.5466 - accuracy: 0.6185 - val_loss: 3.1286 - val_accuracy: 0.5472\n",
            "Epoch 29/30\n",
            "1302/1302 [==============================] - 71s 55ms/step - loss: 2.5300 - accuracy: 0.6212 - val_loss: 3.1766 - val_accuracy: 0.5458\n",
            "Epoch 30/30\n",
            "1302/1302 [==============================] - 71s 54ms/step - loss: 2.5129 - accuracy: 0.6234 - val_loss: 3.1677 - val_accuracy: 0.5488\n"
          ]
        },
        {
          "output_type": "execute_result",
          "data": {
            "text/plain": [
              "<keras.callbacks.History at 0x7f0f324eeaf0>"
            ]
          },
          "metadata": {},
          "execution_count": 52
        }
      ]
    },
    {
      "cell_type": "code",
      "source": [
        "import numpy as np\n",
        "spa_vocab = target_vectorization.get_vocabulary()\n",
        "spa_index_lookup = dict(zip(range(len(spa_vocab)), spa_vocab))\n",
        "max_decoded_sentence_length = 20"
      ],
      "metadata": {
        "id": "q17FY_9TpuNH"
      },
      "execution_count": 53,
      "outputs": []
    },
    {
      "cell_type": "code",
      "source": [
        "def decode_sequence(input_sentence):\n",
        "    tokenized_input_sentence = source_vectorization([input_sentence])\n",
        "    decoded_sentence = \"[start]\"\n",
        "    for i in range(max_decoded_sentence_length):\n",
        "        tokenized_target_sentence = target_vectorization([decoded_sentence])[:, :-1]\n",
        "        predictions = transformer([tokenized_input_sentence, tokenized_target_sentence])\n",
        "        \n",
        "        # Sample the next token.\n",
        "        sampled_token_index = np.argmax(predictions[0, i, :])\n",
        "        sampled_token = spa_index_lookup[sampled_token_index]\n",
        "        \n",
        "        # Convert the next token prediction to a string, and append it to decoded_sentence.\n",
        "        decoded_sentence += \" \" + sampled_token\n",
        "        \n",
        "        # Exit condition if [end] is reached.\n",
        "        if sampled_token == \"[end]\":\n",
        "            break\n",
        "            \n",
        "    return decoded_sentence\n",
        "\n",
        "\n"
      ],
      "metadata": {
        "id": "NcrCYEKJqvcq"
      },
      "execution_count": 55,
      "outputs": []
    },
    {
      "cell_type": "code",
      "source": [
        "test_eng_texts = [pair[0] for pair in test_pairs]\n",
        "for _ in range(5):\n",
        "    input_sentence = input(\"Enter sentence to translate: \")\n",
        "    print(\"-\")\n",
        "    print(input_sentence)\n",
        "    print(decode_sequence(input_sentence))"
      ],
      "metadata": {
        "colab": {
          "base_uri": "https://localhost:8080/"
        },
        "id": "X3TD9Z9OrcPL",
        "outputId": "4b1a5a2c-2bd9-4f7a-b1ac-c9bbd47deea9"
      },
      "execution_count": 57,
      "outputs": [
        {
          "output_type": "stream",
          "name": "stdout",
          "text": [
            "Enter sentence to translate: yesterday , i was at school\n",
            "-\n",
            "yesterday , i was at school\n",
            "[start] ayer tuve la oficina a las [UNK] [end]\n",
            "Enter sentence to translate: the sky is blue \n",
            "-\n",
            "the sky is blue \n",
            "[start] el [UNK] es azul. [end]\n",
            "Enter sentence to translate: i love this song\n",
            "-\n",
            "i love this song\n",
            "[start] no me gusta esta canción para ti. [end]\n",
            "Enter sentence to translate: do you know this flower's name ?\n",
            "-\n",
            "do you know this flower's name ?\n",
            "[start] ¿tienes una vida en [UNK] [end]\n",
            "Enter sentence to translate: what are you doing ?\n",
            "-\n",
            "what are you doing ?\n",
            "[start] ¿qué estás [UNK] [end]\n"
          ]
        }
      ]
    },
    {
      "cell_type": "markdown",
      "source": [],
      "metadata": {
        "id": "93-HPA-4cZUX"
      }
    }
  ]
}