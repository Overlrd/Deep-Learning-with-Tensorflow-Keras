{
 "cells": [
  {
   "cell_type": "markdown",
   "id": "e00c7c9a",
   "metadata": {},
   "source": [
    "## REDUCING THE NETWORK’S SIZE"
   ]
  },
  {
   "cell_type": "raw",
   "id": "97114881",
   "metadata": {},
   "source": [
    "The general workflow for finding an appropriate model size is to start\n",
    "with relatively few layers and parameters, and increase the size of the layers or add new\n",
    "layers until you see diminishing returns with regard to validation loss."
   ]
  },
  {
   "cell_type": "raw",
   "id": "c4d435f9",
   "metadata": {},
   "source": [
    "Let’s try this on the movie-review classification model. The following listing shows\n",
    "our original model"
   ]
  },
  {
   "cell_type": "code",
   "execution_count": 1,
   "id": "85f620db",
   "metadata": {},
   "outputs": [],
   "source": [
    "from tensorflow.keras.datasets import imdb\n",
    "import numpy as np\n",
    "\n",
    "\n",
    "(train_data, train_labels), _ = imdb.load_data(num_words=10000)\n",
    "\n",
    "def vectorize_sequences(sequences, dimension=10000):\n",
    "     results = np.zeros((len(sequences), dimension))\n",
    "     for i, sequence in enumerate(sequences):\n",
    "         results[i, sequence] = 1.\n",
    "     return results\n",
    "train_data = vectorize_sequences(train_data)"
   ]
  },
  {
   "cell_type": "code",
   "execution_count": 2,
   "id": "d9e496bb",
   "metadata": {},
   "outputs": [],
   "source": [
    "from tensorflow import keras\n",
    "layers = keras.layers\n",
    "\n",
    "model = keras.Sequential([\n",
    "     layers.Dense(16, activation=\"relu\"),\n",
    "     layers.Dense(16, activation=\"relu\"),\n",
    "     layers.Dense(1, activation=\"sigmoid\")\n",
    "])\n"
   ]
  },
  {
   "cell_type": "code",
   "execution_count": 4,
   "id": "77385a09",
   "metadata": {},
   "outputs": [
    {
     "name": "stdout",
     "output_type": "stream",
     "text": [
      "Epoch 1/20\n",
      "30/30 [==============================] - 2s 44ms/step - loss: 0.5243 - accuracy: 0.7835 - val_loss: 0.3880 - val_accuracy: 0.8702\n",
      "Epoch 2/20\n",
      "30/30 [==============================] - 1s 27ms/step - loss: 0.3120 - accuracy: 0.8992 - val_loss: 0.3033 - val_accuracy: 0.8882\n",
      "Epoch 3/20\n",
      "30/30 [==============================] - 1s 27ms/step - loss: 0.2285 - accuracy: 0.9275 - val_loss: 0.3166 - val_accuracy: 0.8694\n",
      "Epoch 4/20\n",
      "30/30 [==============================] - 1s 27ms/step - loss: 0.1835 - accuracy: 0.9414 - val_loss: 0.2756 - val_accuracy: 0.8908\n",
      "Epoch 5/20\n",
      "30/30 [==============================] - 1s 27ms/step - loss: 0.1467 - accuracy: 0.9551 - val_loss: 0.2784 - val_accuracy: 0.8906\n",
      "Epoch 6/20\n",
      "30/30 [==============================] - 1s 26ms/step - loss: 0.1254 - accuracy: 0.9599 - val_loss: 0.2909 - val_accuracy: 0.8877\n",
      "Epoch 7/20\n",
      "30/30 [==============================] - 1s 26ms/step - loss: 0.1022 - accuracy: 0.9697 - val_loss: 0.3045 - val_accuracy: 0.8854\n",
      "Epoch 8/20\n",
      "30/30 [==============================] - 1s 26ms/step - loss: 0.0881 - accuracy: 0.9736 - val_loss: 0.3384 - val_accuracy: 0.8798\n",
      "Epoch 9/20\n",
      "30/30 [==============================] - 1s 26ms/step - loss: 0.0693 - accuracy: 0.9823 - val_loss: 0.3572 - val_accuracy: 0.8775\n",
      "Epoch 10/20\n",
      "30/30 [==============================] - 1s 25ms/step - loss: 0.0608 - accuracy: 0.9846 - val_loss: 0.3761 - val_accuracy: 0.8767\n",
      "Epoch 11/20\n",
      "30/30 [==============================] - 1s 27ms/step - loss: 0.0489 - accuracy: 0.9883 - val_loss: 0.3975 - val_accuracy: 0.8759\n",
      "Epoch 12/20\n",
      "30/30 [==============================] - 1s 27ms/step - loss: 0.0397 - accuracy: 0.9905 - val_loss: 0.4514 - val_accuracy: 0.8707\n",
      "Epoch 13/20\n",
      "30/30 [==============================] - 1s 25ms/step - loss: 0.0324 - accuracy: 0.9935 - val_loss: 0.4639 - val_accuracy: 0.8729\n",
      "Epoch 14/20\n",
      "30/30 [==============================] - 1s 27ms/step - loss: 0.0292 - accuracy: 0.9935 - val_loss: 0.4866 - val_accuracy: 0.8721\n",
      "Epoch 15/20\n",
      "30/30 [==============================] - 1s 26ms/step - loss: 0.0202 - accuracy: 0.9963 - val_loss: 0.5151 - val_accuracy: 0.8701\n",
      "Epoch 16/20\n",
      "30/30 [==============================] - 1s 26ms/step - loss: 0.0149 - accuracy: 0.9980 - val_loss: 0.5499 - val_accuracy: 0.8694\n",
      "Epoch 17/20\n",
      "30/30 [==============================] - 1s 27ms/step - loss: 0.0149 - accuracy: 0.9977 - val_loss: 0.5888 - val_accuracy: 0.8680\n",
      "Epoch 18/20\n",
      "30/30 [==============================] - 1s 30ms/step - loss: 0.0087 - accuracy: 0.9992 - val_loss: 0.6578 - val_accuracy: 0.8626\n",
      "Epoch 19/20\n",
      "30/30 [==============================] - 1s 26ms/step - loss: 0.0094 - accuracy: 0.9986 - val_loss: 0.6652 - val_accuracy: 0.8643\n",
      "Epoch 20/20\n",
      "30/30 [==============================] - 1s 26ms/step - loss: 0.0047 - accuracy: 0.9996 - val_loss: 0.7109 - val_accuracy: 0.8616\n"
     ]
    }
   ],
   "source": [
    "model.compile(optimizer=\"rmsprop\",\n",
    "     loss=\"binary_crossentropy\",\n",
    "     metrics=[\"accuracy\"])\n",
    "\n",
    "history_original = model.fit(train_data, train_labels,\n",
    "     epochs=20, batch_size=512, validation_split=0.4)\n",
    "\n",
    "\n",
    "### Now let’s try to replace it with this smaller model"
   ]
  },
  {
   "cell_type": "code",
   "execution_count": 5,
   "id": "6a7759e2",
   "metadata": {},
   "outputs": [],
   "source": [
    "model = keras.Sequential([\n",
    "     layers.Dense(4, activation=\"relu\"),\n",
    "     layers.Dense(4, activation=\"relu\"),\n",
    "     layers.Dense(1, activation=\"sigmoid\")\n",
    "])\n",
    "\n"
   ]
  },
  {
   "cell_type": "code",
   "execution_count": 7,
   "id": "6e5d37c7",
   "metadata": {},
   "outputs": [
    {
     "name": "stdout",
     "output_type": "stream",
     "text": [
      "Epoch 1/20\n",
      "30/30 [==============================] - 2s 35ms/step - loss: 0.5999 - accuracy: 0.7453 - val_loss: 0.5201 - val_accuracy: 0.8353\n",
      "Epoch 2/20\n",
      "30/30 [==============================] - 1s 22ms/step - loss: 0.4576 - accuracy: 0.8777 - val_loss: 0.4297 - val_accuracy: 0.8770\n",
      "Epoch 3/20\n",
      "30/30 [==============================] - 1s 26ms/step - loss: 0.3659 - accuracy: 0.9090 - val_loss: 0.3696 - val_accuracy: 0.8869\n",
      "Epoch 4/20\n",
      "30/30 [==============================] - 1s 25ms/step - loss: 0.3011 - accuracy: 0.9229 - val_loss: 0.3325 - val_accuracy: 0.8908\n",
      "Epoch 5/20\n",
      "30/30 [==============================] - 1s 26ms/step - loss: 0.2551 - accuracy: 0.9339 - val_loss: 0.3115 - val_accuracy: 0.8826\n",
      "Epoch 6/20\n",
      "30/30 [==============================] - 1s 22ms/step - loss: 0.2206 - accuracy: 0.9411 - val_loss: 0.2894 - val_accuracy: 0.8906\n",
      "Epoch 7/20\n",
      "30/30 [==============================] - 1s 24ms/step - loss: 0.1939 - accuracy: 0.9469 - val_loss: 0.2824 - val_accuracy: 0.8905\n",
      "Epoch 8/20\n",
      "30/30 [==============================] - 1s 26ms/step - loss: 0.1730 - accuracy: 0.9523 - val_loss: 0.2748 - val_accuracy: 0.8942\n",
      "Epoch 9/20\n",
      "30/30 [==============================] - 1s 22ms/step - loss: 0.1554 - accuracy: 0.9571 - val_loss: 0.2736 - val_accuracy: 0.8933\n",
      "Epoch 10/20\n",
      "30/30 [==============================] - 1s 23ms/step - loss: 0.1390 - accuracy: 0.9622 - val_loss: 0.2924 - val_accuracy: 0.8848\n",
      "Epoch 11/20\n",
      "30/30 [==============================] - 1s 25ms/step - loss: 0.1251 - accuracy: 0.9661 - val_loss: 0.2817 - val_accuracy: 0.8900\n",
      "Epoch 12/20\n",
      "30/30 [==============================] - 1s 23ms/step - loss: 0.1128 - accuracy: 0.9701 - val_loss: 0.2894 - val_accuracy: 0.8890\n",
      "Epoch 13/20\n",
      "30/30 [==============================] - 1s 23ms/step - loss: 0.1027 - accuracy: 0.9734 - val_loss: 0.2939 - val_accuracy: 0.8884\n",
      "Epoch 14/20\n",
      "30/30 [==============================] - 1s 26ms/step - loss: 0.0935 - accuracy: 0.9767 - val_loss: 0.3069 - val_accuracy: 0.8861\n",
      "Epoch 15/20\n",
      "30/30 [==============================] - 1s 24ms/step - loss: 0.0852 - accuracy: 0.9793 - val_loss: 0.3119 - val_accuracy: 0.8867\n",
      "Epoch 16/20\n",
      "30/30 [==============================] - 1s 22ms/step - loss: 0.0770 - accuracy: 0.9821 - val_loss: 0.3283 - val_accuracy: 0.8826\n",
      "Epoch 17/20\n",
      "30/30 [==============================] - 1s 24ms/step - loss: 0.0693 - accuracy: 0.9853 - val_loss: 0.3402 - val_accuracy: 0.8796\n",
      "Epoch 18/20\n",
      "30/30 [==============================] - 1s 23ms/step - loss: 0.0632 - accuracy: 0.9865 - val_loss: 0.3459 - val_accuracy: 0.8824\n",
      "Epoch 19/20\n",
      "30/30 [==============================] - 1s 24ms/step - loss: 0.0566 - accuracy: 0.9887 - val_loss: 0.3602 - val_accuracy: 0.8803\n",
      "Epoch 20/20\n",
      "30/30 [==============================] - 1s 24ms/step - loss: 0.0514 - accuracy: 0.9899 - val_loss: 0.3749 - val_accuracy: 0.8803\n"
     ]
    }
   ],
   "source": [
    "model.compile(optimizer=\"rmsprop\",\n",
    "     loss=\"binary_crossentropy\",\n",
    "     metrics=[\"accuracy\"])\n",
    "\n",
    "history_smaller_model = model.fit(\n",
    "     train_data, train_labels,\n",
    "     epochs=20, batch_size=512, validation_split=0.4)"
   ]
  },
  {
   "cell_type": "markdown",
   "id": "630c2645",
   "metadata": {},
   "source": [
    "## Version of the model with higher capacity"
   ]
  },
  {
   "cell_type": "code",
   "execution_count": 8,
   "id": "bbbba058",
   "metadata": {},
   "outputs": [
    {
     "name": "stdout",
     "output_type": "stream",
     "text": [
      "Epoch 1/20\n",
      "30/30 [==============================] - 12s 372ms/step - loss: 0.5529 - accuracy: 0.7612 - val_loss: 0.3029 - val_accuracy: 0.8773\n",
      "Epoch 2/20\n",
      "30/30 [==============================] - 11s 356ms/step - loss: 0.2481 - accuracy: 0.9019 - val_loss: 0.3190 - val_accuracy: 0.8799\n",
      "Epoch 3/20\n",
      "30/30 [==============================] - 11s 355ms/step - loss: 0.1419 - accuracy: 0.9470 - val_loss: 0.5045 - val_accuracy: 0.8263\n",
      "Epoch 4/20\n",
      "30/30 [==============================] - 11s 354ms/step - loss: 0.1281 - accuracy: 0.9643 - val_loss: 0.3190 - val_accuracy: 0.8897\n",
      "Epoch 5/20\n",
      "30/30 [==============================] - 11s 355ms/step - loss: 0.0144 - accuracy: 0.9965 - val_loss: 0.4353 - val_accuracy: 0.8871\n",
      "Epoch 6/20\n",
      "30/30 [==============================] - 11s 362ms/step - loss: 0.1790 - accuracy: 0.9789 - val_loss: 0.3588 - val_accuracy: 0.8870\n",
      "Epoch 7/20\n",
      "30/30 [==============================] - 11s 370ms/step - loss: 0.0029 - accuracy: 0.9999 - val_loss: 0.4727 - val_accuracy: 0.8868\n",
      "Epoch 8/20\n",
      "30/30 [==============================] - 11s 365ms/step - loss: 6.1662e-04 - accuracy: 1.0000 - val_loss: 0.5930 - val_accuracy: 0.8884\n",
      "Epoch 9/20\n",
      "30/30 [==============================] - 11s 354ms/step - loss: 1.2406e-04 - accuracy: 1.0000 - val_loss: 0.7111 - val_accuracy: 0.8893\n",
      "Epoch 10/20\n",
      "30/30 [==============================] - 11s 355ms/step - loss: 2.3041e-05 - accuracy: 1.0000 - val_loss: 0.8192 - val_accuracy: 0.8878\n",
      "Epoch 11/20\n",
      "30/30 [==============================] - 11s 355ms/step - loss: 5.1462e-06 - accuracy: 1.0000 - val_loss: 0.9183 - val_accuracy: 0.8881\n",
      "Epoch 12/20\n",
      "30/30 [==============================] - 11s 357ms/step - loss: 1.3672e-06 - accuracy: 1.0000 - val_loss: 1.0143 - val_accuracy: 0.8861\n",
      "Epoch 13/20\n",
      "30/30 [==============================] - 11s 359ms/step - loss: 4.1863e-07 - accuracy: 1.0000 - val_loss: 1.0901 - val_accuracy: 0.8874\n",
      "Epoch 14/20\n",
      "30/30 [==============================] - 11s 360ms/step - loss: 1.5637e-07 - accuracy: 1.0000 - val_loss: 1.1573 - val_accuracy: 0.8882\n",
      "Epoch 15/20\n",
      "30/30 [==============================] - 11s 358ms/step - loss: 6.5525e-08 - accuracy: 1.0000 - val_loss: 1.2082 - val_accuracy: 0.8870\n",
      "Epoch 16/20\n",
      "30/30 [==============================] - 11s 358ms/step - loss: 3.4457e-08 - accuracy: 1.0000 - val_loss: 1.2458 - val_accuracy: 0.8869\n",
      "Epoch 17/20\n",
      "30/30 [==============================] - 11s 355ms/step - loss: 2.2226e-08 - accuracy: 1.0000 - val_loss: 1.2722 - val_accuracy: 0.8873\n",
      "Epoch 18/20\n",
      "30/30 [==============================] - 11s 355ms/step - loss: 1.6253e-08 - accuracy: 1.0000 - val_loss: 1.2904 - val_accuracy: 0.8874\n",
      "Epoch 19/20\n",
      "30/30 [==============================] - 11s 355ms/step - loss: 1.2779e-08 - accuracy: 1.0000 - val_loss: 1.3063 - val_accuracy: 0.8874\n",
      "Epoch 20/20\n",
      "30/30 [==============================] - 11s 356ms/step - loss: 1.0428e-08 - accuracy: 1.0000 - val_loss: 1.3182 - val_accuracy: 0.8873\n"
     ]
    }
   ],
   "source": [
    "model = keras.Sequential([\n",
    " layers.Dense(512, activation=\"relu\"),\n",
    " layers.Dense(512, activation=\"relu\"),\n",
    " layers.Dense(1, activation=\"sigmoid\")\n",
    "])\n",
    "model.compile(optimizer=\"rmsprop\",\n",
    " loss=\"binary_crossentropy\",\n",
    " metrics=[\"accuracy\"])\n",
    "\n",
    "\n",
    "history_larger_model = model.fit(\n",
    " train_data, train_labels,\n",
    " epochs=20, batch_size=512, validation_split=0.4)"
   ]
  },
  {
   "cell_type": "raw",
   "id": "3fd3882c",
   "metadata": {},
   "source": [
    "The bigger model starts overfitting almost immediately, after just one epoch, and it\n",
    "overfits much more severely. Its validation loss is also noisier. It gets training loss near\n",
    "zero very quickly. The more capacity the model has, the more quickly it can model the\n",
    "training data (resulting in a low training loss), but the more susceptible it is to overfit\u0002ting \n",
    "(resulting in a large difference between the training and validation loss)."
   ]
  },
  {
   "cell_type": "code",
   "execution_count": null,
   "id": "05116a0d",
   "metadata": {},
   "outputs": [],
   "source": []
  },
  {
   "cell_type": "code",
   "execution_count": null,
   "id": "d9b648c1",
   "metadata": {},
   "outputs": [],
   "source": []
  },
  {
   "cell_type": "code",
   "execution_count": null,
   "id": "a30f685f",
   "metadata": {},
   "outputs": [],
   "source": []
  },
  {
   "cell_type": "code",
   "execution_count": null,
   "id": "c3f168b8",
   "metadata": {},
   "outputs": [],
   "source": []
  },
  {
   "cell_type": "code",
   "execution_count": null,
   "id": "4b511083",
   "metadata": {},
   "outputs": [],
   "source": []
  },
  {
   "cell_type": "code",
   "execution_count": null,
   "id": "f221c5e7",
   "metadata": {},
   "outputs": [],
   "source": []
  },
  {
   "cell_type": "code",
   "execution_count": null,
   "id": "f6c03082",
   "metadata": {},
   "outputs": [],
   "source": []
  },
  {
   "cell_type": "code",
   "execution_count": null,
   "id": "9f6debdc",
   "metadata": {},
   "outputs": [],
   "source": []
  },
  {
   "cell_type": "code",
   "execution_count": null,
   "id": "31d45bc1",
   "metadata": {},
   "outputs": [],
   "source": []
  },
  {
   "cell_type": "code",
   "execution_count": null,
   "id": "1cc24b8c",
   "metadata": {},
   "outputs": [],
   "source": []
  },
  {
   "cell_type": "code",
   "execution_count": null,
   "id": "19484dc4",
   "metadata": {},
   "outputs": [],
   "source": []
  },
  {
   "cell_type": "code",
   "execution_count": null,
   "id": "2daa997f",
   "metadata": {},
   "outputs": [],
   "source": []
  }
 ],
 "metadata": {
  "kernelspec": {
   "display_name": "Python 3 (ipykernel)",
   "language": "python",
   "name": "python3"
  },
  "language_info": {
   "codemirror_mode": {
    "name": "ipython",
    "version": 3
   },
   "file_extension": ".py",
   "mimetype": "text/x-python",
   "name": "python",
   "nbconvert_exporter": "python",
   "pygments_lexer": "ipython3",
   "version": "3.10.6"
  }
 },
 "nbformat": 4,
 "nbformat_minor": 5
}
