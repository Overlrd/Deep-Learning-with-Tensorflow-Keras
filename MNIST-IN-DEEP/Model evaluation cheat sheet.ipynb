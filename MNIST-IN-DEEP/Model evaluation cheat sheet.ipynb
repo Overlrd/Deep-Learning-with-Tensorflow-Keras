{
 "cells": [
  {
   "cell_type": "markdown",
   "id": "b760dff0",
   "metadata": {},
   "source": [
    "##  The arrow of time"
   ]
  },
  {
   "cell_type": "raw",
   "id": "c5c89646",
   "metadata": {},
   "source": [
    "he arrow of time—If you’re trying to predict the future given the past (for exam\u0002ple, tomorrow’s weather, stock movements, and so on), you should not ran\u0002domly shuffle your data before splitting it, because doing so will create a\n",
    "temporal leak: your model will effectively be trained on data from the future. In\n",
    "such situations, you should always make sure all data in your test set is posterior\n",
    "to the data in the training set."
   ]
  },
  {
   "cell_type": "markdown",
   "id": "31ad15b5",
   "metadata": {},
   "source": [
    "##  Data representativenes\n"
   ]
  },
  {
   "cell_type": "raw",
   "id": "65cc66da",
   "metadata": {},
   "source": [
    "# You want both your training set and test set to be rep\u0002resentative of the data at hand. For instance, if you’re trying to classify images\n",
    "of digits, and you’re starting from an array of samples where the samples are\n",
    "ordered by their class, taking the first 80% of the array as your training set\n",
    "and the remaining 20% as your test set will result in your training set contain\u0002ing only classes 0–7, whereas your test set will contain only classes 8–9. This\n",
    "seems like a ridiculous mistake, but it’s surprisingly common. For this reason,\n",
    "you usually should randomly shuffle your data before splitting it into training\n",
    "and test sets."
   ]
  },
  {
   "cell_type": "markdown",
   "id": "83baf956",
   "metadata": {},
   "source": [
    "##  Redundancy in your data"
   ]
  },
  {
   "cell_type": "raw",
   "id": "499e04e8",
   "metadata": {},
   "source": [
    "If some data points in your data appear twice (fairly\n",
    "common with real-world data), then shuffling the data and splitting it into a\n",
    "training set and a validation set will result in redundancy between the training\n",
    "and validation sets. In effect, you’ll be testing on part of your training data,\n",
    "which is the worst thing you can do! Make sure your training set and validation\n",
    "set are disjoint."
   ]
  },
  {
   "cell_type": "code",
   "execution_count": null,
   "id": "1141f7fc",
   "metadata": {},
   "outputs": [],
   "source": []
  },
  {
   "cell_type": "code",
   "execution_count": null,
   "id": "0eb1923a",
   "metadata": {},
   "outputs": [],
   "source": []
  },
  {
   "cell_type": "code",
   "execution_count": null,
   "id": "dc2fd0da",
   "metadata": {},
   "outputs": [],
   "source": []
  },
  {
   "cell_type": "code",
   "execution_count": null,
   "id": "eb847c4e",
   "metadata": {},
   "outputs": [],
   "source": []
  },
  {
   "cell_type": "code",
   "execution_count": null,
   "id": "2096b787",
   "metadata": {},
   "outputs": [],
   "source": []
  },
  {
   "cell_type": "code",
   "execution_count": null,
   "id": "938b0ea1",
   "metadata": {},
   "outputs": [],
   "source": []
  }
 ],
 "metadata": {
  "kernelspec": {
   "display_name": "Python 3 (ipykernel)",
   "language": "python",
   "name": "python3"
  },
  "language_info": {
   "codemirror_mode": {
    "name": "ipython",
    "version": 3
   },
   "file_extension": ".py",
   "mimetype": "text/x-python",
   "name": "python",
   "nbconvert_exporter": "python",
   "pygments_lexer": "ipython3",
   "version": "3.10.6"
  }
 },
 "nbformat": 4,
 "nbformat_minor": 5
}
