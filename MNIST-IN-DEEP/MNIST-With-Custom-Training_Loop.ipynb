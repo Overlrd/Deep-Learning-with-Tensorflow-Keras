{
 "cells": [
  {
   "cell_type": "code",
   "execution_count": 1,
   "id": "87122836-7117-4da0-b1bd-838f2cc8ab35",
   "metadata": {},
   "outputs": [],
   "source": [
    "###custom model"
   ]
  },
  {
   "cell_type": "code",
   "execution_count": 81,
   "id": "76428a46-d818-47ff-b6ba-60e9d13f41b4",
   "metadata": {},
   "outputs": [],
   "source": [
    "### import modules\n",
    "import tensorflow as tf\n",
    "from tensorflow import keras\n",
    "from tensorflow.keras.datasets import mnist\n",
    "layers = keras.layers"
   ]
  },
  {
   "cell_type": "code",
   "execution_count": 82,
   "id": "fed86de6-5fdb-4db0-b421-47261b48d3ed",
   "metadata": {},
   "outputs": [],
   "source": [
    "### the model \n",
    "def get_model():\n",
    "    inputs = keras.Input(shape=(28*28,))\n",
    "    features = layers.Dense(512, activation='relu')(inputs)\n",
    "    dropout  = layers.Dropout(0.5)(features)\n",
    "    output   = layers.Dense(10, activation = 'softmax')(dropout)\n",
    "    \n",
    "    model = keras.Model(inputs, output)\n",
    "    return model"
   ]
  },
  {
   "cell_type": "code",
   "execution_count": 83,
   "id": "165cb56d-5a31-41af-8df4-dbe6ce4fc655",
   "metadata": {},
   "outputs": [],
   "source": [
    "### define loss and optimizers and metrics\n",
    "loss_fn = keras.losses.SparseCategoricalCrossentropy()\n",
    "optimizer = keras.optimizers.RMSprop()\n",
    "loss_tracking_mean = keras.metrics.Mean()\n",
    "metrics = [keras.metrics.SparseCategoricalAccuracy()]"
   ]
  },
  {
   "cell_type": "code",
   "execution_count": 84,
   "id": "51808580-ec92-4f49-910e-77357a66ed42",
   "metadata": {},
   "outputs": [],
   "source": [
    "model = get_model()"
   ]
  },
  {
   "cell_type": "code",
   "execution_count": 85,
   "id": "7e5c650b-c32b-4da6-acdd-61e9897248a8",
   "metadata": {},
   "outputs": [],
   "source": [
    "### training_step\n",
    "\n",
    "@tf.function\n",
    "def train_step(inputs, targets):\n",
    "    with tf.GradientTape() as tape:\n",
    "        predictions = model(inputs, training = True)\n",
    "        loss = loss_fn(targets, predictions)\n",
    "    gradients = tape.gradient(loss, model.trainable_weights)\n",
    "    optimizer.apply_gradients(zip(gradients, model.trainable_weights))\n",
    "    \n",
    "    logs = {}\n",
    "    \n",
    "    for metric in metrics:\n",
    "        metric.update_state(targets, predictions)\n",
    "        result = metric.result()\n",
    "        logs[metric.name] = result\n",
    "        \n",
    "    loss_tracking_mean.update_state(loss)\n",
    "    logs['loss'] = loss_tracking_mean.result()\n",
    "    \n",
    "    return logs"
   ]
  },
  {
   "cell_type": "code",
   "execution_count": 86,
   "id": "09dc10ba-6cc1-4213-9d46-74a9e6f4d598",
   "metadata": {},
   "outputs": [],
   "source": [
    "def reset_metrics():\n",
    "    for metric in metrics:\n",
    "        metric.reset_state()\n",
    "    loss_tracking_mean.reset_state()"
   ]
  },
  {
   "cell_type": "code",
   "execution_count": 93,
   "id": "285bf806-d589-4541-b402-341c4ed0deb2",
   "metadata": {},
   "outputs": [],
   "source": [
    "## the data \n",
    "(train_images, train_labels) , (test_images, test_labels) = mnist.load_data()\n",
    "\n",
    "train_images = train_images.reshape((60000, 28*28)).astype(\"float32\") / 255\n",
    "test_images  = test_images.reshape((10000, 28*28)).astype(\"float32\") / 255\n",
    "\n",
    "training_dataset = tf.data.Dataset.from_tensor_slices((\n",
    "train_images, train_labels))\n",
    "\n",
    "validation_dataset = tf.data.Dataset.from_tensor_slices((\n",
    "test_images, test_labels))\n",
    "\n",
    "training_dataset = training_dataset.batch(32)\n",
    "validation_dataset = validation_dataset.batch(32)\n",
    "#train_images, train_labels = train_images[:10000] , train_labels[:10000]"
   ]
  },
  {
   "cell_type": "code",
   "execution_count": 89,
   "id": "8a2a67e0-d881-4aff-a2ee-cb6de99c05f3",
   "metadata": {},
   "outputs": [
    {
     "name": "stdout",
     "output_type": "stream",
     "text": [
      "Training Result At Epoch 0 :\n",
      "...sparse_categorical_accuracy :  0.9208\n",
      "...loss :  0.2680\n",
      "Training Result At Epoch 1 :\n",
      "...sparse_categorical_accuracy :  0.9575\n",
      "...loss :  0.1577\n",
      "Training Result At Epoch 2 :\n",
      "...sparse_categorical_accuracy :  0.9650\n",
      "...loss :  0.1348\n"
     ]
    }
   ],
   "source": [
    "keras.backend.clear_session()\n",
    "epochs = 3\n",
    "for epoch in range(epochs):\n",
    "    reset_metrics()\n",
    "    for inputs_batch , targets_batch in training_dataset:\n",
    "        logs = train_step(inputs_batch, targets_batch)\n",
    "    print(f\"Training Result At Epoch {epoch} :\")\n",
    "    for key, value in logs.items():\n",
    "        print(f\"...{key} :  {value:.4f}\")\n",
    "        "
   ]
  },
  {
   "cell_type": "code",
   "execution_count": 97,
   "id": "42e324af-31c0-477a-aedd-af6be519587f",
   "metadata": {},
   "outputs": [],
   "source": [
    "## eval\n",
    "def eval_model(inputs, targets):\n",
    "    predictions = model(inputs, training = False)\n",
    "    loss = loss_fn(targets, predictions)\n",
    "    \n",
    "    logs = {}\n",
    "    \n",
    "    for metric in metrics:\n",
    "        metric.update_state(targets, predictions)\n",
    "        logs['val_'+metric.name] = metric.result()\n",
    "    loss_tracking_mean.update_state(loss)\n",
    "    \n",
    "    logs['val_loss'] = loss_tracking_mean.result()\n",
    "    return logs"
   ]
  },
  {
   "cell_type": "code",
   "execution_count": 99,
   "id": "cad0bc9f-8181-4834-961f-e3b08e84ce1a",
   "metadata": {},
   "outputs": [
    {
     "name": "stdout",
     "output_type": "stream",
     "text": [
      "...val_sparse_categorical_accuracy  ::  0.9722\n",
      "...val_loss  ::  0.1196\n"
     ]
    }
   ],
   "source": [
    "reset_metrics()\n",
    "for inputs_batch , targets_batch in validation_dataset:\n",
    "    logs = eval_model(inputs_batch ,targets_batch)\n",
    "    \n",
    "for key , value in logs.items():\n",
    "    print(f'...{key}  ::  {value:.4f}')"
   ]
  },
  {
   "cell_type": "markdown",
   "id": "4bea5553-bb4d-4d65-8b1b-7e84b895aa0b",
   "metadata": {},
   "source": [
    "### Subclassing the model Object"
   ]
  },
  {
   "cell_type": "code",
   "execution_count": 114,
   "id": "52ebd1a6-e59c-4e35-8a2a-ed25b7fa5530",
   "metadata": {},
   "outputs": [],
   "source": [
    "class CustomModel(tf.keras.Model):\n",
    "    def train_step(self, inputs):\n",
    "        features, targets = inputs\n",
    "        with tf.GradientTape() as tape:\n",
    "            predictions = model(features)\n",
    "            loss = self.compiled_loss(targets, predictions)\n",
    "        gradients = tape.gradient(loss, model.trainable_weights)\n",
    "        self.optimizer.apply_gradients(zip(gradients, model.trainable_weights))\n",
    "        \n",
    "\n",
    "        self.compiled_metrics.update_state(targets, predictions)\n",
    "        return {m.name : m.result() for m in self.metrics}\n",
    "        \n",
    "        "
   ]
  },
  {
   "cell_type": "code",
   "execution_count": 115,
   "id": "c7bfff1f-9bc4-4711-896a-9e18074bf1d9",
   "metadata": {},
   "outputs": [],
   "source": [
    "### the model \n",
    "def get_model():\n",
    "    inputs = keras.Input(shape=(28*28,))\n",
    "    features = layers.Dense(512, activation='relu')(inputs)\n",
    "    dropout  = layers.Dropout(0.5)(features)\n",
    "    output   = layers.Dense(10, activation = 'softmax')(dropout)\n",
    "    \n",
    "    model = CustomModel(inputs, output)\n",
    "    return model"
   ]
  },
  {
   "cell_type": "code",
   "execution_count": 116,
   "id": "a66ff2c7-26e9-46a9-959b-9a54cbea4a62",
   "metadata": {},
   "outputs": [],
   "source": [
    "model = get_model()"
   ]
  },
  {
   "cell_type": "code",
   "execution_count": 117,
   "id": "98eb9f75-58ad-43b9-bec2-9dab09d20949",
   "metadata": {},
   "outputs": [],
   "source": [
    "model.compile(loss='sparse_categorical_crossentropy',\n",
    "             optimizer = 'RMSprop',\n",
    "             metrics = ['accuracy'])"
   ]
  },
  {
   "cell_type": "code",
   "execution_count": 118,
   "id": "fa5594c7-d364-4d5f-96cd-4f063cd04823",
   "metadata": {},
   "outputs": [
    {
     "name": "stdout",
     "output_type": "stream",
     "text": [
      "Epoch 1/3\n",
      "1875/1875 [==============================] - 18s 9ms/step - loss: 0.1949 - accuracy: 0.9431\n",
      "Epoch 2/3\n",
      "1875/1875 [==============================] - 17s 9ms/step - loss: 0.0890 - accuracy: 0.9751\n",
      "Epoch 3/3\n",
      "1875/1875 [==============================] - 17s 9ms/step - loss: 0.0636 - accuracy: 0.9831\n"
     ]
    },
    {
     "data": {
      "text/plain": [
       "<keras.callbacks.History at 0x21ba7322aa0>"
      ]
     },
     "execution_count": 118,
     "metadata": {},
     "output_type": "execute_result"
    }
   ],
   "source": [
    "model.fit(training_dataset, epochs = 3)"
   ]
  },
  {
   "cell_type": "code",
   "execution_count": 120,
   "id": "3be84a70-c196-4d38-bb55-5db44ea35496",
   "metadata": {},
   "outputs": [
    {
     "name": "stdout",
     "output_type": "stream",
     "text": [
      "313/313 [==============================] - 1s 3ms/step - loss: 0.1174 - accuracy: 0.9697\n"
     ]
    },
    {
     "data": {
      "text/plain": [
       "[0.1174054816365242, 0.9696999788284302]"
      ]
     },
     "execution_count": 120,
     "metadata": {},
     "output_type": "execute_result"
    }
   ],
   "source": [
    "model.evaluate(validation_dataset)"
   ]
  },
  {
   "cell_type": "code",
   "execution_count": null,
   "id": "353b46e4-f607-40cb-8ca2-398454c55cd8",
   "metadata": {},
   "outputs": [],
   "source": []
  }
 ],
 "metadata": {
  "kernelspec": {
   "display_name": "Python 3 (ipykernel)",
   "language": "python",
   "name": "python3"
  },
  "language_info": {
   "codemirror_mode": {
    "name": "ipython",
    "version": 3
   },
   "file_extension": ".py",
   "mimetype": "text/x-python",
   "name": "python",
   "nbconvert_exporter": "python",
   "pygments_lexer": "ipython3",
   "version": "3.10.6"
  }
 },
 "nbformat": 4,
 "nbformat_minor": 5
}
