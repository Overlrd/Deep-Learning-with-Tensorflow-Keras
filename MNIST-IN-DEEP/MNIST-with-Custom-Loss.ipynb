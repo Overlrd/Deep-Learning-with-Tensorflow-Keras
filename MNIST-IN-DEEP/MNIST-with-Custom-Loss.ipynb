{
 "cells": [
  {
   "cell_type": "code",
   "execution_count": 2,
   "id": "d930b5df-6b0d-46ae-9190-474a4e3eed0c",
   "metadata": {},
   "outputs": [],
   "source": [
    "import tensorflow as tf"
   ]
  },
  {
   "cell_type": "code",
   "execution_count": 3,
   "id": "acb62ee0-3898-42ad-b9a4-d9aaa50227e0",
   "metadata": {},
   "outputs": [],
   "source": [
    "from tensorflow import keras"
   ]
  },
  {
   "cell_type": "code",
   "execution_count": null,
   "id": "892e80a7-8606-4d3a-97ab-9d199a6963ee",
   "metadata": {},
   "outputs": [],
   "source": []
  },
  {
   "cell_type": "code",
   "execution_count": 47,
   "id": "83bfd633-97dd-4dab-9138-e228746c5237",
   "metadata": {},
   "outputs": [],
   "source": [
    "class RootMeanSquarredError(keras.metrics.Metric):\n",
    "    def __init__(self, name = \"rmse\", **kwargs ):\n",
    "        super().__init__(name = name ,**kwargs)\n",
    "        \n",
    "        self.mse_sum = self.add_weight(name = \"mse_sum\", initializer = 'zeros')\n",
    "        self.total_samples = self.add_weight(name='total_samples', initializer ='zeros', dtype=\"int32\")\n",
    "        \n",
    "    def update_state(self, y_true, y_pred, sample_weight = None):\n",
    "        y_true = tf.one_hot(y_true, depth = tf.shape(y_pred) [1])\n",
    "        mse = tf.reduce_sum(tf.square(y_true - y_pred))\n",
    "        self.mse_sum.assign(mse)\n",
    "        num_samples = tf.shape(y_pred)[0]\n",
    "        self.total_samples.assign(num_samples)\n",
    "        \n",
    "    def result(self):\n",
    "        return tf.sqrt(self.mse_sum / tf.cast(self.total_samples, tf.float32))\n",
    "    \n",
    "    \n",
    "    def reset_state(self):\n",
    "        self.mse_sum.assign(0,)\n",
    "        self.total_samples.assign(0)"
   ]
  },
  {
   "cell_type": "code",
   "execution_count": 48,
   "id": "e5106732-ceaa-4639-94ec-92196bb327f5",
   "metadata": {},
   "outputs": [],
   "source": [
    "RMSE = RootMeanSquarredError()"
   ]
  },
  {
   "cell_type": "code",
   "execution_count": 49,
   "id": "8e59a1d1-f61a-440d-94ba-40a86ebc686a",
   "metadata": {},
   "outputs": [],
   "source": [
    "def get_model():\n",
    "    inputs = keras.Input(shape=(28*28))\n",
    "    features = keras.layers.Dense(512, activation='relu')(inputs)\n",
    "    drop = keras.layers.Dropout(0.5)(features)\n",
    "    outputs = keras.layers.Dense(10, activation='softmax')(drop)\n",
    "    \n",
    "    model = keras.Model(inputs = inputs , outputs = outputs)\n",
    "    \n",
    "    return model"
   ]
  },
  {
   "cell_type": "code",
   "execution_count": 55,
   "id": "33b8092e-4bd0-475a-b516-e5f27e074935",
   "metadata": {},
   "outputs": [],
   "source": [
    "model = get_model()"
   ]
  },
  {
   "cell_type": "code",
   "execution_count": 56,
   "id": "35064c1e-de01-4cbf-8451-84fa1d513202",
   "metadata": {},
   "outputs": [],
   "source": [
    "model.compile(optimizer = 'rmsprop',\n",
    "             loss= 'sparse_categorical_crossentropy',\n",
    "             metrics = ['accuracy', RMSE])"
   ]
  },
  {
   "cell_type": "code",
   "execution_count": 57,
   "id": "dfe58c4c-515b-4429-8f77-04090928743c",
   "metadata": {},
   "outputs": [],
   "source": [
    "from keras.datasets import mnist\n",
    "(train_images , train_labels ) , (test_images , test_labels) = mnist.load_data()"
   ]
  },
  {
   "cell_type": "code",
   "execution_count": 58,
   "id": "0e511343-6c9b-4616-b41a-938d13528137",
   "metadata": {},
   "outputs": [],
   "source": [
    "train_images = train_images.reshape((60000, 28*28)).astype('float32') / 255\n",
    "test_images  = test_images.reshape((10000, 28*28)).astype('float32') /255"
   ]
  },
  {
   "cell_type": "code",
   "execution_count": 59,
   "id": "d786a5a7-c394-4df9-8fba-2488ce564a54",
   "metadata": {},
   "outputs": [
    {
     "name": "stdout",
     "output_type": "stream",
     "text": [
      "Epoch 1/10\n",
      "1875/1875 [==============================] - 17s 9ms/step - loss: 0.2803 - accuracy: 0.9171 - rmse: 7.4437 - val_loss: 0.1279 - val_accuracy: 0.9617 - val_rmse: 5.3088\n",
      "Epoch 2/10\n",
      "1875/1875 [==============================] - 17s 9ms/step - loss: 0.1601 - accuracy: 0.9556 - rmse: 7.3669 - val_loss: 0.1186 - val_accuracy: 0.9677 - val_rmse: 5.3333\n",
      "Epoch 3/10\n",
      "1875/1875 [==============================] - 17s 9ms/step - loss: 0.1372 - accuracy: 0.9638 - rmse: 7.3500 - val_loss: 0.1031 - val_accuracy: 0.9748 - val_rmse: 5.3359\n",
      "Epoch 4/10\n",
      "1875/1875 [==============================] - 17s 9ms/step - loss: 0.1291 - accuracy: 0.9677 - rmse: 7.4964 - val_loss: 0.1023 - val_accuracy: 0.9751 - val_rmse: 5.3358\n",
      "Epoch 5/10\n",
      "1875/1875 [==============================] - 20s 10ms/step - loss: 0.1172 - accuracy: 0.9710 - rmse: 7.4430 - val_loss: 0.1015 - val_accuracy: 0.9763 - val_rmse: 5.3378\n",
      "Epoch 6/10\n",
      "1875/1875 [==============================] - 19s 10ms/step - loss: 0.1124 - accuracy: 0.9734 - rmse: 7.3612 - val_loss: 0.0979 - val_accuracy: 0.9792 - val_rmse: 5.3383\n",
      "Epoch 7/10\n",
      "1875/1875 [==============================] - 17s 9ms/step - loss: 0.1098 - accuracy: 0.9744 - rmse: 7.5033 - val_loss: 0.1119 - val_accuracy: 0.9773 - val_rmse: 5.3364\n",
      "Epoch 8/10\n",
      "1875/1875 [==============================] - 18s 9ms/step - loss: 0.1039 - accuracy: 0.9767 - rmse: 7.4652 - val_loss: 0.1062 - val_accuracy: 0.9789 - val_rmse: 5.3381\n",
      "Epoch 9/10\n",
      "1875/1875 [==============================] - 18s 10ms/step - loss: 0.1039 - accuracy: 0.9776 - rmse: 7.4547 - val_loss: 0.1144 - val_accuracy: 0.9799 - val_rmse: 5.3385\n",
      "Epoch 10/10\n",
      "1875/1875 [==============================] - 16s 8ms/step - loss: 0.1002 - accuracy: 0.9786 - rmse: 7.4434 - val_loss: 0.1120 - val_accuracy: 0.9804 - val_rmse: 5.3385\n"
     ]
    },
    {
     "data": {
      "text/plain": [
       "<keras.callbacks.History at 0x28e0087e140>"
      ]
     },
     "execution_count": 59,
     "metadata": {},
     "output_type": "execute_result"
    }
   ],
   "source": [
    "model.fit(train_images , train_labels ,epochs = 10 , validation_data =( test_images , test_labels))"
   ]
  },
  {
   "cell_type": "code",
   "execution_count": null,
   "id": "8c563115-73f2-44bd-a0a5-a900dbeca1f8",
   "metadata": {},
   "outputs": [],
   "source": []
  },
  {
   "cell_type": "code",
   "execution_count": null,
   "id": "42b5cba9-6e4e-4e04-a4a2-976a65f8c66e",
   "metadata": {},
   "outputs": [],
   "source": []
  },
  {
   "cell_type": "code",
   "execution_count": null,
   "id": "eb884ca7-db0e-453d-ad66-6b2f7649376f",
   "metadata": {},
   "outputs": [],
   "source": []
  }
 ],
 "metadata": {
  "kernelspec": {
   "display_name": "Python 3 (ipykernel)",
   "language": "python",
   "name": "python3"
  },
  "language_info": {
   "codemirror_mode": {
    "name": "ipython",
    "version": 3
   },
   "file_extension": ".py",
   "mimetype": "text/x-python",
   "name": "python",
   "nbconvert_exporter": "python",
   "pygments_lexer": "ipython3",
   "version": "3.10.6"
  }
 },
 "nbformat": 4,
 "nbformat_minor": 5
}
