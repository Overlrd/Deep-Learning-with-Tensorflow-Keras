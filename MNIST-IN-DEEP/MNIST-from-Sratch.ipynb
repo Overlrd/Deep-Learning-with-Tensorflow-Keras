{
 "cells": [
  {
   "cell_type": "code",
   "execution_count": 1,
   "id": "d1decd48-66e8-47a3-a7a8-a42a27c98983",
   "metadata": {},
   "outputs": [],
   "source": [
    "import tensorflow as tf"
   ]
  },
  {
   "cell_type": "code",
   "execution_count": 10,
   "id": "8619d9b7-02a7-460b-ac3c-ff5224492228",
   "metadata": {},
   "outputs": [],
   "source": [
    "class NaiveDense:\n",
    "    def __init__(self, input_size, output_size, activation):\n",
    "        self.activation = activation\n",
    "        \n",
    "        W_shape = (input_size, output_size)\n",
    "        W_initial_values = tf.random.uniform(W_shape, minval=0, maxval = 1e-1)\n",
    "        self.W = tf.Variable(W_initial_values)\n",
    "        \n",
    "        b_shape = (output_size)\n",
    "        b_initial_values = tf.zeros(b_shape)\n",
    "        self.b = tf.Variable(b_initial_values)\n",
    "        \n",
    "    def __call__(self, inputs):\n",
    "        return self.activation(tf.matmul(inputs, self.W) + self.b)\n",
    "    \n",
    "    @property\n",
    "    def weights(self):\n",
    "        return (self.W, self.b)\n",
    "        "
   ]
  },
  {
   "cell_type": "code",
   "execution_count": null,
   "id": "0ee6d744-cda7-48e8-af8a-002952188a4f",
   "metadata": {},
   "outputs": [],
   "source": []
  },
  {
   "cell_type": "code",
   "execution_count": 12,
   "id": "29b661e5-eda6-47f6-b75f-a8a801744c50",
   "metadata": {},
   "outputs": [],
   "source": [
    "class NaiveSequential:\n",
    "    def __init__(self, layers):\n",
    "        self.layers = layers\n",
    "        \n",
    "    def __call__(self, inputs):\n",
    "        x = inputs\n",
    "        for layer in self.layers:\n",
    "            x = layer(x)\n",
    "        return x\n",
    "    \n",
    "    @property\n",
    "    def weights(self):\n",
    "        weights = []\n",
    "        for layer in self.layers:\n",
    "            weights += layer.weights\n",
    "        return weights"
   ]
  },
  {
   "cell_type": "code",
   "execution_count": 13,
   "id": "410214e9-a818-4f2a-aebc-fd65ffde8ed6",
   "metadata": {},
   "outputs": [],
   "source": [
    "Dense = NaiveDense(10,1, tf.nn.relu)"
   ]
  },
  {
   "cell_type": "code",
   "execution_count": 19,
   "id": "646582a3-ae76-4483-a6e0-1e799b8d9b9b",
   "metadata": {},
   "outputs": [],
   "source": [
    "model = NaiveSequential([\n",
    "    NaiveDense(input_size = 28 * 28, output_size = 512 , activation= tf.nn.relu),\n",
    "    NaiveDense(input_size = 512, output_size = 10, activation = tf.nn.softmax)\n",
    "])\n",
    "\n",
    "assert len(model.weights) == 4"
   ]
  },
  {
   "cell_type": "code",
   "execution_count": null,
   "id": "1a589444-a9d3-4eb6-8dbf-8960d97f60df",
   "metadata": {},
   "outputs": [],
   "source": []
  },
  {
   "cell_type": "code",
   "execution_count": 20,
   "id": "a94d5d26-39e7-4752-82e6-abb72aa20339",
   "metadata": {},
   "outputs": [],
   "source": [
    "import math"
   ]
  },
  {
   "cell_type": "code",
   "execution_count": 22,
   "id": "f31065b2-8cf2-4414-bc71-91361fc2038d",
   "metadata": {},
   "outputs": [],
   "source": [
    "class BatchGenerator:\n",
    "    def __init__(self, images, labels, batch_size = 128):\n",
    "        assert len(images) == len(labels)\n",
    "        self.images = images\n",
    "        self.labels = labels\n",
    "        self.batch_size = batch_size \n",
    "        self.index = 0\n",
    "        self.num_batches = math.ceil(len(images) / self.batch_size)\n",
    "        \n",
    "        \n",
    "    def next(self):\n",
    "        images = self.images[self.index : self.index + self.batch_size]\n",
    "        labels = self.labels[self.index : self.index + self.batch_size]\n",
    "        self. index += self.batch_size \n",
    "        return images , labels"
   ]
  },
  {
   "cell_type": "code",
   "execution_count": null,
   "id": "cb2b28bb-511e-46bb-8d81-dfeb1bac8f9c",
   "metadata": {},
   "outputs": [],
   "source": []
  },
  {
   "cell_type": "code",
   "execution_count": 39,
   "id": "4a5fe637-6b78-4e13-b163-84ead9e9f0ad",
   "metadata": {},
   "outputs": [],
   "source": [
    "def one_training_step(model, images_batch , labels_batch):\n",
    "    with tf.GradientTape() as tape:\n",
    "        predictions = model(images_batch)\n",
    "        per_sample_loss = tf.keras.losses.sparse_categorical_crossentropy(labels_batch, predictions)\n",
    "        average_loss = tf.reduce_mean(per_sample_loss)\n",
    "    gradients = tape.gradient(average_loss, model.weights)\n",
    "    update_weights(gradients, model.weights)\n",
    "    return average_loss"
   ]
  },
  {
   "cell_type": "code",
   "execution_count": 24,
   "id": "7301c2b3-2b82-4871-8fd9-cc616c103039",
   "metadata": {},
   "outputs": [],
   "source": [
    "learning_rate = 1e-3"
   ]
  },
  {
   "cell_type": "code",
   "execution_count": 27,
   "id": "aff7a3d8-54f4-4980-bf3c-ff7862a8a200",
   "metadata": {},
   "outputs": [],
   "source": [
    "def update_weights(gradients, weights):\n",
    "    for g,w in zip(gradients, weights):\n",
    "        w.assign_sub(g * learning_rate)"
   ]
  },
  {
   "cell_type": "code",
   "execution_count": null,
   "id": "57079daa-9c6b-47f0-9b54-ea9c28eed57b",
   "metadata": {},
   "outputs": [],
   "source": []
  },
  {
   "cell_type": "code",
   "execution_count": 38,
   "id": "c8d3d8d5-0250-4538-8cea-a8b96a3a27b2",
   "metadata": {},
   "outputs": [],
   "source": [
    "def fit(model, images, labels, epochs , batch_size = 128):\n",
    "    for epoch_counter in range(epochs):\n",
    "        print(f'Epoch  {epoch_counter}')\n",
    "        batch_generator = BatchGenerator(images, labels)\n",
    "               \n",
    "        \n",
    "        for batch_counter in range(batch_generator.num_batches):\n",
    "            images_batch , labels_batch = batch_generator.next()\n",
    "            loss = one_training_step(model, images_batch, labels_batch)\n",
    "\n",
    "            if batch_counter % 100 == 0:\n",
    "                print(f'Loss at batch {batch_counter} is {loss:.2f}')"
   ]
  },
  {
   "cell_type": "code",
   "execution_count": null,
   "id": "23b8fbed-8353-4f35-bfce-1c6677140505",
   "metadata": {},
   "outputs": [],
   "source": []
  },
  {
   "cell_type": "code",
   "execution_count": 34,
   "id": "8df2149a-ed13-4859-8e9a-9d9be8257940",
   "metadata": {},
   "outputs": [],
   "source": [
    "from tensorflow.keras.datasets import mnist"
   ]
  },
  {
   "cell_type": "code",
   "execution_count": 30,
   "id": "f828948e-9ac6-4449-a974-ff084a580147",
   "metadata": {},
   "outputs": [],
   "source": [
    "(train_images , train_labels) , (test_images , test_labels) = mnist.load_data()\n"
   ]
  },
  {
   "cell_type": "code",
   "execution_count": 31,
   "id": "6f04a9ce-4131-4e4e-b030-0128080885e6",
   "metadata": {},
   "outputs": [],
   "source": [
    "train_images = train_images.reshape((60000, 28 * 28)).astype('float32') / 255\n",
    "test_images = test_images.reshape((10000, 28 * 28)).astype('float32') /255"
   ]
  },
  {
   "cell_type": "code",
   "execution_count": 40,
   "id": "59a02f3a-f619-40f2-94c4-2701983b39ed",
   "metadata": {},
   "outputs": [
    {
     "name": "stdout",
     "output_type": "stream",
     "text": [
      "Epoch  0\n",
      "Loss at batch 0 is 3.89\n",
      "Loss at batch 100 is 2.24\n",
      "Loss at batch 200 is 2.22\n",
      "Loss at batch 300 is 2.06\n",
      "Loss at batch 400 is 2.25\n",
      "Epoch  1\n",
      "Loss at batch 0 is 1.89\n",
      "Loss at batch 100 is 1.88\n",
      "Loss at batch 200 is 1.85\n",
      "Loss at batch 300 is 1.68\n",
      "Loss at batch 400 is 1.87\n",
      "Epoch  2\n",
      "Loss at batch 0 is 1.57\n",
      "Loss at batch 100 is 1.58\n",
      "Loss at batch 200 is 1.52\n",
      "Loss at batch 300 is 1.40\n",
      "Loss at batch 400 is 1.54\n",
      "Epoch  3\n",
      "Loss at batch 0 is 1.32\n",
      "Loss at batch 100 is 1.35\n",
      "Loss at batch 200 is 1.25\n",
      "Loss at batch 300 is 1.18\n",
      "Loss at batch 400 is 1.30\n",
      "Epoch  4\n",
      "Loss at batch 0 is 1.12\n",
      "Loss at batch 100 is 1.17\n",
      "Loss at batch 200 is 1.05\n",
      "Loss at batch 300 is 1.02\n",
      "Loss at batch 400 is 1.13\n",
      "Epoch  5\n",
      "Loss at batch 0 is 0.98\n",
      "Loss at batch 100 is 1.03\n",
      "Loss at batch 200 is 0.91\n",
      "Loss at batch 300 is 0.91\n",
      "Loss at batch 400 is 1.00\n",
      "Epoch  6\n",
      "Loss at batch 0 is 0.87\n",
      "Loss at batch 100 is 0.92\n",
      "Loss at batch 200 is 0.81\n",
      "Loss at batch 300 is 0.82\n",
      "Loss at batch 400 is 0.91\n",
      "Epoch  7\n",
      "Loss at batch 0 is 0.79\n",
      "Loss at batch 100 is 0.84\n",
      "Loss at batch 200 is 0.73\n",
      "Loss at batch 300 is 0.75\n",
      "Loss at batch 400 is 0.84\n",
      "Epoch  8\n",
      "Loss at batch 0 is 0.72\n",
      "Loss at batch 100 is 0.77\n",
      "Loss at batch 200 is 0.67\n",
      "Loss at batch 300 is 0.70\n",
      "Loss at batch 400 is 0.79\n",
      "Epoch  9\n",
      "Loss at batch 0 is 0.67\n",
      "Loss at batch 100 is 0.71\n",
      "Loss at batch 200 is 0.62\n",
      "Loss at batch 300 is 0.65\n",
      "Loss at batch 400 is 0.74\n"
     ]
    }
   ],
   "source": [
    "fit(model, train_images, train_labels, epochs = 10, batch_size = 128)"
   ]
  },
  {
   "cell_type": "code",
   "execution_count": 42,
   "id": "3928b19a-65ae-4c28-95dc-b1e37114d465",
   "metadata": {},
   "outputs": [],
   "source": [
    "import numpy as np"
   ]
  },
  {
   "cell_type": "code",
   "execution_count": 43,
   "id": "9bd2fc91-f2af-4521-b75c-5efb898b3e33",
   "metadata": {},
   "outputs": [
    {
     "name": "stdout",
     "output_type": "stream",
     "text": [
      "accuracy: 0.81\n"
     ]
    }
   ],
   "source": [
    "predictions = model(test_images)\n",
    "predictions = predictions.numpy() \n",
    "predicted_labels = np.argmax(predictions, axis=1)\n",
    "matches = predicted_labels == test_labels\n",
    "print(f\"accuracy: {matches.mean():.2f}\")"
   ]
  },
  {
   "cell_type": "code",
   "execution_count": null,
   "id": "d386a487-d6d0-4af3-8739-6068bf4a18f1",
   "metadata": {},
   "outputs": [],
   "source": []
  },
  {
   "cell_type": "code",
   "execution_count": null,
   "id": "f8ff43a8-de78-42e6-8998-1fc916f12b19",
   "metadata": {},
   "outputs": [],
   "source": []
  },
  {
   "cell_type": "code",
   "execution_count": null,
   "id": "96261c6b-3427-4974-889a-cd2cc642edc6",
   "metadata": {},
   "outputs": [],
   "source": []
  },
  {
   "cell_type": "code",
   "execution_count": null,
   "id": "fc5e2137-a2e5-484b-a5b7-650ca00da84c",
   "metadata": {},
   "outputs": [],
   "source": []
  },
  {
   "cell_type": "code",
   "execution_count": null,
   "id": "67613ff1-d530-4d3f-aabe-f10fa702b15d",
   "metadata": {},
   "outputs": [],
   "source": []
  },
  {
   "cell_type": "code",
   "execution_count": null,
   "id": "c4aa20e9-80d9-4316-a1ea-5fc04576c818",
   "metadata": {},
   "outputs": [],
   "source": []
  },
  {
   "cell_type": "code",
   "execution_count": null,
   "id": "a12b6eb4-0d77-46c8-bb99-d8c30aaa1e7d",
   "metadata": {},
   "outputs": [],
   "source": []
  },
  {
   "cell_type": "code",
   "execution_count": null,
   "id": "6d3bc83b-cb35-44c3-89ed-bbb39ba12348",
   "metadata": {},
   "outputs": [],
   "source": []
  },
  {
   "cell_type": "code",
   "execution_count": null,
   "id": "38fea5ff-1b08-4f96-abde-3c652a2a038f",
   "metadata": {},
   "outputs": [],
   "source": []
  },
  {
   "cell_type": "code",
   "execution_count": null,
   "id": "927dcd4a-51d6-4110-beaa-2b0bbe386ba9",
   "metadata": {},
   "outputs": [],
   "source": []
  },
  {
   "cell_type": "code",
   "execution_count": null,
   "id": "bf712c72-b6e7-49e3-930b-925ced47232d",
   "metadata": {},
   "outputs": [],
   "source": []
  },
  {
   "cell_type": "code",
   "execution_count": null,
   "id": "af7ef1f2-2c33-4b52-af9d-60ba8bc745b4",
   "metadata": {},
   "outputs": [],
   "source": []
  },
  {
   "cell_type": "code",
   "execution_count": null,
   "id": "e90fd24b-cfa5-4a54-9906-f71476b2fa10",
   "metadata": {},
   "outputs": [],
   "source": []
  },
  {
   "cell_type": "code",
   "execution_count": null,
   "id": "f8efad16-7186-48e8-b034-a49eae866b5e",
   "metadata": {},
   "outputs": [],
   "source": []
  },
  {
   "cell_type": "code",
   "execution_count": null,
   "id": "99a0d54e-f923-4c97-ade7-54edee09dcf5",
   "metadata": {},
   "outputs": [],
   "source": []
  },
  {
   "cell_type": "code",
   "execution_count": null,
   "id": "1cbf0be8-50fa-417c-b694-042e5a95555f",
   "metadata": {},
   "outputs": [],
   "source": []
  },
  {
   "cell_type": "code",
   "execution_count": null,
   "id": "b8edaeed-ba1c-4aa9-b4ae-f6d452a225c1",
   "metadata": {},
   "outputs": [],
   "source": []
  }
 ],
 "metadata": {
  "kernelspec": {
   "display_name": "Python 3 (ipykernel)",
   "language": "python",
   "name": "python3"
  },
  "language_info": {
   "codemirror_mode": {
    "name": "ipython",
    "version": 3
   },
   "file_extension": ".py",
   "mimetype": "text/x-python",
   "name": "python",
   "nbconvert_exporter": "python",
   "pygments_lexer": "ipython3",
   "version": "3.10.6"
  }
 },
 "nbformat": 4,
 "nbformat_minor": 5
}
