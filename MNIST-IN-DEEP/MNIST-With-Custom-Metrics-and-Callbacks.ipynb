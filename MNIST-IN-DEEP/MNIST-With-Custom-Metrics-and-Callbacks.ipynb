{
 "cells": [
  {
   "cell_type": "code",
   "execution_count": 2,
   "id": "bb266de8-db9c-4d0f-8955-7085bc6141b6",
   "metadata": {},
   "outputs": [],
   "source": [
    "from tensorflow import keras"
   ]
  },
  {
   "cell_type": "code",
   "execution_count": 3,
   "id": "5484ab9f-8bcc-4643-80c7-a574a455543b",
   "metadata": {},
   "outputs": [],
   "source": [
    "from tensorflow.keras.datasets import mnist"
   ]
  },
  {
   "cell_type": "code",
   "execution_count": 4,
   "id": "411569c2-bc9b-487d-b83d-5409b9570887",
   "metadata": {},
   "outputs": [],
   "source": [
    "from tensorflow.keras import layers"
   ]
  },
  {
   "cell_type": "code",
   "execution_count": 5,
   "id": "775a7ad6-7b10-4923-b9e5-5326355550bc",
   "metadata": {},
   "outputs": [],
   "source": [
    "def get_mnist_model():\n",
    "    inputs = keras.Input(shape=(28*28,))\n",
    "    features = layers.Dense(512, activation='relu')(inputs)\n",
    "    features = layers.Dropout(0.5)(features)\n",
    "    output = layers.Dense(10, activation='softmax')(features)\n",
    "    \n",
    "    Model = keras.Model(inputs = inputs, outputs = output)\n",
    "    return Model"
   ]
  },
  {
   "cell_type": "code",
   "execution_count": 6,
   "id": "80b3a68a-357e-41c0-8b46-9f3d93b4c37a",
   "metadata": {},
   "outputs": [],
   "source": [
    "(images , labels), (test_images, test_labels) = mnist.load_data()"
   ]
  },
  {
   "cell_type": "code",
   "execution_count": 7,
   "id": "7fe62bfe-2f6c-4b86-9eda-6d91c9558f6a",
   "metadata": {},
   "outputs": [],
   "source": [
    "### reshape images\n",
    "images = images.reshape((60000, 28*28)).astype(\"float32\") / 255\n",
    "test_images = test_images.reshape((10000, 28*28)).astype(\"float32\") / 255"
   ]
  },
  {
   "cell_type": "code",
   "execution_count": 8,
   "id": "439f7719-1e60-466d-b0dc-c87aaafd8bee",
   "metadata": {},
   "outputs": [
    {
     "data": {
      "text/plain": [
       "60000"
      ]
     },
     "execution_count": 8,
     "metadata": {},
     "output_type": "execute_result"
    }
   ],
   "source": [
    "len(images)"
   ]
  },
  {
   "cell_type": "code",
   "execution_count": 9,
   "id": "d226ce2d-ab4b-460a-9e16-23a56c220873",
   "metadata": {},
   "outputs": [],
   "source": [
    "train_images, val_images = images[10000:], images[:10000]\n",
    "train_labels, val_labels = labels[10000:], labels[:10000]"
   ]
  },
  {
   "cell_type": "code",
   "execution_count": 10,
   "id": "6cf3d0b4-c4ff-4ad1-bfbd-77e7a312d8cc",
   "metadata": {},
   "outputs": [],
   "source": [
    "model = get_mnist_model()"
   ]
  },
  {
   "cell_type": "code",
   "execution_count": 11,
   "id": "97949f8f-5b19-4f70-b24d-93d0e73e7e45",
   "metadata": {},
   "outputs": [],
   "source": [
    "model.compile(optimizer=\"rmsprop\", \n",
    "     loss=\"sparse_categorical_crossentropy\", \n",
    "     metrics=[\"accuracy\"]) "
   ]
  },
  {
   "cell_type": "code",
   "execution_count": 12,
   "id": "ed4a3e99-4db4-4097-b06f-0805c90c8ced",
   "metadata": {},
   "outputs": [
    {
     "name": "stdout",
     "output_type": "stream",
     "text": [
      "Epoch 1/3\n",
      "1563/1563 [==============================] - 43s 27ms/step - loss: 0.2936 - accuracy: 0.9129 - val_loss: 0.1484 - val_accuracy: 0.9578\n",
      "Epoch 2/3\n",
      "1563/1563 [==============================] - 39s 25ms/step - loss: 0.1656 - accuracy: 0.9536 - val_loss: 0.1277 - val_accuracy: 0.9669\n",
      "Epoch 3/3\n",
      "1563/1563 [==============================] - 37s 24ms/step - loss: 0.1369 - accuracy: 0.9637 - val_loss: 0.1158 - val_accuracy: 0.9706\n"
     ]
    },
    {
     "data": {
      "text/plain": [
       "<keras.callbacks.History at 0x23a2973d5d0>"
      ]
     },
     "execution_count": 12,
     "metadata": {},
     "output_type": "execute_result"
    }
   ],
   "source": [
    "model.fit(train_images, train_labels, \n",
    "     epochs=3, \n",
    "     validation_data=(val_images, val_labels)) "
   ]
  },
  {
   "cell_type": "code",
   "execution_count": 13,
   "id": "31a16093-7a94-4d13-a91d-8ccafbb0d666",
   "metadata": {},
   "outputs": [
    {
     "name": "stdout",
     "output_type": "stream",
     "text": [
      "313/313 [==============================] - 3s 10ms/step - loss: 0.1057 - accuracy: 0.9714\n"
     ]
    }
   ],
   "source": [
    "test_metrics = model.evaluate(test_images, test_labels) \n"
   ]
  },
  {
   "cell_type": "code",
   "execution_count": 14,
   "id": "b5dfe97c-3b8e-431d-a975-cdd91046c677",
   "metadata": {},
   "outputs": [
    {
     "name": "stdout",
     "output_type": "stream",
     "text": [
      "313/313 [==============================] - 3s 9ms/step\n"
     ]
    }
   ],
   "source": [
    "predictions = model.predict(test_images)"
   ]
  },
  {
   "cell_type": "code",
   "execution_count": null,
   "id": "e1643c2c-b4c1-4527-a182-aacb879bbd37",
   "metadata": {},
   "outputs": [],
   "source": []
  },
  {
   "cell_type": "markdown",
   "id": "64ed3c6b-55ba-411f-896e-7b615f5ff40c",
   "metadata": {},
   "source": [
    "##  Implementing a custom metric by subclassing the Metric class"
   ]
  },
  {
   "cell_type": "code",
   "execution_count": 15,
   "id": "72fc565c-0edb-4ad7-8660-b07ae9c072a4",
   "metadata": {},
   "outputs": [],
   "source": [
    "import tensorflow as tf"
   ]
  },
  {
   "cell_type": "code",
   "execution_count": 16,
   "id": "d81505bf-fd66-463d-aca9-5a132de7b069",
   "metadata": {},
   "outputs": [],
   "source": [
    "class RootMeanSquarredError(keras.metrics.Metric):\n",
    "    def __init__(self, name=\"rmse\", **kwargs):\n",
    "        super().__init__(name=name, **kwargs)\n",
    "        self.mse_sum = self.add_weight(name = \"mse_sum\", initializer=\"zeros\")\n",
    "        self.total_samples = self.add_weight(name=\"total_samples\", initializer=\"zeros\", dtype = \"int32\")\n",
    "        \n",
    "    def update_state(self, y_true, y_pred , sample_weight = None):\n",
    "        y_true = tf.one_hot(y_true, depth =tf.shape(y_pred)[1])\n",
    "        mse = tf.reduce_sum(tf.square(y_true - y_pred))\n",
    "        self.mse_sum.assign_add(mse)\n",
    "        num_samples = tf.shape(y_pred)[0]\n",
    "        self.total_samples.assign_add(num_samples)\n",
    "        \n",
    "    def result(self):\n",
    "        return tf.sqrt(self.mse_sum / tf.cast(self.total_samples, tf.float32))\n",
    "    \n",
    "    def reset_state(self):\n",
    "        self.mse_sum.assign(0.)\n",
    "        self.total_samples.assign(0)\n",
    "        "
   ]
  },
  {
   "cell_type": "code",
   "execution_count": 17,
   "id": "ab5cdb31-31e6-467b-a139-badd95d09d36",
   "metadata": {},
   "outputs": [],
   "source": [
    "RMSE = RootMeanSquarredError()"
   ]
  },
  {
   "cell_type": "code",
   "execution_count": 18,
   "id": "5b4213df-5770-4f49-ab8c-631472245ee7",
   "metadata": {},
   "outputs": [],
   "source": [
    "model = get_mnist_model()"
   ]
  },
  {
   "cell_type": "code",
   "execution_count": 19,
   "id": "3f79cf71-1644-4b29-9eb9-95c3cfb388e5",
   "metadata": {},
   "outputs": [],
   "source": [
    "model.compile(optimizer=\"rmsprop\",\n",
    "             loss=\"sparse_categorical_crossentropy\",\n",
    "             metrics= [\"Accuracy\",RMSE ])"
   ]
  },
  {
   "cell_type": "code",
   "execution_count": 20,
   "id": "8537af85-2cd8-4bef-8360-e6150fed11e1",
   "metadata": {},
   "outputs": [
    {
     "name": "stdout",
     "output_type": "stream",
     "text": [
      "Epoch 1/3\n",
      "1563/1563 [==============================] - 45s 27ms/step - loss: 0.2950 - Accuracy: 0.9122 - rmse: 7.1822 - val_loss: 0.1592 - val_Accuracy: 0.9541 - val_rmse: 7.3576\n",
      "Epoch 2/3\n",
      "1563/1563 [==============================] - 40s 26ms/step - loss: 0.1673 - Accuracy: 0.9533 - rmse: 7.3567 - val_loss: 0.1262 - val_Accuracy: 0.9658 - val_rmse: 7.4025\n",
      "Epoch 3/3\n",
      "1563/1563 [==============================] - 41s 27ms/step - loss: 0.1392 - Accuracy: 0.9629 - rmse: 7.3876 - val_loss: 0.1122 - val_Accuracy: 0.9698 - val_rmse: 7.4229\n"
     ]
    },
    {
     "data": {
      "text/plain": [
       "<keras.callbacks.History at 0x23a26a74b80>"
      ]
     },
     "execution_count": 20,
     "metadata": {},
     "output_type": "execute_result"
    }
   ],
   "source": [
    "model.fit(train_images, train_labels,\n",
    "         epochs = 3,\n",
    "         validation_data =( val_images, val_labels))"
   ]
  },
  {
   "cell_type": "code",
   "execution_count": 21,
   "id": "984c6d7a-cf32-4e0f-896c-f617553f2577",
   "metadata": {},
   "outputs": [
    {
     "name": "stdout",
     "output_type": "stream",
     "text": [
      "313/313 [==============================] - 3s 11ms/step - loss: 0.1062 - Accuracy: 0.9719 - rmse: 7.4317\n"
     ]
    }
   ],
   "source": [
    "test_metrics = model.evaluate(test_images, test_labels)\n"
   ]
  },
  {
   "cell_type": "markdown",
   "id": "9c592b92-f9d0-4a65-b790-218662862a9e",
   "metadata": {},
   "source": [
    "## Using callbacks"
   ]
  },
  {
   "cell_type": "markdown",
   "id": "4889479b-1abd-4777-8b43-6d1e1fde1f87",
   "metadata": {},
   "source": [
    "### Using the callbacks argument in the fit() method"
   ]
  },
  {
   "cell_type": "code",
   "execution_count": 22,
   "id": "46b3656a-1eb2-4d99-ab07-81b9dd87a096",
   "metadata": {},
   "outputs": [],
   "source": [
    "callbacks_list = [ \n",
    "         keras.callbacks.EarlyStopping( \n",
    "         monitor=\"val_accuracy\", \n",
    "         patience=2, \n",
    "         ),\n",
    "         keras.callbacks.ModelCheckpoint( \n",
    "         filepath=\"checkpoint_path.keras\", \n",
    "         monitor=\"val_loss\", \n",
    "         save_best_only=True, \n",
    "     )\n",
    "                ]"
   ]
  },
  {
   "cell_type": "code",
   "execution_count": 23,
   "id": "9da01a3a-6fde-4fdb-b28c-b6c127ff7e8a",
   "metadata": {},
   "outputs": [],
   "source": [
    "model = get_mnist_model()"
   ]
  },
  {
   "cell_type": "code",
   "execution_count": 24,
   "id": "18d6c637-29bc-4ddb-a894-d7bf22e9d867",
   "metadata": {},
   "outputs": [],
   "source": [
    "model.compile(optimizer=\"rmsprop\",\n",
    "             loss= \"sparse_categorical_crossentropy\",\n",
    "             metrics = ['accuracy'])"
   ]
  },
  {
   "cell_type": "code",
   "execution_count": 25,
   "id": "ab859c83-7858-4242-a0c5-1de591792109",
   "metadata": {},
   "outputs": [
    {
     "name": "stdout",
     "output_type": "stream",
     "text": [
      "Epoch 1/3\n",
      "1563/1563 [==============================] - 40s 24ms/step - loss: 0.2953 - accuracy: 0.9125 - val_loss: 0.1475 - val_accuracy: 0.9567\n",
      "Epoch 2/3\n",
      "1563/1563 [==============================] - 43s 28ms/step - loss: 0.1644 - accuracy: 0.9535 - val_loss: 0.1232 - val_accuracy: 0.9680\n",
      "Epoch 3/3\n",
      "1563/1563 [==============================] - 44s 28ms/step - loss: 0.1401 - accuracy: 0.9622 - val_loss: 0.1066 - val_accuracy: 0.9713\n"
     ]
    },
    {
     "data": {
      "text/plain": [
       "<keras.callbacks.History at 0x23a2af2b2b0>"
      ]
     },
     "execution_count": 25,
     "metadata": {},
     "output_type": "execute_result"
    }
   ],
   "source": [
    "model.fit(train_images, train_labels, \n",
    "     epochs=3, \n",
    "     callbacks=callbacks_list, \n",
    "     validation_data=(val_images, val_labels)) "
   ]
  },
  {
   "cell_type": "code",
   "execution_count": 26,
   "id": "3588fde9-384c-42af-9f4b-ec3a232e92fb",
   "metadata": {},
   "outputs": [],
   "source": [
    "model = keras.models.load_model(\"checkpoint_path.keras\")"
   ]
  },
  {
   "cell_type": "code",
   "execution_count": 27,
   "id": "184326d0-b8b4-4978-b45e-917ce55b45b6",
   "metadata": {},
   "outputs": [
    {
     "name": "stdout",
     "output_type": "stream",
     "text": [
      "313/313 [==============================] - 3s 9ms/step - loss: 0.1028 - accuracy: 0.9732\n"
     ]
    }
   ],
   "source": [
    "test_metrics = model.evaluate(test_images, test_labels)\n"
   ]
  },
  {
   "cell_type": "markdown",
   "id": "28b3e4a3-7acc-4508-9717-3e5072934e52",
   "metadata": {},
   "source": [
    "## Writing your own callbacks"
   ]
  },
  {
   "cell_type": "code",
   "execution_count": 28,
   "id": "359af2ab-8e34-4912-96b3-34b61ed2278e",
   "metadata": {},
   "outputs": [],
   "source": [
    "from matplotlib import pyplot as plt"
   ]
  },
  {
   "cell_type": "code",
   "execution_count": 29,
   "id": "657f8a5a-567d-4bc5-a10c-27f7dc1b7a6b",
   "metadata": {},
   "outputs": [],
   "source": [
    "class LossHistory(keras.callbacks.Callback):\n",
    "    def on_train_begin(self, logs):\n",
    "        self.per_batch_losses = []\n",
    "        \n",
    "    def on_batch_end(self,batch,logs):\n",
    "        self.per_batch_losses.append(logs.get(\"loss\"))\n",
    "        \n",
    "    def on_epoch_end(self, epoch, logs):\n",
    "         plt.clf()\n",
    "         plt.plot(range(len(self.per_batch_losses)), self.per_batch_losses, label=\"Training loss for each batch\")\n",
    "        \n",
    "         plt.xlabel(f\"Batch (epoch {epoch})\")\n",
    "         plt.ylabel(\"Loss\")\n",
    "         plt.legend()\n",
    "         plt.savefig(f\"plot_at_epoch_{epoch}\")\n",
    "        \n",
    "         self.per_batch_losses = []"
   ]
  },
  {
   "cell_type": "code",
   "execution_count": 30,
   "id": "292fcdbd-36a7-42e1-92c2-7fda8e50aec1",
   "metadata": {},
   "outputs": [
    {
     "name": "stdout",
     "output_type": "stream",
     "text": [
      "Epoch 1/3\n",
      "1563/1563 [==============================] - 47s 29ms/step - loss: 0.3018 - accuracy: 0.9115 - val_loss: 0.1439 - val_accuracy: 0.9597\n",
      "Epoch 2/3\n",
      "1563/1563 [==============================] - 39s 25ms/step - loss: 0.1614 - accuracy: 0.9537 - val_loss: 0.1230 - val_accuracy: 0.9665\n",
      "Epoch 3/3\n",
      "1563/1563 [==============================] - 38s 24ms/step - loss: 0.1415 - accuracy: 0.9636 - val_loss: 0.1145 - val_accuracy: 0.9682\n"
     ]
    },
    {
     "data": {
      "text/plain": [
       "<keras.callbacks.History at 0x23a29542a10>"
      ]
     },
     "execution_count": 30,
     "metadata": {},
     "output_type": "execute_result"
    },
    {
     "data": {
      "image/png": "[encoded data removed]",
      "text/plain": [
       "<Figure size 640x480 with 1 Axes>"
      ]
     },
     "metadata": {},
     "output_type": "display_data"
    }
   ],
   "source": [
    "model = get_mnist_model()\n",
    "\n",
    "model.compile(optimizer=\"rmsprop\",\n",
    "     loss=\"sparse_categorical_crossentropy\",\n",
    "     metrics=[\"accuracy\"])\n",
    "\n",
    "model.fit(train_images, train_labels,\n",
    "     epochs=3,\n",
    "     callbacks=[LossHistory()],\n",
    "     validation_data=(val_images, val_labels))"
   ]
  },
  {
   "cell_type": "code",
   "execution_count": null,
   "id": "470facb3-354d-447b-9793-c68221ffb052",
   "metadata": {},
   "outputs": [],
   "source": []
  },
  {
   "cell_type": "markdown",
   "id": "cab4d85a-4af6-4c91-9fc9-fa7395535921",
   "metadata": {},
   "source": [
    "##  Monitoring and visualization with TensorBoard"
   ]
  },
  {
   "cell_type": "code",
   "execution_count": null,
   "id": "7191e8bf-59a0-47c0-a67f-4179736b15a0",
   "metadata": {},
   "outputs": [],
   "source": []
  },
  {
   "cell_type": "code",
   "execution_count": 31,
   "id": "dbf336d8-10a0-4502-8d59-1c3e45c49fab",
   "metadata": {},
   "outputs": [],
   "source": [
    "model = get_mnist_model()"
   ]
  },
  {
   "cell_type": "code",
   "execution_count": 32,
   "id": "17f55c09-60ef-4742-946a-7df448abe1ad",
   "metadata": {},
   "outputs": [],
   "source": [
    "model.compile(optimizer = 'rmsprop',\n",
    "             loss='sparse_categorical_crossentropy',\n",
    "             metrics=['Accuracy'])"
   ]
  },
  {
   "cell_type": "code",
   "execution_count": 33,
   "id": "8339fa9a-85d6-4fd6-8318-f9687d7f8f32",
   "metadata": {},
   "outputs": [],
   "source": [
    "tensorboard = keras.callbacks.TensorBoard(\n",
    " log_dir=\"/tensorboard/logs\",\n",
    ")"
   ]
  },
  {
   "cell_type": "code",
   "execution_count": 34,
   "id": "a013ea7b-080b-46e8-9422-4863f000e74c",
   "metadata": {},
   "outputs": [
    {
     "name": "stdout",
     "output_type": "stream",
     "text": [
      "Epoch 1/10\n",
      "1563/1563 [==============================] - 40s 24ms/step - loss: 0.2939 - Accuracy: 0.9133 - val_loss: 0.1536 - val_Accuracy: 0.9576\n",
      "Epoch 2/10\n",
      "1563/1563 [==============================] - 40s 25ms/step - loss: 0.1652 - Accuracy: 0.9536 - val_loss: 0.1309 - val_Accuracy: 0.9669\n",
      "Epoch 3/10\n",
      "1563/1563 [==============================] - 40s 26ms/step - loss: 0.1419 - Accuracy: 0.9634 - val_loss: 0.1086 - val_Accuracy: 0.9727\n",
      "Epoch 4/10\n",
      "1563/1563 [==============================] - 40s 26ms/step - loss: 0.1244 - Accuracy: 0.9676 - val_loss: 0.1081 - val_Accuracy: 0.9735\n",
      "Epoch 5/10\n",
      "1563/1563 [==============================] - 40s 25ms/step - loss: 0.1185 - Accuracy: 0.9707 - val_loss: 0.1104 - val_Accuracy: 0.9749\n",
      "Epoch 6/10\n",
      "1563/1563 [==============================] - 41s 26ms/step - loss: 0.1065 - Accuracy: 0.9741 - val_loss: 0.1222 - val_Accuracy: 0.9752\n",
      "Epoch 7/10\n",
      "1563/1563 [==============================] - 37s 24ms/step - loss: 0.1073 - Accuracy: 0.9746 - val_loss: 0.1138 - val_Accuracy: 0.9755\n",
      "Epoch 8/10\n",
      "1563/1563 [==============================] - 48s 30ms/step - loss: 0.0985 - Accuracy: 0.9765 - val_loss: 0.1246 - val_Accuracy: 0.9750\n",
      "Epoch 9/10\n",
      "1563/1563 [==============================] - 49s 31ms/step - loss: 0.0950 - Accuracy: 0.9776 - val_loss: 0.1215 - val_Accuracy: 0.9772\n",
      "Epoch 10/10\n",
      "1563/1563 [==============================] - 44s 28ms/step - loss: 0.0949 - Accuracy: 0.9790 - val_loss: 0.1205 - val_Accuracy: 0.9778\n"
     ]
    },
    {
     "data": {
      "text/plain": [
       "<keras.callbacks.History at 0x23a3180fd00>"
      ]
     },
     "execution_count": 34,
     "metadata": {},
     "output_type": "execute_result"
    }
   ],
   "source": [
    "model.fit(train_images, train_labels,\n",
    "     epochs=10,\n",
    "     validation_data=(val_images, val_labels),\n",
    "     callbacks=[tensorboard])"
   ]
  },
  {
   "cell_type": "code",
   "execution_count": null,
   "id": "2086d29a-b8ef-4e13-8fcb-4ec958217732",
   "metadata": {},
   "outputs": [],
   "source": []
  },
  {
   "cell_type": "code",
   "execution_count": null,
   "id": "d5d36d6a-ea9e-4ec1-8873-1200a07d67a6",
   "metadata": {},
   "outputs": [],
   "source": []
  },
  {
   "cell_type": "code",
   "execution_count": 35,
   "id": "fb7fe338-e3eb-44b1-8365-1848fa838f20",
   "metadata": {},
   "outputs": [],
   "source": []
  },
  {
   "cell_type": "code",
   "execution_count": null,
   "id": "de4b91c5-8aa7-42e3-b730-bf5567ffffa0",
   "metadata": {},
   "outputs": [],
   "source": []
  }
 ],
 "metadata": {
  "kernelspec": {
   "display_name": "Python 3 (ipykernel)",
   "language": "python",
   "name": "python3"
  },
  "language_info": {
   "codemirror_mode": {
    "name": "ipython",
    "version": 3
   },
   "file_extension": ".py",
   "mimetype": "text/x-python",
   "name": "python",
   "nbconvert_exporter": "python",
   "pygments_lexer": "ipython3",
   "version": "3.10.6"
  }
 },
 "nbformat": 4,
 "nbformat_minor": 5
}
